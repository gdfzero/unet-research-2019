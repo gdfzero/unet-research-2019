{
  "nbformat": 4,
  "nbformat_minor": 0,
  "metadata": {
    "colab": {
      "name": "unet_dncnn_colab.ipynb",
      "version": "0.3.2",
      "provenance": [],
      "collapsed_sections": [],
      "machine_shape": "hm"
    },
    "kernelspec": {
      "name": "python3",
      "display_name": "Python 3"
    },
    "accelerator": "GPU"
  },
  "cells": [
    {
      "cell_type": "code",
      "metadata": {
        "id": "rnIvzBt4eVg-",
        "colab_type": "code",
        "outputId": "df668ec0-b71d-46bf-f565-1786239795c2",
        "colab": {
          "base_uri": "https://localhost:8080/",
          "height": 124
        }
      },
      "source": [
        "\n",
        "from google.colab import drive\n",
        "drive.mount('/content/drive')"
      ],
      "execution_count": 2,
      "outputs": [
        {
          "output_type": "stream",
          "text": [
            "Go to this URL in a browser: https://accounts.google.com/o/oauth2/auth?client_id=947318989803-6bn6qk8qdgf4n4g3pfee6491hc0brc4i.apps.googleusercontent.com&redirect_uri=urn%3Aietf%3Awg%3Aoauth%3A2.0%3Aoob&scope=email%20https%3A%2F%2Fwww.googleapis.com%2Fauth%2Fdocs.test%20https%3A%2F%2Fwww.googleapis.com%2Fauth%2Fdrive%20https%3A%2F%2Fwww.googleapis.com%2Fauth%2Fdrive.photos.readonly%20https%3A%2F%2Fwww.googleapis.com%2Fauth%2Fpeopleapi.readonly&response_type=code\n",
            "\n",
            "Enter your authorization code:\n",
            "··········\n",
            "Mounted at /content/drive\n"
          ],
          "name": "stdout"
        }
      ]
    },
    {
      "cell_type": "markdown",
      "metadata": {
        "id": "h9X2TUMa3zfN",
        "colab_type": "text"
      },
      "source": [
        ""
      ]
    },
    {
      "cell_type": "code",
      "metadata": {
        "id": "m-MW8CAZfUBR",
        "colab_type": "code",
        "colab": {}
      },
      "source": [
        "\n",
        "import os\n",
        "\n",
        "import zipfile\n",
        "import random\n",
        "import tensorflow as tf\n",
        "from tensorflow.keras.optimizers import RMSprop\n",
        "from tensorflow.keras.preprocessing.image import ImageDataGenerator\n",
        "from shutil import copyfile\n",
        "import numpy as np\n",
        "\n",
        "import matplotlib.pyplot as plt\n",
        "import matplotlib.image as mpimg\n",
        "from keras.layers import Concatenate\n",
        "from keras.models import Sequential\n",
        "import keras\n",
        "from keras.layers import Conv2D, MaxPooling2D, Input, Dense, BatchNormalization, Activation\n",
        "from keras.models import Model\n",
        "import matplotlib.image as mpimg\n",
        "from glob import glob\n",
        "from keras.layers.convolutional import Conv2DTranspose\n",
        "from keras.layers import concatenate\n",
        "import struct\n"
      ],
      "execution_count": 0,
      "outputs": []
    },
    {
      "cell_type": "code",
      "metadata": {
        "id": "v3XwCo5FflJ5",
        "colab_type": "code",
        "outputId": "2789c490-5c95-4ffc-dc06-cdb3da38481f",
        "colab": {
          "base_uri": "https://localhost:8080/",
          "height": 52
        }
      },
      "source": [
        "# print(len(os.listdir('/content/drive/My Drive/Colab Notebooks/CT_data/sparseview_60/train')))\n",
        "# print(len(os.listdir('/content/drive/My Drive/Colab Notebooks/CT_data/ndct/train')))\n",
        "# # 3600\n",
        "# # 3600"
      ],
      "execution_count": 0,
      "outputs": [
        {
          "output_type": "stream",
          "text": [
            "3600\n",
            "3600\n"
          ],
          "name": "stdout"
        }
      ]
    },
    {
      "cell_type": "code",
      "metadata": {
        "id": "3k7OOZb2fsF0",
        "colab_type": "code",
        "outputId": "760c3ea7-1c2d-4dab-d18e-90aa7e98f2c3",
        "colab": {
          "base_uri": "https://localhost:8080/",
          "height": 52
        }
      },
      "source": [
        "# print(len(os.listdir('/content/drive/My Drive/Colab Notebooks/CT_data/sparseview_60/test/')))\n",
        "# print(len(os.listdir('/content/drive/My Drive/Colab Notebooks/CT_data/ndct/test/')))\n",
        "# # 354\n",
        "# # 354"
      ],
      "execution_count": 0,
      "outputs": [
        {
          "output_type": "stream",
          "text": [
            "354\n",
            "354\n"
          ],
          "name": "stdout"
        }
      ]
    },
    {
      "cell_type": "code",
      "metadata": {
        "id": "Wp18zNh9ylg2",
        "colab_type": "code",
        "outputId": "6f35dde7-2460-44f8-b806-167db4114937",
        "colab": {
          "base_uri": "https://localhost:8080/",
          "height": 86
        }
      },
      "source": [
        "# ndct = sorted(glob('/content/drive/My Drive/Colab Notebooks/CT_data/ndct/train/*'))\n",
        "# ldct = sorted(glob('/content/drive/My Drive/Colab Notebooks/CT_data/sparseview_60/train/*'))\n",
        "\n",
        "# ndct_test = sorted(glob('/content/drive/My Drive/Colab Notebooks/CT_data/ndct/test/*'))\n",
        "# ldct_test = sorted(glob('/content/drive/My Drive/Colab Notebooks/CT_data/sparseview_60/test/*'))\n",
        "\n",
        "# print(len(ndct))\n",
        "# print(len(ldct))\n",
        "# print(len(ndct_test))\n",
        "# print(len(ldct_test))"
      ],
      "execution_count": 0,
      "outputs": [
        {
          "output_type": "stream",
          "text": [
            "3600\n",
            "3600\n",
            "354\n",
            "354\n"
          ],
          "name": "stdout"
        }
      ]
    },
    {
      "cell_type": "code",
      "metadata": {
        "id": "R3JzsEPJxjjX",
        "colab_type": "code",
        "colab": {}
      },
      "source": [
        "def cal_psnr(im1, im2):\n",
        "    # assert pixel value range is 0-255 and type is uint8\n",
        "    mse = ((im1.astype(np.float) - im2.astype(np.float)) ** 2).mean()\n",
        "    maxval = np.amax(im1)\n",
        "    psnr = 10 * np.log10(maxval ** 2 / mse)\n",
        "    return psnr\n",
        "\n",
        "def tf_psnr(im1, im2):\n",
        "    # assert pixel value range is 0-1\n",
        "    #mse = tf.losses.mean_squared_error(labels=im2 * 255.0, predictions=im1 * 255.0)\n",
        "    mse = tf.compat.v1.losses.mean_squared_error(labels=im2 * 255.0, predictions=im1 * 255.0)\n",
        "    return 10.0 * (tf.log(255.0 ** 2 / mse) / tf.log(10.0))"
      ],
      "execution_count": 0,
      "outputs": []
    },
    {
      "cell_type": "code",
      "metadata": {
        "id": "qoWtZ9Atydt6",
        "colab_type": "code",
        "colab": {}
      },
      "source": [
        ""
      ],
      "execution_count": 0,
      "outputs": []
    },
    {
      "cell_type": "code",
      "metadata": {
        "id": "cl-9hN83yRFM",
        "colab_type": "code",
        "outputId": "8ceb0b73-9e6a-47fb-b689-f0d8f6701f7f",
        "colab": {
          "base_uri": "https://localhost:8080/",
          "height": 35
        }
      },
      "source": [
        "# ndct_imgs_train = []\n",
        "# for i in range(0, len(ndct)):                                                                                                                                      \n",
        "# #for i in range(0, 1600):\n",
        "#     f = open(ndct[i],'rb')\n",
        "#     a = np.fromfile(f, np.float32)\n",
        "#     ndct_imgs_train.append(a)\n",
        "#     f.close()\n",
        "# print(\"len(ndct_imgs_train)....: \",len(ndct_imgs_train))\n",
        "                                                                                                                                                         "
      ],
      "execution_count": 0,
      "outputs": [
        {
          "output_type": "stream",
          "text": [
            "len(ndct_imgs_train)....:  3600\n"
          ],
          "name": "stdout"
        }
      ]
    },
    {
      "cell_type": "code",
      "metadata": {
        "id": "4bqck35HDWv7",
        "colab_type": "code",
        "outputId": "50b668a1-2545-42d8-8040-d3969528ddda",
        "colab": {
          "base_uri": "https://localhost:8080/",
          "height": 35
        }
      },
      "source": [
        "# ldct_imgs_train = []\n",
        "# for i in range(0, len(ldct)):\n",
        "# #for i in range(0, 1600):\n",
        "#     f = open(ldct[i],'rb')\n",
        "#     a = np.fromfile(f, np.float32)\n",
        "#     ldct_imgs_train.append(a)\n",
        "#     f.close()\n",
        "# print(\"len(ldct_imgs_train)....: \",len(ldct_imgs_train))"
      ],
      "execution_count": 0,
      "outputs": [
        {
          "output_type": "stream",
          "text": [
            "len(ldct_imgs_train)....:  3600\n"
          ],
          "name": "stdout"
        }
      ]
    },
    {
      "cell_type": "code",
      "metadata": {
        "id": "TFycVaUqDP6F",
        "colab_type": "code",
        "outputId": "0ee93c6f-e855-4e4b-b3fb-62deb4f0006f",
        "colab": {
          "base_uri": "https://localhost:8080/",
          "height": 35
        }
      },
      "source": [
        "# ndct_imgs_test = []\n",
        "# for i in range(0, len(ndct_test)):\n",
        "# #for i in range(0, 10):\n",
        "#     f = open(ndct_test[i],'rb')\n",
        "#     a = np.fromfile(f, np.float32)\n",
        "#     ndct_imgs_test.append(a)\n",
        "#     f.close()\n",
        "# print(\"len(ndct_imgs_test)....: \",len(ndct_imgs_test))\n"
      ],
      "execution_count": 0,
      "outputs": [
        {
          "output_type": "stream",
          "text": [
            "len(ndct_imgs_test)....:  354\n"
          ],
          "name": "stdout"
        }
      ]
    },
    {
      "cell_type": "code",
      "metadata": {
        "id": "6bhvYILZDZ8Z",
        "colab_type": "code",
        "outputId": "ce0e3e0e-ca94-438a-81f6-15a0afdf0ffd",
        "colab": {
          "base_uri": "https://localhost:8080/",
          "height": 35
        }
      },
      "source": [
        "# # load the image\n",
        "# ldct_imgs_test = []\n",
        "# for i in range(0, len(ldct_test)):\n",
        "# #for i in range(0, 10):\n",
        "#     f = open(ldct_test[i],'rb')\n",
        "#     a = np.fromfile(f, np.float32)\n",
        "#     ldct_imgs_test.append(a)\n",
        "#     f.close()\n",
        "# print(\"len(ldct_imgs_test)....: \",len(ldct_imgs_test))\n"
      ],
      "execution_count": 0,
      "outputs": [
        {
          "output_type": "stream",
          "text": [
            "len(ldct_imgs_test)....:  354\n"
          ],
          "name": "stdout"
        }
      ]
    },
    {
      "cell_type": "code",
      "metadata": {
        "id": "hvTUFGsCz_UF",
        "colab_type": "code",
        "outputId": "8dd45367-acd7-43a2-86f0-08e356108ab6",
        "colab": {
          "base_uri": "https://localhost:8080/",
          "height": 86
        }
      },
      "source": [
        "# ldct_train = np.asarray(ldct_imgs_train)\n",
        "# ndct_train = np.asarray(ndct_imgs_train)\n",
        "\n",
        "# ldct_train = ldct_train.reshape(3600,512,512,1)\n",
        "# ndct_train = ndct_train.reshape(3600,512,512,1)\n",
        "\n",
        "# ldct_test = np.asarray(ldct_imgs_test)\n",
        "# ndct_test = np.asarray(ndct_imgs_test)\n",
        "\n",
        "# ldct_test = ldct_test.reshape(len(ldct_imgs_test),512,512,1)\n",
        "# ndct_test = ndct_test.reshape(len(ldct_imgs_test),512,512,1)\n",
        "\n",
        "# print(ldct_train.shape)\n",
        "# print(ndct_train.shape)\n",
        "# print(ldct_test.shape)\n",
        "# print(ndct_test.shape)\n"
      ],
      "execution_count": 0,
      "outputs": [
        {
          "output_type": "stream",
          "text": [
            "(3600, 512, 512, 1)\n",
            "(3600, 512, 512, 1)\n",
            "(354, 512, 512, 1)\n",
            "(354, 512, 512, 1)\n"
          ],
          "name": "stdout"
        }
      ]
    },
    {
      "cell_type": "code",
      "metadata": {
        "id": "LOJhl1q0WWOJ",
        "colab_type": "code",
        "colab": {}
      },
      "source": [
        "# np.save('sparseview_60_train', ldct_train) # save the file as \"sparseview_60_train.npy\" \n",
        "# np.save('ndct_train', ndct_train) # save the file as \"ndct_train.npy\" \n",
        "\n",
        "# np.save('sparseview_60_test', ldct_test) # save the file as \"sparseview_60_test.npy\" \n",
        "# np.save('ndct_test', ndct_test) # save the file as \"ndct_test.npy\" \n"
      ],
      "execution_count": 0,
      "outputs": []
    },
    {
      "cell_type": "code",
      "metadata": {
        "id": "BvRfSaiGWfko",
        "colab_type": "code",
        "colab": {}
      },
      "source": [
        "sparseview_60_train = np.load('/content/drive/My Drive/Colab Notebooks/dncnn_keras_colab_notebook/sparseview_60_train.npy') # loads saved array into variable sparseview_60_train.\n",
        "ndct_train = np.load('/content/drive/My Drive/Colab Notebooks/dncnn_keras_colab_notebook/ndct_train.npy') # loads saved array into variable ndct_train.\n",
        "sparseview_60_test = np.load('/content/drive/My Drive/Colab Notebooks/dncnn_keras_colab_notebook/sparseview_60_test.npy') # loads saved array into variable sparseview_60_test.\n",
        "ndct_test = np.load('/content/drive/My Drive/Colab Notebooks/dncnn_keras_colab_notebook/ndct_test.npy') # loads saved array into variable ndct_test.\n",
        "\n",
        "# sparseview_60_train = np.load('sparseview_60_train.npy') # loads saved array into variable sparseview_60_train.\n",
        "# ndct_train = np.load('ndct_train.npy') # loads saved array into variable ndct_train.\n",
        "# sparseview_60_test = np.load('sparseview_60_test.npy') # loads saved array into variable sparseview_60_test.\n",
        "# ndct_test = np.load('ndct_test.npy') # loads saved array into variable ndct_test.\n"
      ],
      "execution_count": 0,
      "outputs": []
    },
    {
      "cell_type": "code",
      "metadata": {
        "id": "_KPySRIgHrLC",
        "colab_type": "code",
        "colab": {}
      },
      "source": [
        "class LossHistory(keras.callbacks.Callback):\n",
        "    def on_train_begin(self, logs={}):\n",
        "        self.losses = []\n",
        "\n",
        "    def on_batch_end(self, batch, logs={}):\n",
        "        self.losses.append(logs.get('loss'))\n",
        "history = LossHistory()"
      ],
      "execution_count": 0,
      "outputs": []
    },
    {
      "cell_type": "markdown",
      "metadata": {
        "id": "ajaV_6Kd4FOE",
        "colab_type": "text"
      },
      "source": [
        "Basic UNet model\n"
      ]
    },
    {
      "cell_type": "code",
      "metadata": {
        "id": "0Q5LNGHLHvi0",
        "colab_type": "code",
        "colab": {
          "base_uri": "https://localhost:8080/",
          "height": 279
        },
        "outputId": "f01342f1-1732-49ed-8314-3cfb93aa6d5a"
      },
      "source": [
        "inputs = Input((None, None,1))\n",
        "\n",
        "c1 = Conv2D(8, (3, 3), activation='relu', padding='same') (inputs)\n",
        "c1 = Conv2D(8, (3, 3), activation='relu', padding='same') (c1)\n",
        "p1 = MaxPooling2D((2, 2)) (c1)\n",
        "\n",
        "c2 = Conv2D(16, (3, 3), activation='relu', padding='same') (p1)\n",
        "c2 = Conv2D(16, (3, 3), activation='relu', padding='same') (c2)\n",
        "p2 = MaxPooling2D((2, 2)) (c2)\n",
        "\n",
        "c3 = Conv2D(32, (3, 3), activation='relu', padding='same') (p2)\n",
        "c3 = Conv2D(32, (3, 3), activation='relu', padding='same') (c3)\n",
        "p3 = MaxPooling2D((2, 2)) (c3)\n",
        "\n",
        "\n",
        "c5 = Conv2D(64, (3, 3), activation='relu', padding='same') (p3)\n",
        "c5 = Conv2D(64, (3, 3), activation='relu', padding='same') (c5)\n",
        "p5 = MaxPooling2D(pool_size=(2, 2)) (c5)\n",
        "\n",
        "c55 = Conv2D(128, (3, 3), activation='relu', padding='same') (p5)\n",
        "c55 = Conv2D(128, (3, 3), activation='relu', padding='same') (c55)\n",
        "\n",
        "u6 = Conv2DTranspose(64, (2, 2), strides=(2, 2), padding='same') (c55)\n",
        "u6 = concatenate([u6, c5])\n",
        "c6 = Conv2D(64, (3, 3), activation='relu', padding='same') (u6)\n",
        "c6 = Conv2D(64, (3, 3), activation='relu', padding='same') (c6)\n",
        "\n",
        "\n",
        "u7 = Conv2DTranspose(32, (2, 2), strides=(2, 2), padding='same') (c6)\n",
        "u7 = concatenate([u7, c3])\n",
        "c7 = Conv2D(32, (3, 3), activation='relu', padding='same') (u7)\n",
        "c7 = Conv2D(32, (3, 3), activation='relu', padding='same') (c7)\n",
        "\n",
        "u8 = Conv2DTranspose(16, (2, 2), strides=(2, 2), padding='same') (c7)\n",
        "u8 = concatenate([u8, c2])\n",
        "c8 = Conv2D(16, (3, 3), activation='relu', padding='same') (u8)\n",
        "c8 = Conv2D(16, (3, 3), activation='relu', padding='same') (c8)\n",
        "\n",
        "u9 = Conv2DTranspose(8, (2, 2), strides=(2, 2), padding='same') (c8)\n",
        "u9 = concatenate([u9, c1], axis=3)\n",
        "c9 = Conv2D(8, (3, 3), activation='relu', padding='same') (u9)\n",
        "c9 = Conv2D(8, (3, 3), activation='relu', padding='same') (c9)\n",
        "\n",
        "output_img = Conv2D(1, (1, 1)) (c9)\n",
        "subtracted = keras.layers.Subtract()([inputs, output_img])\n",
        "\n",
        "\n",
        "model = Model(inputs=[inputs], outputs=[subtracted])\n",
        "model.compile(optimizer='adam', loss='mse', metrics=[tf_psnr])\n",
        "\n"
      ],
      "execution_count": 12,
      "outputs": [
        {
          "output_type": "stream",
          "text": [
            "WARNING: Logging before flag parsing goes to stderr.\n",
            "W0828 23:33:32.659701 139733858330496 deprecation_wrapper.py:119] From /usr/local/lib/python3.6/dist-packages/keras/backend/tensorflow_backend.py:74: The name tf.get_default_graph is deprecated. Please use tf.compat.v1.get_default_graph instead.\n",
            "\n",
            "W0828 23:33:32.736740 139733858330496 deprecation_wrapper.py:119] From /usr/local/lib/python3.6/dist-packages/keras/backend/tensorflow_backend.py:517: The name tf.placeholder is deprecated. Please use tf.compat.v1.placeholder instead.\n",
            "\n",
            "W0828 23:33:32.756325 139733858330496 deprecation_wrapper.py:119] From /usr/local/lib/python3.6/dist-packages/keras/backend/tensorflow_backend.py:4138: The name tf.random_uniform is deprecated. Please use tf.random.uniform instead.\n",
            "\n",
            "W0828 23:33:32.804158 139733858330496 deprecation_wrapper.py:119] From /usr/local/lib/python3.6/dist-packages/keras/backend/tensorflow_backend.py:3976: The name tf.nn.max_pool is deprecated. Please use tf.nn.max_pool2d instead.\n",
            "\n",
            "W0828 23:33:33.193057 139733858330496 deprecation_wrapper.py:119] From /usr/local/lib/python3.6/dist-packages/keras/optimizers.py:790: The name tf.train.Optimizer is deprecated. Please use tf.compat.v1.train.Optimizer instead.\n",
            "\n",
            "W0828 23:33:33.234146 139733858330496 deprecation.py:323] From /usr/local/lib/python3.6/dist-packages/tensorflow/python/ops/losses/losses_impl.py:121: add_dispatch_support.<locals>.wrapper (from tensorflow.python.ops.array_ops) is deprecated and will be removed in a future version.\n",
            "Instructions for updating:\n",
            "Use tf.where in 2.0, which has the same broadcast rule as np.where\n"
          ],
          "name": "stderr"
        }
      ]
    },
    {
      "cell_type": "code",
      "metadata": {
        "id": "KwakL58UqR9t",
        "colab_type": "code",
        "colab": {}
      },
      "source": [
        ""
      ],
      "execution_count": 0,
      "outputs": []
    },
    {
      "cell_type": "markdown",
      "metadata": {
        "id": "3_0-gbVL4Oim",
        "colab_type": "text"
      },
      "source": [
        "Validation is set to zero because I wanted to use all my data to train and from previouse training experience I learned that the model doesn't overfit in 50 epochs."
      ]
    },
    {
      "cell_type": "code",
      "metadata": {
        "id": "7tnYyMioIBzB",
        "colab_type": "code",
        "outputId": "eed1e3d6-ab68-4c14-90a2-cccd8813725d",
        "colab": {
          "base_uri": "https://localhost:8080/",
          "height": 1000
        }
      },
      "source": [
        "model.fit(sparseview_60_train, ndct_train, validation_split=0, batch_size=30, epochs=50, callbacks=[history])\n"
      ],
      "execution_count": 13,
      "outputs": [
        {
          "output_type": "stream",
          "text": [
            "W0828 23:33:51.348612 139733858330496 deprecation_wrapper.py:119] From /usr/local/lib/python3.6/dist-packages/keras/backend/tensorflow_backend.py:986: The name tf.assign_add is deprecated. Please use tf.compat.v1.assign_add instead.\n",
            "\n",
            "W0828 23:33:51.804110 139733858330496 deprecation_wrapper.py:119] From /usr/local/lib/python3.6/dist-packages/keras/backend/tensorflow_backend.py:973: The name tf.assign is deprecated. Please use tf.compat.v1.assign instead.\n",
            "\n"
          ],
          "name": "stderr"
        },
        {
          "output_type": "stream",
          "text": [
            "Epoch 1/50\n",
            "3600/3600 [==============================] - 80s 22ms/step - loss: 8.7188e-04 - tf_psnr: 30.8687\n",
            "Epoch 2/50\n",
            "3600/3600 [==============================] - 70s 19ms/step - loss: 4.5796e-04 - tf_psnr: 33.4164\n",
            "Epoch 3/50\n",
            "3600/3600 [==============================] - 70s 19ms/step - loss: 3.5245e-04 - tf_psnr: 34.5403\n",
            "Epoch 4/50\n",
            "3600/3600 [==============================] - 70s 19ms/step - loss: 2.9943e-04 - tf_psnr: 35.2502\n",
            "Epoch 5/50\n",
            "3600/3600 [==============================] - 70s 19ms/step - loss: 2.6655e-04 - tf_psnr: 35.7505\n",
            "Epoch 6/50\n",
            "3600/3600 [==============================] - 70s 19ms/step - loss: 2.4715e-04 - tf_psnr: 36.0786\n",
            "Epoch 7/50\n",
            "3600/3600 [==============================] - 70s 19ms/step - loss: 2.3188e-04 - tf_psnr: 36.3577\n",
            "Epoch 8/50\n",
            "3600/3600 [==============================] - 70s 19ms/step - loss: 2.2414e-04 - tf_psnr: 36.5058\n",
            "Epoch 9/50\n",
            "3600/3600 [==============================] - 70s 19ms/step - loss: 2.1013e-04 - tf_psnr: 36.7851\n",
            "Epoch 10/50\n",
            "3600/3600 [==============================] - 70s 19ms/step - loss: 2.0244e-04 - tf_psnr: 36.9455\n",
            "Epoch 11/50\n",
            "3600/3600 [==============================] - 70s 19ms/step - loss: 1.9692e-04 - tf_psnr: 37.0675\n",
            "Epoch 12/50\n",
            "3600/3600 [==============================] - 70s 19ms/step - loss: 1.9059e-04 - tf_psnr: 37.2073\n",
            "Epoch 13/50\n",
            "3600/3600 [==============================] - 70s 19ms/step - loss: 1.8528e-04 - tf_psnr: 37.3322\n",
            "Epoch 14/50\n",
            "3600/3600 [==============================] - 70s 19ms/step - loss: 1.8268e-04 - tf_psnr: 37.3917\n",
            "Epoch 15/50\n",
            "3600/3600 [==============================] - 70s 19ms/step - loss: 1.7702e-04 - tf_psnr: 37.5271\n",
            "Epoch 16/50\n",
            "3600/3600 [==============================] - 70s 19ms/step - loss: 1.7397e-04 - tf_psnr: 37.6021\n",
            "Epoch 17/50\n",
            "3600/3600 [==============================] - 70s 19ms/step - loss: 1.6999e-04 - tf_psnr: 37.7050\n",
            "Epoch 18/50\n",
            "3600/3600 [==============================] - 70s 19ms/step - loss: 1.6881e-04 - tf_psnr: 37.7358\n",
            "Epoch 19/50\n",
            "3600/3600 [==============================] - 70s 19ms/step - loss: 1.6468e-04 - tf_psnr: 37.8432\n",
            "Epoch 20/50\n",
            "3600/3600 [==============================] - 70s 19ms/step - loss: 1.6154e-04 - tf_psnr: 37.9260\n",
            "Epoch 21/50\n",
            "3600/3600 [==============================] - 70s 19ms/step - loss: 1.5991e-04 - tf_psnr: 37.9697\n",
            "Epoch 22/50\n",
            "3600/3600 [==============================] - 70s 19ms/step - loss: 1.6037e-04 - tf_psnr: 37.9601\n",
            "Epoch 23/50\n",
            "3600/3600 [==============================] - 70s 19ms/step - loss: 1.5578e-04 - tf_psnr: 38.0875\n",
            "Epoch 24/50\n",
            "3600/3600 [==============================] - 70s 19ms/step - loss: 1.5433e-04 - tf_psnr: 38.1245\n",
            "Epoch 25/50\n",
            "3600/3600 [==============================] - 70s 19ms/step - loss: 1.5507e-04 - tf_psnr: 38.1079\n",
            "Epoch 26/50\n",
            "3600/3600 [==============================] - 70s 19ms/step - loss: 1.4960e-04 - tf_psnr: 38.2586\n",
            "Epoch 27/50\n",
            "3600/3600 [==============================] - 70s 19ms/step - loss: 1.4905e-04 - tf_psnr: 38.2742\n",
            "Epoch 28/50\n",
            "3600/3600 [==============================] - 70s 19ms/step - loss: 1.4751e-04 - tf_psnr: 38.3216\n",
            "Epoch 29/50\n",
            "3600/3600 [==============================] - 70s 19ms/step - loss: 1.4620e-04 - tf_psnr: 38.3585\n",
            "Epoch 30/50\n",
            "3600/3600 [==============================] - 70s 19ms/step - loss: 1.4542e-04 - tf_psnr: 38.3822\n",
            "Epoch 31/50\n",
            "3600/3600 [==============================] - 70s 19ms/step - loss: 1.4470e-04 - tf_psnr: 38.4015\n",
            "Epoch 32/50\n",
            "3600/3600 [==============================] - 70s 19ms/step - loss: 1.4542e-04 - tf_psnr: 38.3859\n",
            "Epoch 33/50\n",
            "3600/3600 [==============================] - 70s 19ms/step - loss: 1.3974e-04 - tf_psnr: 38.5533\n",
            "Epoch 34/50\n",
            "3600/3600 [==============================] - 70s 19ms/step - loss: 1.4345e-04 - tf_psnr: 38.4502\n",
            "Epoch 35/50\n",
            "3600/3600 [==============================] - 70s 19ms/step - loss: 1.3799e-04 - tf_psnr: 38.6097\n",
            "Epoch 36/50\n",
            "3600/3600 [==============================] - 70s 19ms/step - loss: 1.3839e-04 - tf_psnr: 38.5986\n",
            "Epoch 37/50\n",
            "3600/3600 [==============================] - 70s 19ms/step - loss: 1.3697e-04 - tf_psnr: 38.6427\n",
            "Epoch 38/50\n",
            "3600/3600 [==============================] - 70s 19ms/step - loss: 1.3865e-04 - tf_psnr: 38.5929\n",
            "Epoch 39/50\n",
            "3600/3600 [==============================] - 70s 19ms/step - loss: 1.3579e-04 - tf_psnr: 38.6791\n",
            "Epoch 40/50\n",
            "3600/3600 [==============================] - 70s 19ms/step - loss: 1.3486e-04 - tf_psnr: 38.7090\n",
            "Epoch 41/50\n",
            "3600/3600 [==============================] - 70s 19ms/step - loss: 1.3393e-04 - tf_psnr: 38.7389\n",
            "Epoch 42/50\n",
            "3600/3600 [==============================] - 70s 19ms/step - loss: 1.3266e-04 - tf_psnr: 38.7799\n",
            "Epoch 43/50\n",
            "3600/3600 [==============================] - 70s 19ms/step - loss: 1.3305e-04 - tf_psnr: 38.7672\n",
            "Epoch 44/50\n",
            "3600/3600 [==============================] - 70s 19ms/step - loss: 1.3192e-04 - tf_psnr: 38.8041\n",
            "Epoch 45/50\n",
            "3600/3600 [==============================] - 70s 19ms/step - loss: 1.3075e-04 - tf_psnr: 38.8435\n",
            "Epoch 46/50\n",
            "3600/3600 [==============================] - 70s 19ms/step - loss: 1.3215e-04 - tf_psnr: 38.8047\n",
            "Epoch 47/50\n",
            "3600/3600 [==============================] - 70s 19ms/step - loss: 1.2892e-04 - tf_psnr: 38.9044\n",
            "Epoch 48/50\n",
            "3600/3600 [==============================] - 70s 19ms/step - loss: 1.2923e-04 - tf_psnr: 38.8943\n",
            "Epoch 49/50\n",
            "3600/3600 [==============================] - 70s 19ms/step - loss: 1.2760e-04 - tf_psnr: 38.9469\n",
            "Epoch 50/50\n",
            "3600/3600 [==============================] - 70s 19ms/step - loss: 1.2825e-04 - tf_psnr: 38.9277\n"
          ],
          "name": "stdout"
        },
        {
          "output_type": "execute_result",
          "data": {
            "text/plain": [
              "<keras.callbacks.History at 0x7f15f4a36a58>"
            ]
          },
          "metadata": {
            "tags": []
          },
          "execution_count": 13
        }
      ]
    },
    {
      "cell_type": "code",
      "metadata": {
        "id": "BQ9H9nfFIIka",
        "colab_type": "code",
        "outputId": "87ae4386-b271-4476-dbe9-43c6dc0be70a",
        "colab": {
          "base_uri": "https://localhost:8080/",
          "height": 35
        }
      },
      "source": [
        "reconstructed = model.predict(sparseview_60_test)\n",
        "psnr = cal_psnr(ndct_test, reconstructed)\n",
        "print(\"psnr 50 epochs.....\",psnr)\n"
      ],
      "execution_count": 14,
      "outputs": [
        {
          "output_type": "stream",
          "text": [
            "psnr 50 epochs..... 37.96383834661668\n"
          ],
          "name": "stdout"
        }
      ]
    },
    {
      "cell_type": "markdown",
      "metadata": {
        "id": "GuXqn-Btv8Mc",
        "colab_type": "text"
      },
      "source": [
        "Original UNet (without bn)\n",
        "psnr 50 epochs..... 37.96383834661668"
      ]
    },
    {
      "cell_type": "markdown",
      "metadata": {
        "id": "HHURAoyOrwvj",
        "colab_type": "text"
      },
      "source": [
        ""
      ]
    },
    {
      "cell_type": "code",
      "metadata": {
        "id": "qEv6-uh2IP-D",
        "colab_type": "code",
        "colab": {}
      },
      "source": [
        "from PIL import Image\n",
        "\n",
        "a = reconstructed[12].reshape(512, 512)\n",
        "scalef = np.amax(a)\n",
        "a = np.clip(255 * a/scalef, 0, 255).astype('uint8')\n",
        "#result = Image.fromarray((a * 255).astype(np.uint8))                                                                                                \n",
        "result = Image.fromarray((a).astype(np.uint8))\n",
        "result.save('rec_orig_0_50.png')\n",
        "result.save('/content/drive/My Drive/Colab Notebooks/dncnn_keras_colab_notebook/rec_orig_0_50.png')\n"
      ],
      "execution_count": 0,
      "outputs": []
    },
    {
      "cell_type": "markdown",
      "metadata": {
        "id": "vPsC3_4Mm1WR",
        "colab_type": "text"
      },
      "source": [
        "UNet model with batch normalization"
      ]
    },
    {
      "cell_type": "code",
      "metadata": {
        "id": "i4BOUprimzui",
        "colab_type": "code",
        "colab": {}
      },
      "source": [
        "inputs = Input((None, None,1))\n",
        "c1 = Conv2D(8, (3, 3), padding='same') (inputs)\n",
        "c1 = BatchNormalization()(c1)\n",
        "c1 = Activation('relu')(c1)\n",
        "\n",
        "c1 = Conv2D(8, (3, 3), padding='same') (c1)\n",
        "c1 = BatchNormalization()(c1)\n",
        "c1 = Activation('relu')(c1)\n",
        "\n",
        "p1 = MaxPooling2D((2, 2)) (c1)\n",
        "\n",
        "c2 = Conv2D(16, (3, 3), padding='same') (p1)\n",
        "c2 = BatchNormalization()(c2)\n",
        "c2 = Activation('relu')(c2)\n",
        "\n",
        "c2 = Conv2D(16, (3, 3), padding='same') (c2)\n",
        "c2 = BatchNormalization()(c2)\n",
        "c2 = Activation('relu')(c2)\n",
        "\n",
        "p2 = MaxPooling2D((2, 2)) (c2)\n",
        "\n",
        "c3 = Conv2D(32, (3, 3), padding='same') (p2)\n",
        "c3 = BatchNormalization()(c3)\n",
        "c3 = Activation('relu')(c3)\n",
        "\n",
        "c3 = Conv2D(32, (3, 3), padding='same') (c3)\n",
        "c3 = BatchNormalization()(c3)\n",
        "c3 = Activation('relu')(c3)\n",
        "\n",
        "p3 = MaxPooling2D((2, 2)) (c3)\n",
        "\n",
        "c5 = Conv2D(64, (3, 3), padding='same') (p3)\n",
        "c5 = BatchNormalization()(c5)\n",
        "c5 = Activation('relu')(c5)\n",
        "\n",
        "c5 = Conv2D(64, (3, 3), padding='same') (c5)\n",
        "c5 = BatchNormalization()(c5)\n",
        "c5 = Activation('relu')(c5)\n",
        "\n",
        "p5 = MaxPooling2D(pool_size=(2, 2)) (c5)\n",
        "\n",
        "c55 = Conv2D(128, (3, 3), padding='same') (p5)\n",
        "c55 = BatchNormalization()(c55)\n",
        "c55 = Activation('relu')(c55)\n",
        "\n",
        "c55 = Conv2D(128, (3, 3), padding='same') (c55)\n",
        "c55 = BatchNormalization()(c55)\n",
        "c55 = Activation('relu')(c55)\n",
        "\n",
        "u6 = Conv2DTranspose(64, (2, 2), strides=(2, 2), padding='same') (c55)\n",
        "u6 = concatenate([u6, c5])\n",
        "\n",
        "c6 = Conv2D(64, (3, 3), padding='same') (u6)\n",
        "c6 = BatchNormalization()(c6)\n",
        "c6 = Activation('relu')(c6)\n",
        "\n",
        "c6 = Conv2D(64, (3, 3), padding='same') (c6)\n",
        "c6 = BatchNormalization()(c6)\n",
        "c6 = Activation('relu')(c6)\n",
        "\n",
        "u7 = Conv2DTranspose(32, (2, 2), strides=(2, 2), padding='same') (c6)\n",
        "u7 = concatenate([u7, c3])\n",
        "\n",
        "c7 = Conv2D(32, (3, 3), padding='same') (u7)\n",
        "c7 = BatchNormalization()(c7)\n",
        "c7 = Activation('relu')(c7)\n",
        "\n",
        "c7 = Conv2D(32, (3, 3), padding='same') (c7)\n",
        "c7 = BatchNormalization()(c7)\n",
        "c7 = Activation('relu')(c7)\n",
        "\n",
        "u8 = Conv2DTranspose(16, (2, 2), strides=(2, 2), padding='same') (c7)\n",
        "u8 = concatenate([u8, c2])\n",
        "\n",
        "c8 = Conv2D(16, (3, 3), padding='same') (u8)\n",
        "c8 = BatchNormalization()(c8)\n",
        "c8 = Activation('relu')(c8)\n",
        "\n",
        "c8 = Conv2D(16, (3, 3), padding='same') (c8)\n",
        "c8 = BatchNormalization()(c8)\n",
        "c8 = Activation('relu')(c8)\n",
        "\n",
        "u9 = Conv2DTranspose(8, (2, 2), strides=(2, 2), padding='same') (c8)\n",
        "u9 = concatenate([u9, c1], axis=3)\n",
        "\n",
        "c9 = Conv2D(8, (3, 3), padding='same') (u9)\n",
        "c9 = BatchNormalization()(c9)\n",
        "c9 = Activation('relu')(c9)\n",
        "\n",
        "c9 = Conv2D(8, (3, 3), padding='same') (c9)\n",
        "c9 = BatchNormalization()(c9)\n",
        "c9 = Activation('relu')(c9)\n",
        "\n",
        "output_img = Conv2D(1, (1, 1)) (c9)\n",
        "subtracted = keras.layers.Subtract()([inputs, output_img])\n",
        "\n",
        "\n",
        "bn_model = Model(inputs=[inputs], outputs=[subtracted])\n",
        "bn_model.compile(optimizer='adam', loss='mse', metrics=[tf_psnr])\n"
      ],
      "execution_count": 0,
      "outputs": []
    },
    {
      "cell_type": "code",
      "metadata": {
        "id": "WN7Lj9uJm60J",
        "colab_type": "code",
        "colab": {
          "base_uri": "https://localhost:8080/",
          "height": 1000
        },
        "outputId": "333cded0-766c-41fe-c467-97bd68adfa4b"
      },
      "source": [
        "bn_model.fit(sparseview_60_train, ndct_train, validation_split=0, batch_size=30, epochs=50, callbacks=[history])\n",
        "reconstructed = bn_model.predict(sparseview_60_test)\n",
        "psnr = cal_psnr(ndct_test, reconstructed)\n",
        "print(\"psnr 50 epochs.....\",psnr)\n"
      ],
      "execution_count": 23,
      "outputs": [
        {
          "output_type": "stream",
          "text": [
            "Epoch 1/50\n",
            "3600/3600 [==============================] - 100s 28ms/step - loss: 0.0338 - tf_psnr: 21.1071\n",
            "Epoch 2/50\n",
            "3600/3600 [==============================] - 93s 26ms/step - loss: 0.0022 - tf_psnr: 26.5148\n",
            "Epoch 3/50\n",
            "3600/3600 [==============================] - 93s 26ms/step - loss: 0.0017 - tf_psnr: 27.7585\n",
            "Epoch 4/50\n",
            "3600/3600 [==============================] - 93s 26ms/step - loss: 0.0014 - tf_psnr: 28.6007\n",
            "Epoch 5/50\n",
            "3600/3600 [==============================] - 93s 26ms/step - loss: 0.0012 - tf_psnr: 29.3030\n",
            "Epoch 6/50\n",
            "3600/3600 [==============================] - 93s 26ms/step - loss: 0.0011 - tf_psnr: 29.7664\n",
            "Epoch 7/50\n",
            "3600/3600 [==============================] - 93s 26ms/step - loss: 9.9255e-04 - tf_psnr: 30.0367\n",
            "Epoch 8/50\n",
            "3600/3600 [==============================] - 93s 26ms/step - loss: 9.1964e-04 - tf_psnr: 30.3679\n",
            "Epoch 9/50\n",
            "3600/3600 [==============================] - 93s 26ms/step - loss: 8.5706e-04 - tf_psnr: 30.6748\n",
            "Epoch 10/50\n",
            "3600/3600 [==============================] - 93s 26ms/step - loss: 7.9640e-04 - tf_psnr: 30.9940\n",
            "Epoch 11/50\n",
            "3600/3600 [==============================] - 93s 26ms/step - loss: 7.5221e-04 - tf_psnr: 31.2417\n",
            "Epoch 12/50\n",
            "3600/3600 [==============================] - 93s 26ms/step - loss: 7.1321e-04 - tf_psnr: 31.4737\n",
            "Epoch 13/50\n",
            "3600/3600 [==============================] - 93s 26ms/step - loss: 6.8374e-04 - tf_psnr: 31.6562\n",
            "Epoch 14/50\n",
            "3600/3600 [==============================] - 93s 26ms/step - loss: 6.4980e-04 - tf_psnr: 31.8771\n",
            "Epoch 15/50\n",
            "3600/3600 [==============================] - 93s 26ms/step - loss: 6.1565e-04 - tf_psnr: 32.1118\n",
            "Epoch 16/50\n",
            "3600/3600 [==============================] - 93s 26ms/step - loss: 5.8122e-04 - tf_psnr: 32.3629\n",
            "Epoch 17/50\n",
            "3600/3600 [==============================] - 93s 26ms/step - loss: 5.5754e-04 - tf_psnr: 32.5431\n",
            "Epoch 18/50\n",
            "3600/3600 [==============================] - 93s 26ms/step - loss: 5.2293e-04 - tf_psnr: 32.8228\n",
            "Epoch 19/50\n",
            "3600/3600 [==============================] - 93s 26ms/step - loss: 4.8743e-04 - tf_psnr: 33.1275\n",
            "Epoch 20/50\n",
            "3600/3600 [==============================] - 93s 26ms/step - loss: 4.4785e-04 - tf_psnr: 33.4940\n",
            "Epoch 21/50\n",
            "3600/3600 [==============================] - 93s 26ms/step - loss: 4.1477e-04 - tf_psnr: 33.8279\n",
            "Epoch 22/50\n",
            "3600/3600 [==============================] - 93s 26ms/step - loss: 3.9433e-04 - tf_psnr: 34.0491\n",
            "Epoch 23/50\n",
            "3600/3600 [==============================] - 93s 26ms/step - loss: 3.8119e-04 - tf_psnr: 34.1995\n",
            "Epoch 24/50\n",
            "3600/3600 [==============================] - 93s 26ms/step - loss: 3.5602e-04 - tf_psnr: 34.4935\n",
            "Epoch 25/50\n",
            "3600/3600 [==============================] - 93s 26ms/step - loss: 3.4254e-04 - tf_psnr: 34.6596\n",
            "Epoch 26/50\n",
            "3600/3600 [==============================] - 93s 26ms/step - loss: 3.2825e-04 - tf_psnr: 34.8465\n",
            "Epoch 27/50\n",
            "3600/3600 [==============================] - 93s 26ms/step - loss: 3.1486e-04 - tf_psnr: 35.0248\n",
            "Epoch 28/50\n",
            "3600/3600 [==============================] - 93s 26ms/step - loss: 3.0963e-04 - tf_psnr: 35.1005\n",
            "Epoch 29/50\n",
            "3600/3600 [==============================] - 93s 26ms/step - loss: 3.0395e-04 - tf_psnr: 35.1803\n",
            "Epoch 30/50\n",
            "3600/3600 [==============================] - 93s 26ms/step - loss: 2.8969e-04 - tf_psnr: 35.3890\n",
            "Epoch 31/50\n",
            "3600/3600 [==============================] - 93s 26ms/step - loss: 2.8135e-04 - tf_psnr: 35.5139\n",
            "Epoch 32/50\n",
            "3600/3600 [==============================] - 93s 26ms/step - loss: 2.7634e-04 - tf_psnr: 35.5960\n",
            "Epoch 33/50\n",
            "3600/3600 [==============================] - 93s 26ms/step - loss: 2.7213e-04 - tf_psnr: 35.6609\n",
            "Epoch 34/50\n",
            "3600/3600 [==============================] - 93s 26ms/step - loss: 2.6126e-04 - tf_psnr: 35.8363\n",
            "Epoch 35/50\n",
            "3600/3600 [==============================] - 93s 26ms/step - loss: 2.5476e-04 - tf_psnr: 35.9443\n",
            "Epoch 36/50\n",
            "3600/3600 [==============================] - 93s 26ms/step - loss: 2.5463e-04 - tf_psnr: 35.9495\n",
            "Epoch 37/50\n",
            "3600/3600 [==============================] - 93s 26ms/step - loss: 2.5137e-04 - tf_psnr: 36.0051\n",
            "Epoch 38/50\n",
            "3600/3600 [==============================] - 93s 26ms/step - loss: 2.4844e-04 - tf_psnr: 36.0609\n",
            "Epoch 39/50\n",
            "3600/3600 [==============================] - 93s 26ms/step - loss: 2.3877e-04 - tf_psnr: 36.2290\n",
            "Epoch 40/50\n",
            "3600/3600 [==============================] - 93s 26ms/step - loss: 2.3746e-04 - tf_psnr: 36.2522\n",
            "Epoch 41/50\n",
            "3600/3600 [==============================] - 93s 26ms/step - loss: 2.6679e-04 - tf_psnr: 35.8097\n",
            "Epoch 42/50\n",
            "3600/3600 [==============================] - 93s 26ms/step - loss: 2.4742e-04 - tf_psnr: 36.0800\n",
            "Epoch 43/50\n",
            "3600/3600 [==============================] - 93s 26ms/step - loss: 2.2986e-04 - tf_psnr: 36.3940\n",
            "Epoch 44/50\n",
            "3600/3600 [==============================] - 93s 26ms/step - loss: 2.3256e-04 - tf_psnr: 36.3510\n",
            "Epoch 45/50\n",
            "3600/3600 [==============================] - 93s 26ms/step - loss: 2.2254e-04 - tf_psnr: 36.5354\n",
            "Epoch 46/50\n",
            "3600/3600 [==============================] - 93s 26ms/step - loss: 2.1427e-04 - tf_psnr: 36.6990\n",
            "Epoch 47/50\n",
            "3600/3600 [==============================] - 93s 26ms/step - loss: 2.1208e-04 - tf_psnr: 36.7489\n",
            "Epoch 48/50\n",
            "3600/3600 [==============================] - 93s 26ms/step - loss: 2.4200e-04 - tf_psnr: 36.1913\n",
            "Epoch 49/50\n",
            "3600/3600 [==============================] - 93s 26ms/step - loss: 2.1170e-04 - tf_psnr: 36.7511\n",
            "Epoch 50/50\n",
            "3600/3600 [==============================] - 93s 26ms/step - loss: 2.1097e-04 - tf_psnr: 36.7671\n",
            "psnr 50 epochs..... 35.87923776473124\n"
          ],
          "name": "stdout"
        }
      ]
    },
    {
      "cell_type": "markdown",
      "metadata": {
        "id": "hVF3xzsH1OpL",
        "colab_type": "text"
      },
      "source": [
        "UNet with bn psnr 50 epochs..... 35.87923776473124"
      ]
    },
    {
      "cell_type": "code",
      "metadata": {
        "id": "UpB4c6sbx1Aq",
        "colab_type": "code",
        "colab": {}
      },
      "source": [
        "#from PIL import Image\n",
        "\n",
        "a = reconstructed[12].reshape(512, 512)\n",
        "scalef = np.amax(a)\n",
        "a = np.clip(255 * a/scalef, 0, 255).astype('uint8')\n",
        "#result = Image.fromarray((a * 255).astype(np.uint8))                                                                                                \n",
        "result = Image.fromarray((a).astype(np.uint8))\n",
        "result.save('rec_unet_bn_12_50.png')\n",
        "result.save('/content/drive/My Drive/Colab Notebooks/dncnn_keras_colab_notebook/rec_unet_bn_12_50.png')\n",
        "\n"
      ],
      "execution_count": 0,
      "outputs": []
    },
    {
      "cell_type": "markdown",
      "metadata": {
        "id": "Lv0FCmCaGsuE",
        "colab_type": "text"
      },
      "source": [
        "Added axis to the batch normalization c1 = BatchNormalization(axis=-1)(c1) but negative one didn't produce goog results. I expected to see the same output as above with axis=-1 but the output was very bad. Decided to change axis=-2 and training went faster. We are suppose to normalize per channel and I need to figure out why axis=-1 is not working out for this problem. I tried axis=-2 just to see what will happen.  axis=-2 is a wrong way to do batch normalization."
      ]
    },
    {
      "cell_type": "code",
      "metadata": {
        "id": "rHKtY6CGGmpf",
        "colab_type": "code",
        "colab": {}
      },
      "source": [
        "inputs = Input((None, 512, 1))\n",
        "c1 = Conv2D(8, (3, 3), padding='same') (inputs)\n",
        "c1 = BatchNormalization(axis=-2)(c1)\n",
        "c1 = Activation('relu')(c1)\n",
        "\n",
        "c1 = Conv2D(8, (3, 3), padding='same') (c1)\n",
        "c1 = BatchNormalization(axis=-2)(c1)\n",
        "c1 = Activation('relu')(c1)\n",
        "\n",
        "p1 = MaxPooling2D((2, 2)) (c1)\n",
        "\n",
        "c2 = Conv2D(16, (3, 3), padding='same') (p1)\n",
        "c2 = BatchNormalization(axis=-2)(c2)\n",
        "c2 = Activation('relu')(c2)\n",
        "\n",
        "c2 = Conv2D(16, (3, 3), padding='same') (c2)\n",
        "c2 = BatchNormalization(axis=-2)(c2)\n",
        "c2 = Activation('relu')(c2)\n",
        "\n",
        "p2 = MaxPooling2D((2, 2)) (c2)\n",
        "\n",
        "c3 = Conv2D(32, (3, 3), padding='same') (p2)\n",
        "c3 = BatchNormalization(axis=-2)(c3)\n",
        "c3 = Activation('relu')(c3)\n",
        "\n",
        "c3 = Conv2D(32, (3, 3), padding='same') (c3)\n",
        "c3 = BatchNormalization(axis=-2)(c3)\n",
        "c3 = Activation('relu')(c3)\n",
        "\n",
        "p3 = MaxPooling2D((2, 2)) (c3)\n",
        "\n",
        "c5 = Conv2D(64, (3, 3), padding='same') (p3)\n",
        "c5 = BatchNormalization(axis=-2)(c5)\n",
        "c5 = Activation('relu')(c5)\n",
        "\n",
        "c5 = Conv2D(64, (3, 3), padding='same') (c5)\n",
        "c5 = BatchNormalization(axis=-2)(c5)\n",
        "c5 = Activation('relu')(c5)\n",
        "\n",
        "p5 = MaxPooling2D(pool_size=(2, 2)) (c5)\n",
        "\n",
        "c55 = Conv2D(128, (3, 3), padding='same') (p5)\n",
        "c55 = BatchNormalization(axis=-2)(c55)\n",
        "c55 = Activation('relu')(c55)\n",
        "\n",
        "c55 = Conv2D(128, (3, 3), padding='same') (c55)\n",
        "c55 = BatchNormalization(axis=-2)(c55)\n",
        "c55 = Activation('relu')(c55)\n",
        "\n",
        "u6 = Conv2DTranspose(64, (2, 2), strides=(2, 2), padding='same') (c55)\n",
        "u6 = concatenate([u6, c5])\n",
        "\n",
        "c6 = Conv2D(64, (3, 3), padding='same') (u6)\n",
        "c6 = BatchNormalization(axis=-2)(c6)\n",
        "c6 = Activation('relu')(c6)\n",
        "\n",
        "c6 = Conv2D(64, (3, 3), padding='same') (c6)\n",
        "c6 = BatchNormalization(axis=-2)(c6)\n",
        "c6 = Activation('relu')(c6)\n",
        "\n",
        "u7 = Conv2DTranspose(32, (2, 2), strides=(2, 2), padding='same') (c6)\n",
        "u7 = concatenate([u7, c3])\n",
        "\n",
        "c7 = Conv2D(32, (3, 3), padding='same') (u7)\n",
        "c7 = BatchNormalization(axis=-2)(c7)\n",
        "c7 = Activation('relu')(c7)\n",
        "\n",
        "c7 = Conv2D(32, (3, 3), padding='same') (c7)\n",
        "c7 = BatchNormalization(axis=-2)(c7)\n",
        "c7 = Activation('relu')(c7)\n",
        "\n",
        "u8 = Conv2DTranspose(16, (2, 2), strides=(2, 2), padding='same') (c7)\n",
        "u8 = concatenate([u8, c2])\n",
        "\n",
        "c8 = Conv2D(16, (3, 3), padding='same') (u8)\n",
        "c8 = BatchNormalization(axis=-2)(c8)\n",
        "c8 = Activation('relu')(c8)\n",
        "\n",
        "c8 = Conv2D(16, (3, 3), padding='same') (c8)\n",
        "c8 = BatchNormalization(axis=-2)(c8)\n",
        "c8 = Activation('relu')(c8)\n",
        "\n",
        "u9 = Conv2DTranspose(8, (2, 2), strides=(2, 2), padding='same') (c8)\n",
        "u9 = concatenate([u9, c1], axis=3)\n",
        "\n",
        "c9 = Conv2D(8, (3, 3), padding='same') (u9)\n",
        "c9 = BatchNormalization(axis=-2)(c9)\n",
        "c9 = Activation('relu')(c9)\n",
        "\n",
        "c9 = Conv2D(8, (3, 3), padding='same') (c9)\n",
        "c9 = BatchNormalization(axis=-2)(c9)\n",
        "c9 = Activation('relu')(c9)\n",
        "\n",
        "output_img = Conv2D(1, (1, 1)) (c9)\n",
        "subtracted = keras.layers.Subtract()([inputs, output_img])\n",
        "\n",
        "\n",
        "unet_bn_axis_model = Model(inputs=[inputs], outputs=[subtracted])\n",
        "unet_bn_axis_model.compile(optimizer='adam', loss='mse', metrics=[tf_psnr])\n"
      ],
      "execution_count": 0,
      "outputs": []
    },
    {
      "cell_type": "code",
      "metadata": {
        "id": "J6uQISTTLH3N",
        "colab_type": "code",
        "colab": {
          "base_uri": "https://localhost:8080/",
          "height": 1000
        },
        "outputId": "9408111d-2b2c-4352-ca7f-b2efd744bf52"
      },
      "source": [
        "unet_bn_axis_model.fit(sparseview_60_train, ndct_train, validation_split=0, batch_size=30, epochs=50, callbacks=[history])\n"
      ],
      "execution_count": 56,
      "outputs": [
        {
          "output_type": "stream",
          "text": [
            "Epoch 1/50\n",
            "3600/3600 [==============================] - 162s 45ms/step - loss: 0.0480 - tf_psnr: 21.4273\n",
            "Epoch 2/50\n",
            "3600/3600 [==============================] - 152s 42ms/step - loss: 0.0017 - tf_psnr: 27.6174\n",
            "Epoch 3/50\n",
            "3600/3600 [==============================] - 152s 42ms/step - loss: 0.0013 - tf_psnr: 28.7539\n",
            "Epoch 4/50\n",
            "3600/3600 [==============================] - 153s 42ms/step - loss: 0.0011 - tf_psnr: 29.4964\n",
            "Epoch 5/50\n",
            "3600/3600 [==============================] - 153s 42ms/step - loss: 9.5030e-04 - tf_psnr: 30.2291\n",
            "Epoch 6/50\n",
            "3600/3600 [==============================] - 152s 42ms/step - loss: 7.8768e-04 - tf_psnr: 31.0476\n",
            "Epoch 7/50\n",
            "3600/3600 [==============================] - 152s 42ms/step - loss: 6.4416e-04 - tf_psnr: 31.9185\n",
            "Epoch 8/50\n",
            "3600/3600 [==============================] - 152s 42ms/step - loss: 5.4804e-04 - tf_psnr: 32.6194\n",
            "Epoch 9/50\n",
            "3600/3600 [==============================] - 153s 42ms/step - loss: 4.8628e-04 - tf_psnr: 33.1381\n",
            "Epoch 10/50\n",
            "3600/3600 [==============================] - 152s 42ms/step - loss: 4.3834e-04 - tf_psnr: 33.5896\n",
            "Epoch 11/50\n",
            "3600/3600 [==============================] - 152s 42ms/step - loss: 3.9646e-04 - tf_psnr: 34.0234\n",
            "Epoch 12/50\n",
            "3600/3600 [==============================] - 153s 42ms/step - loss: 3.6727e-04 - tf_psnr: 34.3569\n",
            "Epoch 13/50\n",
            "3600/3600 [==============================] - 152s 42ms/step - loss: 3.4409e-04 - tf_psnr: 34.6381\n",
            "Epoch 14/50\n",
            "3600/3600 [==============================] - 152s 42ms/step - loss: 3.2727e-04 - tf_psnr: 34.8568\n",
            "Epoch 15/50\n",
            "3600/3600 [==============================] - 152s 42ms/step - loss: 3.1052e-04 - tf_psnr: 35.0860\n",
            "Epoch 16/50\n",
            "3600/3600 [==============================] - 152s 42ms/step - loss: 2.9744e-04 - tf_psnr: 35.2715\n",
            "Epoch 17/50\n",
            "3600/3600 [==============================] - 153s 42ms/step - loss: 2.8629e-04 - tf_psnr: 35.4386\n",
            "Epoch 18/50\n",
            "3600/3600 [==============================] - 153s 42ms/step - loss: 2.7372e-04 - tf_psnr: 35.6325\n",
            "Epoch 19/50\n",
            "3600/3600 [==============================] - 153s 42ms/step - loss: 2.6451e-04 - tf_psnr: 35.7819\n",
            "Epoch 20/50\n",
            "3600/3600 [==============================] - 152s 42ms/step - loss: 2.5624e-04 - tf_psnr: 35.9190\n",
            "Epoch 21/50\n",
            "3600/3600 [==============================] - 152s 42ms/step - loss: 2.4841e-04 - tf_psnr: 36.0543\n",
            "Epoch 22/50\n",
            "3600/3600 [==============================] - 152s 42ms/step - loss: 2.4153e-04 - tf_psnr: 36.1776\n",
            "Epoch 23/50\n",
            "3600/3600 [==============================] - 153s 42ms/step - loss: 2.3420e-04 - tf_psnr: 36.3087\n",
            "Epoch 24/50\n",
            "3600/3600 [==============================] - 152s 42ms/step - loss: 2.2916e-04 - tf_psnr: 36.4053\n",
            "Epoch 25/50\n",
            "3600/3600 [==============================] - 152s 42ms/step - loss: 2.2293e-04 - tf_psnr: 36.5255\n",
            "Epoch 26/50\n",
            "3600/3600 [==============================] - 153s 42ms/step - loss: 2.1860e-04 - tf_psnr: 36.6116\n",
            "Epoch 27/50\n",
            "3600/3600 [==============================] - 152s 42ms/step - loss: 2.1462e-04 - tf_psnr: 36.6882\n",
            "Epoch 28/50\n",
            "3600/3600 [==============================] - 153s 42ms/step - loss: 2.0971e-04 - tf_psnr: 36.7893\n",
            "Epoch 29/50\n",
            "3600/3600 [==============================] - 152s 42ms/step - loss: 2.0670e-04 - tf_psnr: 36.8531\n",
            "Epoch 30/50\n",
            "3600/3600 [==============================] - 152s 42ms/step - loss: 2.0385e-04 - tf_psnr: 36.9134\n",
            "Epoch 31/50\n",
            "3600/3600 [==============================] - 152s 42ms/step - loss: 1.9859e-04 - tf_psnr: 37.0268\n",
            "Epoch 32/50\n",
            "3600/3600 [==============================] - 152s 42ms/step - loss: 1.9820e-04 - tf_psnr: 37.0355\n",
            "Epoch 33/50\n",
            "3600/3600 [==============================] - 152s 42ms/step - loss: 1.9227e-04 - tf_psnr: 37.1675\n",
            "Epoch 34/50\n",
            "3600/3600 [==============================] - 152s 42ms/step - loss: 1.9138e-04 - tf_psnr: 37.1890\n",
            "Epoch 35/50\n",
            "3600/3600 [==============================] - 153s 42ms/step - loss: 1.8934e-04 - tf_psnr: 37.2361\n",
            "Epoch 36/50\n",
            "3600/3600 [==============================] - 152s 42ms/step - loss: 1.8742e-04 - tf_psnr: 37.2793\n",
            "Epoch 37/50\n",
            "3600/3600 [==============================] - 153s 42ms/step - loss: 1.8553e-04 - tf_psnr: 37.3229\n",
            "Epoch 38/50\n",
            "3600/3600 [==============================] - 152s 42ms/step - loss: 1.8522e-04 - tf_psnr: 37.3331\n",
            "Epoch 39/50\n",
            "3600/3600 [==============================] - 152s 42ms/step - loss: 1.8258e-04 - tf_psnr: 37.3934\n",
            "Epoch 40/50\n",
            "3600/3600 [==============================] - 152s 42ms/step - loss: 1.7936e-04 - tf_psnr: 37.4691\n",
            "Epoch 41/50\n",
            "3600/3600 [==============================] - 152s 42ms/step - loss: 1.7871e-04 - tf_psnr: 37.4853\n",
            "Epoch 42/50\n",
            "3600/3600 [==============================] - 152s 42ms/step - loss: 1.7583e-04 - tf_psnr: 37.5568\n",
            "Epoch 43/50\n",
            "3600/3600 [==============================] - 152s 42ms/step - loss: 1.7424e-04 - tf_psnr: 37.5978\n",
            "Epoch 44/50\n",
            "3600/3600 [==============================] - 152s 42ms/step - loss: 1.7386e-04 - tf_psnr: 37.6064\n",
            "Epoch 45/50\n",
            "3600/3600 [==============================] - 152s 42ms/step - loss: 1.7210e-04 - tf_psnr: 37.6506\n",
            "Epoch 46/50\n",
            "3600/3600 [==============================] - 152s 42ms/step - loss: 1.7192e-04 - tf_psnr: 37.6578\n",
            "Epoch 47/50\n",
            "3600/3600 [==============================] - 152s 42ms/step - loss: 1.6756e-04 - tf_psnr: 37.7652\n",
            "Epoch 48/50\n",
            "3600/3600 [==============================] - 153s 42ms/step - loss: 1.6926e-04 - tf_psnr: 37.7251\n",
            "Epoch 49/50\n",
            "3600/3600 [==============================] - 152s 42ms/step - loss: 1.6797e-04 - tf_psnr: 37.7566\n",
            "Epoch 50/50\n",
            "3600/3600 [==============================] - 152s 42ms/step - loss: 1.6471e-04 - tf_psnr: 37.8414\n"
          ],
          "name": "stdout"
        },
        {
          "output_type": "execute_result",
          "data": {
            "text/plain": [
              "<keras.callbacks.History at 0x7f11ea447cc0>"
            ]
          },
          "metadata": {
            "tags": []
          },
          "execution_count": 56
        }
      ]
    },
    {
      "cell_type": "code",
      "metadata": {
        "id": "DSnDWqv0HOpk",
        "colab_type": "code",
        "colab": {
          "base_uri": "https://localhost:8080/",
          "height": 35
        },
        "outputId": "bed14ec0-6274-4924-8b81-531f17f1da99"
      },
      "source": [
        "reconstructed = unet_bn_axis_model.predict(sparseview_60_test)\n",
        "psnr = cal_psnr(ndct_test, reconstructed)\n",
        "print(\"psnr 50 epochs.....\",psnr)"
      ],
      "execution_count": 57,
      "outputs": [
        {
          "output_type": "stream",
          "text": [
            "psnr 50 epochs..... 36.74015266493417\n"
          ],
          "name": "stdout"
        }
      ]
    },
    {
      "cell_type": "markdown",
      "metadata": {
        "id": "NuXrjY81yzDY",
        "colab_type": "text"
      },
      "source": [
        "Unet with batch normalization on axis = -2 psnr 50 epochs..... 36.74015266493417"
      ]
    },
    {
      "cell_type": "code",
      "metadata": {
        "id": "0fGmbQZfHPhk",
        "colab_type": "code",
        "colab": {}
      },
      "source": [
        "#from PIL import Image\n",
        "\n",
        "a = reconstructed[12].reshape(512, 512)\n",
        "scalef = np.amax(a)\n",
        "a = np.clip(255 * a/scalef, 0, 255).astype('uint8')\n",
        "#result = Image.fromarray((a * 255).astype(np.uint8))                                                                                                \n",
        "result = Image.fromarray((a).astype(np.uint8))\n",
        "result.save('rec_unet_bn_axis_12_50.png')\n",
        "result.save('/content/drive/My Drive/Colab Notebooks/dncnn_keras_colab_notebook/rec_unet_bn_axis_12_50.png')\n"
      ],
      "execution_count": 0,
      "outputs": []
    },
    {
      "cell_type": "markdown",
      "metadata": {
        "id": "w6aHMf_Kt-Zw",
        "colab_type": "text"
      },
      "source": [
        "Because of memory restrictions Dncnn model has batch size 5. As we can see below the training is very slow.\n"
      ]
    },
    {
      "cell_type": "code",
      "metadata": {
        "id": "G9Pc91wCIUM-",
        "colab_type": "code",
        "colab": {}
      },
      "source": [
        "inputs = Input((None, None,1))\n",
        "\n",
        "c1 = Conv2D(64, (3, 3), activation='relu', padding='same') (inputs)\n",
        "c1 = Conv2D(64, (3, 3), activation='relu', padding='same') (c1)\n",
        "\n",
        "c1 = Conv2D(64, (3, 3), activation='relu', padding='same') (c1)\n",
        "c1 = Conv2D(64, (3, 3), activation='relu', padding='same') (c1)\n",
        "\n",
        "\n",
        "c1 = Conv2D(64, (3, 3), activation='relu', padding='same') (c1)\n",
        "c1 = Conv2D(64, (3, 3), activation='relu', padding='same') (c1)\n",
        "\n",
        "\n",
        "c1 = Conv2D(64, (3, 3), activation='relu', padding='same') (c1)\n",
        "c1 = Conv2D(64, (3, 3), activation='relu', padding='same') (c1)\n",
        "\n",
        "\n",
        "c1 = Conv2D(64, (3, 3), activation='relu', padding='same') (c1)\n",
        "c1 = Conv2D(64, (3, 3), activation='relu', padding='same') (c1)\n",
        "\n",
        "\n",
        "c1 = Conv2D(64, (3, 3), activation='relu', padding='same') (c1)\n",
        "c1 = Conv2D(64, (3, 3), activation='relu', padding='same') (c1)\n",
        "\n",
        "c1 = Conv2D(64, (3, 3), activation='relu', padding='same') (c1)\n",
        "c1 = Conv2D(64, (3, 3), activation='relu', padding='same') (c1)\n",
        "\n",
        "\n",
        "c1 = Conv2D(64, (3, 3), activation='relu', padding='same') (c1)\n",
        "c1 = Conv2D(64, (3, 3), activation='relu', padding='same') (c1)\n",
        "\n",
        "output_img = Conv2D(1, (1, 1)) (c1)\n",
        "subtracted = keras.layers.Subtract()([inputs, output_img])\n",
        "\n",
        "\n",
        "dncnn_model = Model(inputs=[inputs], outputs=[subtracted])\n",
        "dncnn_model.compile(optimizer='adam', loss='mse', metrics=[tf_psnr])\n"
      ],
      "execution_count": 0,
      "outputs": []
    },
    {
      "cell_type": "code",
      "metadata": {
        "id": "4OmfZt-AuFsQ",
        "colab_type": "code",
        "outputId": "2a043be9-55a1-4850-d889-d714f373ef81",
        "colab": {
          "base_uri": "https://localhost:8080/",
          "height": 777
        }
      },
      "source": [
        "dncnn_model.fit(sparseview_60_train, ndct_train, validation_split=0, batch_size=5, epochs=50, callbacks=[history])\n"
      ],
      "execution_count": 0,
      "outputs": [
        {
          "output_type": "stream",
          "text": [
            "Epoch 1/50\n",
            "3600/3600 [==============================] - 853s 237ms/step - loss: 7.6141e-04 - tf_psnr: 31.7694\n",
            "Epoch 2/50\n",
            "3600/3600 [==============================] - 847s 235ms/step - loss: 4.1061e-04 - tf_psnr: 33.9063\n",
            "Epoch 3/50\n",
            "3600/3600 [==============================] - 846s 235ms/step - loss: 3.6900e-04 - tf_psnr: 34.3639\n",
            "Epoch 4/50\n",
            "3600/3600 [==============================] - 847s 235ms/step - loss: 3.4292e-04 - tf_psnr: 34.6873\n",
            "Epoch 5/50\n",
            "3600/3600 [==============================] - 847s 235ms/step - loss: 3.2408e-04 - tf_psnr: 34.9311\n",
            "Epoch 6/50\n",
            "3600/3600 [==============================] - 848s 236ms/step - loss: 3.0977e-04 - tf_psnr: 35.1257\n",
            "Epoch 7/50\n",
            "3600/3600 [==============================] - 848s 236ms/step - loss: 2.9938e-04 - tf_psnr: 35.2760\n",
            "Epoch 8/50\n",
            "3600/3600 [==============================] - 849s 236ms/step - loss: 2.8730e-04 - tf_psnr: 35.4578\n",
            "Epoch 9/50\n",
            "3600/3600 [==============================] - 848s 236ms/step - loss: 2.8024e-04 - tf_psnr: 35.5641\n",
            "Epoch 10/50\n",
            "3600/3600 [==============================] - 849s 236ms/step - loss: 2.7327e-04 - tf_psnr: 35.6743\n",
            "Epoch 11/50\n",
            "3600/3600 [==============================] - 849s 236ms/step - loss: 2.6766e-04 - tf_psnr: 35.7619\n",
            "Epoch 12/50\n",
            "3600/3600 [==============================] - 849s 236ms/step - loss: 2.6294e-04 - tf_psnr: 35.8452\n",
            "Epoch 13/50\n",
            "3600/3600 [==============================] - 849s 236ms/step - loss: 2.5678e-04 - tf_psnr: 35.9468\n",
            "Epoch 14/50\n",
            "3600/3600 [==============================] - 849s 236ms/step - loss: 2.5269e-04 - tf_psnr: 36.0128\n",
            "Epoch 15/50\n",
            "3600/3600 [==============================] - 849s 236ms/step - loss: 2.4875e-04 - tf_psnr: 36.0857\n",
            "Epoch 16/50\n",
            "3600/3600 [==============================] - 849s 236ms/step - loss: 2.4646e-04 - tf_psnr: 36.1255\n",
            "Epoch 17/50\n",
            "3600/3600 [==============================] - 849s 236ms/step - loss: 2.4193e-04 - tf_psnr: 36.2063\n",
            "Epoch 18/50\n",
            "3600/3600 [==============================] - 848s 236ms/step - loss: 2.3899e-04 - tf_psnr: 36.2615\n",
            "Epoch 19/50\n",
            "3600/3600 [==============================] - 848s 236ms/step - loss: 2.3607e-04 - tf_psnr: 36.3135\n",
            "Epoch 20/50\n",
            "3600/3600 [==============================] - 849s 236ms/step - loss: 2.3437e-04 - tf_psnr: 36.3462\n",
            "Epoch 21/50\n",
            "3600/3600 [==============================] - 849s 236ms/step - loss: 2.3092e-04 - tf_psnr: 36.4088\n",
            "Epoch 22/50\n",
            "2500/3600 [===================>..........] - ETA: 4:19 - loss: 2.2808e-04 - tf_psnr: 36.4595"
          ],
          "name": "stdout"
        }
      ]
    },
    {
      "cell_type": "code",
      "metadata": {
        "id": "jcvMWAvduLZp",
        "colab_type": "code",
        "colab": {
          "base_uri": "https://localhost:8080/",
          "height": 200
        },
        "outputId": "c1d0a16e-f604-4093-d478-55b2889e3a41"
      },
      "source": [
        "reconstructed = dncnn_model.predict(sparseview_60_test)\n",
        "psnr = cal_psnr(ndct_test, reconstructed)\n",
        "print(\"psnr 50 epochs.....\",psnr)\n"
      ],
      "execution_count": 1,
      "outputs": [
        {
          "output_type": "error",
          "ename": "NameError",
          "evalue": "ignored",
          "traceback": [
            "\u001b[0;31m---------------------------------------------------------------------------\u001b[0m",
            "\u001b[0;31mNameError\u001b[0m                                 Traceback (most recent call last)",
            "\u001b[0;32m<ipython-input-1-d57a49c3492d>\u001b[0m in \u001b[0;36m<module>\u001b[0;34m()\u001b[0m\n\u001b[0;32m----> 1\u001b[0;31m \u001b[0mreconstructed\u001b[0m \u001b[0;34m=\u001b[0m \u001b[0mdncnn_model\u001b[0m\u001b[0;34m.\u001b[0m\u001b[0mpredict\u001b[0m\u001b[0;34m(\u001b[0m\u001b[0msparseview_60_test\u001b[0m\u001b[0;34m)\u001b[0m\u001b[0;34m\u001b[0m\u001b[0;34m\u001b[0m\u001b[0m\n\u001b[0m\u001b[1;32m      2\u001b[0m \u001b[0mpsnr\u001b[0m \u001b[0;34m=\u001b[0m \u001b[0mcal_psnr\u001b[0m\u001b[0;34m(\u001b[0m\u001b[0mndct_test\u001b[0m\u001b[0;34m,\u001b[0m \u001b[0mreconstructed\u001b[0m\u001b[0;34m)\u001b[0m\u001b[0;34m\u001b[0m\u001b[0;34m\u001b[0m\u001b[0m\n\u001b[1;32m      3\u001b[0m \u001b[0mprint\u001b[0m\u001b[0;34m(\u001b[0m\u001b[0;34m\"psnr 50 epochs.....\"\u001b[0m\u001b[0;34m,\u001b[0m\u001b[0mpsnr\u001b[0m\u001b[0;34m)\u001b[0m\u001b[0;34m\u001b[0m\u001b[0;34m\u001b[0m\u001b[0m\n",
            "\u001b[0;31mNameError\u001b[0m: name 'dncnn_model' is not defined"
          ]
        }
      ]
    },
    {
      "cell_type": "code",
      "metadata": {
        "id": "oOsGy4tXuMq9",
        "colab_type": "code",
        "colab": {}
      },
      "source": [
        "#from PIL import Image\n",
        "\n",
        "a = reconstructed[0].reshape(512, 512)\n",
        "scalef = np.amax(a)\n",
        "a = np.clip(255 * a/scalef, 0, 255).astype('uint8')\n",
        "#result = Image.fromarray((a * 255).astype(np.uint8))                                                                                                \n",
        "result = Image.fromarray((a).astype(np.uint8))\n",
        "result.save('rec_dncnn_50.png')\n",
        "result.save('/content/drive/My Drive/Colab Notebooks/dncnn_keras_colab_notebook/rec_dncnn_50.png')\n"
      ],
      "execution_count": 0,
      "outputs": []
    },
    {
      "cell_type": "markdown",
      "metadata": {
        "id": "11q8_1W_sjGW",
        "colab_type": "text"
      },
      "source": [
        "dncnn with batch normalization"
      ]
    },
    {
      "cell_type": "code",
      "metadata": {
        "id": "n3fup-KusgfS",
        "colab_type": "code",
        "colab": {}
      },
      "source": [
        "inputs = Input((None, None,1))\n",
        "#layer 1\n",
        "c1 = Conv2D(64, (3, 3), activation='relu', padding='same') (inputs)\n",
        "c1 = BatchNormalization()(c1)\n",
        "c1 = Activation('relu')(c1)\n",
        "#layer 2\n",
        "c1 = Conv2D(64, (3, 3), activation='relu', padding='same') (c1)\n",
        "c1 = BatchNormalization()(c1)\n",
        "c1 = Activation('relu')(c1)\n",
        "#layer 3\n",
        "c1 = Conv2D(64, (3, 3), activation='relu', padding='same') (c1)\n",
        "c1 = BatchNormalization()(c1)\n",
        "c1 = Activation('relu')(c1)\n",
        "#layer 4\n",
        "c1 = Conv2D(64, (3, 3), activation='relu', padding='same') (c1)\n",
        "c1 = BatchNormalization()(c1)\n",
        "c1 = Activation('relu')(c1)\n",
        "#layer 5\n",
        "c1 = Conv2D(64, (3, 3), activation='relu', padding='same') (c1)\n",
        "c1 = BatchNormalization()(c1)\n",
        "c1 = Activation('relu')(c1)\n",
        "#layer 6\n",
        "c1 = Conv2D(64, (3, 3), activation='relu', padding='same') (c1)\n",
        "c1 = BatchNormalization()(c1)\n",
        "c1 = Activation('relu')(c1)\n",
        "#layer 7\n",
        "c1 = Conv2D(64, (3, 3), activation='relu', padding='same') (c1)\n",
        "c1 = BatchNormalization()(c1)\n",
        "c1 = Activation('relu')(c1)\n",
        "#layer 8\n",
        "c1 = Conv2D(64, (3, 3), activation='relu', padding='same') (c1)\n",
        "c1 = BatchNormalization()(c1)\n",
        "c1 = Activation('relu')(c1)\n",
        "#layer 9\n",
        "c1 = Conv2D(64, (3, 3), activation='relu', padding='same') (c1)\n",
        "c1 = BatchNormalization()(c1)\n",
        "c1 = Activation('relu')(c1)\n",
        "#layer 10\n",
        "c1 = Conv2D(64, (3, 3), activation='relu', padding='same') (c1)\n",
        "c1 = BatchNormalization()(c1)\n",
        "c1 = Activation('relu')(c1)\n",
        "#layer 11\n",
        "c1 = Conv2D(64, (3, 3), activation='relu', padding='same') (c1)\n",
        "c1 = BatchNormalization()(c1)\n",
        "c1 = Activation('relu')(c1)\n",
        "#layer 12\n",
        "c1 = Conv2D(64, (3, 3), activation='relu', padding='same') (c1)\n",
        "c1 = BatchNormalization()(c1)\n",
        "c1 = Activation('relu')(c1)\n",
        "#layer 13\n",
        "c1 = Conv2D(64, (3, 3), activation='relu', padding='same') (c1)\n",
        "c1 = BatchNormalization()(c1)\n",
        "c1 = Activation('relu')(c1)\n",
        "#layer 14\n",
        "c1 = Conv2D(64, (3, 3), activation='relu', padding='same') (c1)\n",
        "c1 = BatchNormalization()(c1)\n",
        "c1 = Activation('relu')(c1)\n",
        "#layer 15\n",
        "c1 = Conv2D(64, (3, 3), activation='relu', padding='same') (c1)\n",
        "c1 = BatchNormalization()(c1)\n",
        "c1 = Activation('relu')(c1)\n",
        "#layer 16\n",
        "c1 = Conv2D(64, (3, 3), activation='relu', padding='same') (c1)\n",
        "c1 = BatchNormalization()(c1)\n",
        "c1 = Activation('relu')(c1)\n",
        "#layer 17\n",
        "output_img = Conv2D(1, (1, 1)) (c1)\n",
        "subtracted = keras.layers.Subtract()([inputs, output_img])\n",
        "\n",
        "\n",
        "dncnn_bn_model = Model(inputs=[inputs], outputs=[subtracted])\n",
        "model.compile(optimizer='adam', loss='mse', metrics=[tf_psnr])\n"
      ],
      "execution_count": 0,
      "outputs": []
    },
    {
      "cell_type": "code",
      "metadata": {
        "id": "nRP2oOa1226V",
        "colab_type": "code",
        "colab": {}
      },
      "source": [
        "dncnn_bn_model.fit(sparseview_60_train, ndct_train, validation_split=0, batch_size=5, epochs=50, callbacks=[history])\n"
      ],
      "execution_count": 0,
      "outputs": []
    },
    {
      "cell_type": "code",
      "metadata": {
        "id": "Lcqa1NaW255u",
        "colab_type": "code",
        "colab": {}
      },
      "source": [
        "reconstructed = dncnn_bn_model.predict(sparseview_60_test)\n",
        "psnr = cal_psnr(ndct_test, reconstructed)\n",
        "print(\"psnr 50 epochs.....\",psnr)"
      ],
      "execution_count": 0,
      "outputs": []
    },
    {
      "cell_type": "code",
      "metadata": {
        "id": "EapK1Ggh289-",
        "colab_type": "code",
        "colab": {}
      },
      "source": [
        "a = reconstructed[0].reshape(512, 512)\n",
        "scalef = np.amax(a)\n",
        "a = np.clip(255 * a/scalef, 0, 255).astype('uint8')\n",
        "#result = Image.fromarray((a * 255).astype(np.uint8))                                                                                                \n",
        "result = Image.fromarray((a).astype(np.uint8))\n",
        "result.save('rec_dncnn_bn_50.png')\n",
        "result.save('/content/drive/My Drive/Colab Notebooks/dncnn_keras_colab_notebook/rec_dncnn_bn_50.png')\n"
      ],
      "execution_count": 0,
      "outputs": []
    }
  ]
}