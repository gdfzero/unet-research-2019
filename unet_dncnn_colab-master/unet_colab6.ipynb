{
  "nbformat": 4,
  "nbformat_minor": 0,
  "metadata": {
    "colab": {
      "name": "unet_colab6.ipynb",
      "version": "0.3.2",
      "provenance": [],
      "collapsed_sections": [],
      "machine_shape": "hm"
    },
    "kernelspec": {
      "name": "python3",
      "display_name": "Python 3"
    },
    "accelerator": "GPU"
  },
  "cells": [
    {
      "cell_type": "code",
      "metadata": {
        "id": "rnIvzBt4eVg-",
        "colab_type": "code",
        "outputId": "5c3013a5-855b-4d7d-9342-e247591492e4",
        "colab": {
          "base_uri": "https://localhost:8080/",
          "height": 124
        }
      },
      "source": [
        "\n",
        "from google.colab import drive\n",
        "drive.mount('/content/drive')"
      ],
      "execution_count": 1,
      "outputs": [
        {
          "output_type": "stream",
          "text": [
            "Go to this URL in a browser: https://accounts.google.com/o/oauth2/auth?client_id=947318989803-6bn6qk8qdgf4n4g3pfee6491hc0brc4i.apps.googleusercontent.com&redirect_uri=urn%3Aietf%3Awg%3Aoauth%3A2.0%3Aoob&scope=email%20https%3A%2F%2Fwww.googleapis.com%2Fauth%2Fdocs.test%20https%3A%2F%2Fwww.googleapis.com%2Fauth%2Fdrive%20https%3A%2F%2Fwww.googleapis.com%2Fauth%2Fdrive.photos.readonly%20https%3A%2F%2Fwww.googleapis.com%2Fauth%2Fpeopleapi.readonly&response_type=code\n",
            "\n",
            "Enter your authorization code:\n",
            "··········\n",
            "Mounted at /content/drive\n"
          ],
          "name": "stdout"
        }
      ]
    },
    {
      "cell_type": "markdown",
      "metadata": {
        "id": "nrLytZdgUnGD",
        "colab_type": "text"
      },
      "source": [
        "ImageDataGenerator didn't work well for my problem.\n",
        "It peformed poorly with all different configurations of inputs. "
      ]
    },
    {
      "cell_type": "markdown",
      "metadata": {
        "id": "h9X2TUMa3zfN",
        "colab_type": "text"
      },
      "source": [
        ""
      ]
    },
    {
      "cell_type": "code",
      "metadata": {
        "id": "m-MW8CAZfUBR",
        "colab_type": "code",
        "colab": {
          "base_uri": "https://localhost:8080/",
          "height": 35
        },
        "outputId": "b6eda2e9-54be-4a34-d680-a29f41723437"
      },
      "source": [
        "\n",
        "import os\n",
        "import zipfile\n",
        "import random\n",
        "import keras\n",
        "import tensorflow as tf\n",
        "import numpy as np\n",
        "import matplotlib.pyplot as plt\n",
        "import matplotlib.image as mpimg\n",
        "from keras.layers import Concatenate\n",
        "from keras.models import Sequential\n",
        "from keras.layers import Conv2D, MaxPooling2D, Input, Dense\n",
        "from keras.layers import BatchNormalization, Activation, Dropout, Subtract\n",
        "from keras.models import Model\n",
        "from glob import glob\n",
        "from keras.layers.convolutional import Conv2DTranspose\n",
        "from keras.layers import concatenate\n",
        "from tensorflow.keras.optimizers import RMSprop\n",
        "from tensorflow.keras.preprocessing.image import ImageDataGenerator\n",
        "from shutil import copyfile\n"
      ],
      "execution_count": 2,
      "outputs": [
        {
          "output_type": "stream",
          "text": [
            "Using TensorFlow backend.\n"
          ],
          "name": "stderr"
        }
      ]
    },
    {
      "cell_type": "markdown",
      "metadata": {
        "id": "0_4hx6SWlrpx",
        "colab_type": "text"
      },
      "source": [
        "loaded_model.load_weights(\"model.h5\")\n"
      ]
    },
    {
      "cell_type": "code",
      "metadata": {
        "id": "v3XwCo5FflJ5",
        "colab_type": "code",
        "outputId": "2789c490-5c95-4ffc-dc06-cdb3da38481f",
        "colab": {
          "base_uri": "https://localhost:8080/",
          "height": 52
        }
      },
      "source": [
        "# print(len(os.listdir('/content/drive/My Drive/Colab Notebooks/CT_data/sparseview_60/train')))\n",
        "# print(len(os.listdir('/content/drive/My Drive/Colab Notebooks/CT_data/ndct/train')))\n",
        "# # 3600\n",
        "# # 3600"
      ],
      "execution_count": 0,
      "outputs": [
        {
          "output_type": "stream",
          "text": [
            "3600\n",
            "3600\n"
          ],
          "name": "stdout"
        }
      ]
    },
    {
      "cell_type": "code",
      "metadata": {
        "id": "3k7OOZb2fsF0",
        "colab_type": "code",
        "outputId": "760c3ea7-1c2d-4dab-d18e-90aa7e98f2c3",
        "colab": {
          "base_uri": "https://localhost:8080/",
          "height": 52
        }
      },
      "source": [
        "# print(len(os.listdir('/content/drive/My Drive/Colab Notebooks/CT_data/sparseview_60/test/')))\n",
        "# print(len(os.listdir('/content/drive/My Drive/Colab Notebooks/CT_data/ndct/test/')))\n",
        "# # 354\n",
        "# # 354"
      ],
      "execution_count": 0,
      "outputs": [
        {
          "output_type": "stream",
          "text": [
            "354\n",
            "354\n"
          ],
          "name": "stdout"
        }
      ]
    },
    {
      "cell_type": "code",
      "metadata": {
        "id": "Wp18zNh9ylg2",
        "colab_type": "code",
        "outputId": "6f35dde7-2460-44f8-b806-167db4114937",
        "colab": {
          "base_uri": "https://localhost:8080/",
          "height": 86
        }
      },
      "source": [
        "# ndct = sorted(glob('/content/drive/My Drive/Colab Notebooks/CT_data/ndct/train/*'))\n",
        "# ldct = sorted(glob('/content/drive/My Drive/Colab Notebooks/CT_data/sparseview_60/train/*'))\n",
        "\n",
        "# ndct_test = sorted(glob('/content/drive/My Drive/Colab Notebooks/CT_data/ndct/test/*'))\n",
        "# ldct_test = sorted(glob('/content/drive/My Drive/Colab Notebooks/CT_data/sparseview_60/test/*'))\n",
        "\n",
        "# print(len(ndct))\n",
        "# print(len(ldct))\n",
        "# print(len(ndct_test))\n",
        "# print(len(ldct_test))"
      ],
      "execution_count": 0,
      "outputs": [
        {
          "output_type": "stream",
          "text": [
            "3600\n",
            "3600\n",
            "354\n",
            "354\n"
          ],
          "name": "stdout"
        }
      ]
    },
    {
      "cell_type": "code",
      "metadata": {
        "id": "R3JzsEPJxjjX",
        "colab_type": "code",
        "colab": {}
      },
      "source": [
        "def cal_psnr(im1, im2):\n",
        "    # assert pixel value range is 0-255 and type is uint8\n",
        "    mse = ((im1.astype(np.float) - im2.astype(np.float)) ** 2).mean()\n",
        "    maxval = np.amax(im1)\n",
        "    psnr = 10 * np.log10(maxval ** 2 / mse)\n",
        "    return psnr\n",
        "\n",
        "def tf_psnr(im1, im2):\n",
        "    # assert pixel value range is 0-1\n",
        "    #mse = tf.losses.mean_squared_error(labels=im2 * 255.0, predictions=im1 * 255.0)\n",
        "    mse = tf.compat.v1.losses.mean_squared_error(labels=im2 * 255.0, predictions=im1 * 255.0)\n",
        "    return 10.0 * (tf.log(255.0 ** 2 / mse) / tf.log(10.0))"
      ],
      "execution_count": 0,
      "outputs": []
    },
    {
      "cell_type": "code",
      "metadata": {
        "id": "qoWtZ9Atydt6",
        "colab_type": "code",
        "colab": {}
      },
      "source": [
        ""
      ],
      "execution_count": 0,
      "outputs": []
    },
    {
      "cell_type": "code",
      "metadata": {
        "id": "cl-9hN83yRFM",
        "colab_type": "code",
        "outputId": "8ceb0b73-9e6a-47fb-b689-f0d8f6701f7f",
        "colab": {
          "base_uri": "https://localhost:8080/",
          "height": 35
        }
      },
      "source": [
        "# ndct_imgs_train = []\n",
        "# for i in range(0, len(ndct)):                                                                                                                                      \n",
        "# #for i in range(0, 1600):\n",
        "#     f = open(ndct[i],'rb')\n",
        "#     a = np.fromfile(f, np.float32)\n",
        "#     ndct_imgs_train.append(a)\n",
        "#     f.close()\n",
        "# print(\"len(ndct_imgs_train)....: \",len(ndct_imgs_train))\n",
        "                                                                                                                                                         "
      ],
      "execution_count": 0,
      "outputs": [
        {
          "output_type": "stream",
          "text": [
            "len(ndct_imgs_train)....:  3600\n"
          ],
          "name": "stdout"
        }
      ]
    },
    {
      "cell_type": "code",
      "metadata": {
        "id": "4bqck35HDWv7",
        "colab_type": "code",
        "outputId": "50b668a1-2545-42d8-8040-d3969528ddda",
        "colab": {
          "base_uri": "https://localhost:8080/",
          "height": 35
        }
      },
      "source": [
        "# ldct_imgs_train = []\n",
        "# for i in range(0, len(ldct)):\n",
        "# #for i in range(0, 1600):\n",
        "#     f = open(ldct[i],'rb')\n",
        "#     a = np.fromfile(f, np.float32)\n",
        "#     ldct_imgs_train.append(a)\n",
        "#     f.close()\n",
        "# print(\"len(ldct_imgs_train)....: \",len(ldct_imgs_train))"
      ],
      "execution_count": 0,
      "outputs": [
        {
          "output_type": "stream",
          "text": [
            "len(ldct_imgs_train)....:  3600\n"
          ],
          "name": "stdout"
        }
      ]
    },
    {
      "cell_type": "code",
      "metadata": {
        "id": "TFycVaUqDP6F",
        "colab_type": "code",
        "outputId": "0ee93c6f-e855-4e4b-b3fb-62deb4f0006f",
        "colab": {
          "base_uri": "https://localhost:8080/",
          "height": 35
        }
      },
      "source": [
        "# ndct_imgs_test = []\n",
        "# for i in range(0, len(ndct_test)):\n",
        "# #for i in range(0, 10):\n",
        "#     f = open(ndct_test[i],'rb')\n",
        "#     a = np.fromfile(f, np.float32)\n",
        "#     ndct_imgs_test.append(a)\n",
        "#     f.close()\n",
        "# print(\"len(ndct_imgs_test)....: \",len(ndct_imgs_test))\n"
      ],
      "execution_count": 0,
      "outputs": [
        {
          "output_type": "stream",
          "text": [
            "len(ndct_imgs_test)....:  354\n"
          ],
          "name": "stdout"
        }
      ]
    },
    {
      "cell_type": "code",
      "metadata": {
        "id": "6bhvYILZDZ8Z",
        "colab_type": "code",
        "outputId": "ce0e3e0e-ca94-438a-81f6-15a0afdf0ffd",
        "colab": {
          "base_uri": "https://localhost:8080/",
          "height": 35
        }
      },
      "source": [
        "# # load the image\n",
        "# ldct_imgs_test = []\n",
        "# for i in range(0, len(ldct_test)):\n",
        "# #for i in range(0, 10):\n",
        "#     f = open(ldct_test[i],'rb')\n",
        "#     a = np.fromfile(f, np.float32)\n",
        "#     ldct_imgs_test.append(a)\n",
        "#     f.close()\n",
        "# print(\"len(ldct_imgs_test)....: \",len(ldct_imgs_test))\n"
      ],
      "execution_count": 0,
      "outputs": [
        {
          "output_type": "stream",
          "text": [
            "len(ldct_imgs_test)....:  354\n"
          ],
          "name": "stdout"
        }
      ]
    },
    {
      "cell_type": "code",
      "metadata": {
        "id": "hvTUFGsCz_UF",
        "colab_type": "code",
        "outputId": "8dd45367-acd7-43a2-86f0-08e356108ab6",
        "colab": {
          "base_uri": "https://localhost:8080/",
          "height": 86
        }
      },
      "source": [
        "# ldct_train = np.asarray(ldct_imgs_train)\n",
        "# ndct_train = np.asarray(ndct_imgs_train)\n",
        "\n",
        "# ldct_train = ldct_train.reshape(3600,512,512,1)\n",
        "# ndct_train = ndct_train.reshape(3600,512,512,1)\n",
        "\n",
        "# ldct_test = np.asarray(ldct_imgs_test)\n",
        "# ndct_test = np.asarray(ndct_imgs_test)\n",
        "\n",
        "# ldct_test = ldct_test.reshape(len(ldct_imgs_test),512,512,1)\n",
        "# ndct_test = ndct_test.reshape(len(ldct_imgs_test),512,512,1)\n",
        "\n",
        "# print(ldct_train.shape)\n",
        "# print(ndct_train.shape)\n",
        "# print(ldct_test.shape)\n",
        "# print(ndct_test.shape)\n"
      ],
      "execution_count": 0,
      "outputs": [
        {
          "output_type": "stream",
          "text": [
            "(3600, 512, 512, 1)\n",
            "(3600, 512, 512, 1)\n",
            "(354, 512, 512, 1)\n",
            "(354, 512, 512, 1)\n"
          ],
          "name": "stdout"
        }
      ]
    },
    {
      "cell_type": "code",
      "metadata": {
        "id": "LOJhl1q0WWOJ",
        "colab_type": "code",
        "colab": {}
      },
      "source": [
        "# np.save('sparseview_60_train', ldct_train) # save the file as \"sparseview_60_train.npy\" \n",
        "# np.save('ndct_train', ndct_train) # save the file as \"ndct_train.npy\" \n",
        "\n",
        "# np.save('sparseview_60_test', ldct_test) # save the file as \"sparseview_60_test.npy\" \n",
        "# np.save('ndct_test', ndct_test) # save the file as \"ndct_test.npy\" \n"
      ],
      "execution_count": 0,
      "outputs": []
    },
    {
      "cell_type": "code",
      "metadata": {
        "id": "BvRfSaiGWfko",
        "colab_type": "code",
        "colab": {}
      },
      "source": [
        "sparseview_60_train = np.load('/content/drive/My Drive/Colab Notebooks/dncnn_keras_colab_notebook/sparseview_60_train.npy') # loads saved array into variable sparseview_60_train.\n",
        "ndct_train = np.load('/content/drive/My Drive/Colab Notebooks/dncnn_keras_colab_notebook/ndct_train.npy') # loads saved array into variable ndct_train.\n",
        "sparseview_60_test = np.load('/content/drive/My Drive/Colab Notebooks/dncnn_keras_colab_notebook/sparseview_60_test.npy') # loads saved array into variable sparseview_60_test.\n",
        "ndct_test = np.load('/content/drive/My Drive/Colab Notebooks/dncnn_keras_colab_notebook/ndct_test.npy') # loads saved array into variable ndct_test.\n",
        "\n",
        "# sparseview_60_train = np.load('sparseview_60_train.npy') # loads saved array into variable sparseview_60_train.\n",
        "# ndct_train = np.load('ndct_train.npy') # loads saved array into variable ndct_train.\n",
        "# sparseview_60_test = np.load('sparseview_60_test.npy') # loads saved array into variable sparseview_60_test.\n",
        "# ndct_test = np.load('ndct_test.npy') # loads saved array into variable ndct_test.\n"
      ],
      "execution_count": 0,
      "outputs": []
    },
    {
      "cell_type": "code",
      "metadata": {
        "id": "_KPySRIgHrLC",
        "colab_type": "code",
        "colab": {}
      },
      "source": [
        "# class LossHistory(keras.callbacks.Callback):\n",
        "#     def on_train_begin(self, logs={}):\n",
        "#         self.losses = []\n",
        "\n",
        "#     def on_batch_end(self, batch, logs={}):\n",
        "#         self.losses.append(logs.get('loss'))\n",
        "# history = LossHistory()"
      ],
      "execution_count": 0,
      "outputs": []
    },
    {
      "cell_type": "markdown",
      "metadata": {
        "id": "Qx_xUrvyU9hS",
        "colab_type": "text"
      },
      "source": [
        "Couldn't make ImageDataGenerator work with callbacks."
      ]
    },
    {
      "cell_type": "code",
      "metadata": {
        "id": "-DE5WJS0EDrp",
        "colab_type": "code",
        "colab": {}
      },
      "source": [
        "es = keras.callbacks.EarlyStopping(monitor='val_loss',\n",
        "                              min_delta=0,\n",
        "                              patience=4,\n",
        "                              verbose=0, mode='auto')"
      ],
      "execution_count": 0,
      "outputs": []
    },
    {
      "cell_type": "markdown",
      "metadata": {
        "id": "d9iAmlbV6c_0",
        "colab_type": "text"
      },
      "source": [
        "Basic UNet model"
      ]
    },
    {
      "cell_type": "code",
      "metadata": {
        "id": "S-i8tdUv6H7Q",
        "colab_type": "code",
        "colab": {}
      },
      "source": [
        "inputs = Input((None, None,1))\n",
        "\n",
        "c1 = Conv2D(8, (3, 3), activation='relu', padding='same') (inputs)\n",
        "c1 = Conv2D(8, (3, 3), activation='relu', padding='same') (c1)\n",
        "p1 = MaxPooling2D((2, 2)) (c1)\n",
        "\n",
        "c2 = Conv2D(16, (3, 3), activation='relu', padding='same') (p1)\n",
        "c2 = Conv2D(16, (3, 3), activation='relu', padding='same') (c2)\n",
        "p2 = MaxPooling2D((2, 2)) (c2)\n",
        "\n",
        "c3 = Conv2D(32, (3, 3), activation='relu', padding='same') (p2)\n",
        "c3 = Conv2D(32, (3, 3), activation='relu', padding='same') (c3)\n",
        "p3 = MaxPooling2D((2, 2)) (c3)\n",
        "\n",
        "\n",
        "c4 = Conv2D(64, (3, 3), activation='relu', padding='same') (p3)\n",
        "c4 = Conv2D(64, (3, 3), activation='relu', padding='same') (c4)\n",
        "p4 = MaxPooling2D(pool_size=(2, 2)) (c4)\n",
        "\n",
        "c5 = Conv2D(128, (3, 3), activation='relu', padding='same') (p4)\n",
        "c5 = Conv2D(128, (3, 3), activation='relu', padding='same') (c5)\n",
        "\n",
        "u6 = Conv2DTranspose(64, (2, 2), strides=(2, 2), padding='same') (c5)\n",
        "u6 = concatenate([u6, c4])\n",
        "c6 = Conv2D(64, (3, 3), activation='relu', padding='same') (u6)\n",
        "c6 = Conv2D(64, (3, 3), activation='relu', padding='same') (c6)\n",
        "\n",
        "\n",
        "u7 = Conv2DTranspose(32, (2, 2), strides=(2, 2), padding='same') (c6)\n",
        "u7 = concatenate([u7, c3])\n",
        "c7 = Conv2D(32, (3, 3), activation='relu', padding='same') (u7)\n",
        "c7 = Conv2D(32, (3, 3), activation='relu', padding='same') (c7)\n",
        "\n",
        "u8 = Conv2DTranspose(16, (2, 2), strides=(2, 2), padding='same') (c7)\n",
        "u8 = concatenate([u8, c2])\n",
        "c8 = Conv2D(16, (3, 3), activation='relu', padding='same') (u8)\n",
        "c8 = Conv2D(16, (3, 3), activation='relu', padding='same') (c8)\n",
        "\n",
        "u9 = Conv2DTranspose(8, (2, 2), strides=(2, 2), padding='same') (c8)\n",
        "u9 = concatenate([u9, c1])\n",
        "c9 = Conv2D(8, (3, 3), activation='relu', padding='same') (u9)\n",
        "c9 = Conv2D(8, (3, 3), activation='relu', padding='same') (c9)\n",
        "\n",
        "output_img = Conv2D(1, (1, 1)) (c9)\n",
        "subtracted = Subtract()([inputs, output_img])\n",
        "\n",
        "\n",
        "model = Model(inputs=[inputs], outputs=[subtracted])\n",
        "model.compile(optimizer='adam', loss='mse', metrics=[tf_psnr])\n",
        "\n"
      ],
      "execution_count": 0,
      "outputs": []
    },
    {
      "cell_type": "code",
      "metadata": {
        "id": "0bitUdXXSW8R",
        "colab_type": "code",
        "colab": {}
      },
      "source": [
        ""
      ],
      "execution_count": 0,
      "outputs": []
    },
    {
      "cell_type": "code",
      "metadata": {
        "id": "xbteNnQ6QVzE",
        "colab_type": "code",
        "colab": {
          "base_uri": "https://localhost:8080/",
          "height": 1000
        },
        "outputId": "2a483d9c-d0d3-43fa-a78a-3fb1cd1e548a"
      },
      "source": [
        "datagen = ImageDataGenerator(\n",
        "#     rotation_range=40,\n",
        "#     width_shift_range=0.2,\n",
        "#     height_shift_range=0.2,\n",
        "#     shear_range=0.2,\n",
        "#     zoom_range=0.2,\n",
        "#     horizontal_flip=True,\n",
        "#     fill_mode='nearest',\n",
        "#     featurewise_center=True,\n",
        "#     featurewise_std_normalization=True\n",
        ")\n",
        "\n",
        "# compute quantities required for featurewise normalization\n",
        "# (std, mean, and principal components if ZCA whitening is applied)\n",
        "datagen.fit(sparseview_60_train)\n",
        "\n",
        "# fits the model on batches with real-time data augmentation:\n",
        "\n",
        "model.fit_generator(datagen.flow(sparseview_60_train, ndct_train, batch_size=30),\n",
        "                    steps_per_epoch=len(sparseview_60_train) / 30, epochs=50,\n",
        "                    validation_data = ( sparseview_60_test, ndct_test ))\n"
      ],
      "execution_count": 45,
      "outputs": [
        {
          "output_type": "stream",
          "text": [
            "Epoch 1/50\n",
            "120/120 [==============================] - 130s 1s/step - loss: 0.0015 - tf_psnr: 29.3748 - val_loss: 8.1419e-04 - val_tf_psnr: 30.9026\n",
            "Epoch 2/50\n",
            "120/120 [==============================] - 130s 1s/step - loss: 7.7342e-04 - tf_psnr: 31.1237 - val_loss: 7.1275e-04 - val_tf_psnr: 31.4812\n",
            "Epoch 3/50\n",
            "120/120 [==============================] - 130s 1s/step - loss: 6.9221e-04 - tf_psnr: 31.6043 - val_loss: 6.5201e-04 - val_tf_psnr: 31.8685\n",
            "Epoch 4/50\n",
            "120/120 [==============================] - 130s 1s/step - loss: 6.4520e-04 - tf_psnr: 31.9077 - val_loss: 6.1861e-04 - val_tf_psnr: 32.0971\n",
            "Epoch 5/50\n",
            "120/120 [==============================] - 131s 1s/step - loss: 6.1681e-04 - tf_psnr: 32.1030 - val_loss: 5.9719e-04 - val_tf_psnr: 32.2504\n",
            "Epoch 6/50\n",
            "120/120 [==============================] - 131s 1s/step - loss: 5.9720e-04 - tf_psnr: 32.2433 - val_loss: 5.8101e-04 - val_tf_psnr: 32.3698\n",
            "Epoch 7/50\n",
            "120/120 [==============================] - 131s 1s/step - loss: 5.8124e-04 - tf_psnr: 32.3607 - val_loss: 5.6601e-04 - val_tf_psnr: 32.4836\n",
            "Epoch 8/50\n",
            "120/120 [==============================] - 130s 1s/step - loss: 5.6840e-04 - tf_psnr: 32.4581 - val_loss: 5.5405e-04 - val_tf_psnr: 32.5767\n",
            "Epoch 9/50\n",
            "120/120 [==============================] - 130s 1s/step - loss: 5.5715e-04 - tf_psnr: 32.5450 - val_loss: 5.4348e-04 - val_tf_psnr: 32.6604\n",
            "Epoch 10/50\n",
            "120/120 [==============================] - 130s 1s/step - loss: 5.4711e-04 - tf_psnr: 32.6237 - val_loss: 5.3601e-04 - val_tf_psnr: 32.7203\n",
            "Epoch 11/50\n",
            "120/120 [==============================] - 130s 1s/step - loss: 5.3747e-04 - tf_psnr: 32.7010 - val_loss: 5.2568e-04 - val_tf_psnr: 32.8051\n",
            "Epoch 12/50\n",
            "120/120 [==============================] - 130s 1s/step - loss: 5.2924e-04 - tf_psnr: 32.7679 - val_loss: 5.2168e-04 - val_tf_psnr: 32.8385\n",
            "Epoch 13/50\n",
            "120/120 [==============================] - 130s 1s/step - loss: 5.2138e-04 - tf_psnr: 32.8324 - val_loss: 5.1242e-04 - val_tf_psnr: 32.9160\n",
            "Epoch 14/50\n",
            "120/120 [==============================] - 130s 1s/step - loss: 5.1507e-04 - tf_psnr: 32.8863 - val_loss: 5.0495e-04 - val_tf_psnr: 32.9801\n",
            "Epoch 15/50\n",
            "120/120 [==============================] - 129s 1s/step - loss: 5.0960e-04 - tf_psnr: 32.9331 - val_loss: 4.9964e-04 - val_tf_psnr: 33.0257\n",
            "Epoch 16/50\n",
            "120/120 [==============================] - 129s 1s/step - loss: 5.0311e-04 - tf_psnr: 32.9879 - val_loss: 4.9399e-04 - val_tf_psnr: 33.0752\n",
            "Epoch 17/50\n",
            "120/120 [==============================] - 130s 1s/step - loss: 4.9780e-04 - tf_psnr: 33.0351 - val_loss: 4.9139e-04 - val_tf_psnr: 33.0977\n",
            "Epoch 18/50\n",
            "120/120 [==============================] - 130s 1s/step - loss: 4.9239e-04 - tf_psnr: 33.0826 - val_loss: 4.8476e-04 - val_tf_psnr: 33.1567\n",
            "Epoch 19/50\n",
            "120/120 [==============================] - 130s 1s/step - loss: 4.8649e-04 - tf_psnr: 33.1335 - val_loss: 4.7787e-04 - val_tf_psnr: 33.2189\n",
            "Epoch 20/50\n",
            "120/120 [==============================] - 130s 1s/step - loss: 4.8095e-04 - tf_psnr: 33.1845 - val_loss: 4.7325e-04 - val_tf_psnr: 33.2608\n",
            "Epoch 21/50\n",
            "120/120 [==============================] - 130s 1s/step - loss: 4.7586e-04 - tf_psnr: 33.2305 - val_loss: 4.6806e-04 - val_tf_psnr: 33.3083\n",
            "Epoch 22/50\n",
            "120/120 [==============================] - 130s 1s/step - loss: 4.7061e-04 - tf_psnr: 33.2789 - val_loss: 4.6366e-04 - val_tf_psnr: 33.3490\n",
            "Epoch 23/50\n",
            "120/120 [==============================] - 130s 1s/step - loss: 4.6559e-04 - tf_psnr: 33.3245 - val_loss: 4.5762e-04 - val_tf_psnr: 33.4059\n",
            "Epoch 24/50\n",
            "120/120 [==============================] - 130s 1s/step - loss: 4.6191e-04 - tf_psnr: 33.3596 - val_loss: 4.5247e-04 - val_tf_psnr: 33.4550\n",
            "Epoch 25/50\n",
            "120/120 [==============================] - 130s 1s/step - loss: 4.5396e-04 - tf_psnr: 33.4351 - val_loss: 4.4650e-04 - val_tf_psnr: 33.5119\n",
            "Epoch 26/50\n",
            "120/120 [==============================] - 130s 1s/step - loss: 4.4722e-04 - tf_psnr: 33.4992 - val_loss: 4.3888e-04 - val_tf_psnr: 33.5867\n",
            "Epoch 27/50\n",
            "120/120 [==============================] - 131s 1s/step - loss: 4.4030e-04 - tf_psnr: 33.5683 - val_loss: 4.3310e-04 - val_tf_psnr: 33.6439\n",
            "Epoch 28/50\n",
            "120/120 [==============================] - 131s 1s/step - loss: 4.3358e-04 - tf_psnr: 33.6334 - val_loss: 4.2570e-04 - val_tf_psnr: 33.7188\n",
            "Epoch 29/50\n",
            "120/120 [==============================] - 131s 1s/step - loss: 4.2735e-04 - tf_psnr: 33.6980 - val_loss: 4.1833e-04 - val_tf_psnr: 33.7943\n",
            "Epoch 30/50\n",
            "120/120 [==============================] - 131s 1s/step - loss: 4.2179e-04 - tf_psnr: 33.7550 - val_loss: 4.1767e-04 - val_tf_psnr: 33.8016\n",
            "Epoch 31/50\n",
            "120/120 [==============================] - 132s 1s/step - loss: 4.1470e-04 - tf_psnr: 33.8288 - val_loss: 4.0831e-04 - val_tf_psnr: 33.8991\n",
            "Epoch 32/50\n",
            "120/120 [==============================] - 131s 1s/step - loss: 4.1228e-04 - tf_psnr: 33.8551 - val_loss: 4.0601e-04 - val_tf_psnr: 33.9238\n",
            "Epoch 33/50\n",
            "120/120 [==============================] - 130s 1s/step - loss: 4.0456e-04 - tf_psnr: 33.9346 - val_loss: 3.9664e-04 - val_tf_psnr: 34.0246\n",
            "Epoch 34/50\n",
            "120/120 [==============================] - 132s 1s/step - loss: 4.0027e-04 - tf_psnr: 33.9816 - val_loss: 3.9373e-04 - val_tf_psnr: 34.0566\n",
            "Epoch 35/50\n",
            "120/120 [==============================] - 131s 1s/step - loss: 3.9857e-04 - tf_psnr: 34.0003 - val_loss: 3.9479e-04 - val_tf_psnr: 34.0447\n",
            "Epoch 36/50\n",
            "120/120 [==============================] - 131s 1s/step - loss: 3.9218e-04 - tf_psnr: 34.0704 - val_loss: 3.7830e-04 - val_tf_psnr: 34.2299\n",
            "Epoch 37/50\n",
            "120/120 [==============================] - 130s 1s/step - loss: 3.8381e-04 - tf_psnr: 34.1647 - val_loss: 3.7993e-04 - val_tf_psnr: 34.2115\n",
            "Epoch 38/50\n",
            "120/120 [==============================] - 131s 1s/step - loss: 3.7744e-04 - tf_psnr: 34.2374 - val_loss: 3.7695e-04 - val_tf_psnr: 34.2459\n",
            "Epoch 39/50\n",
            "120/120 [==============================] - 131s 1s/step - loss: 3.7303e-04 - tf_psnr: 34.2894 - val_loss: 3.6799e-04 - val_tf_psnr: 34.3501\n",
            "Epoch 40/50\n",
            "120/120 [==============================] - 131s 1s/step - loss: 3.6796e-04 - tf_psnr: 34.3485 - val_loss: 3.9323e-04 - val_tf_psnr: 34.0617\n",
            "Epoch 41/50\n",
            "120/120 [==============================] - 131s 1s/step - loss: 3.7322e-04 - tf_psnr: 34.2883 - val_loss: 3.5618e-04 - val_tf_psnr: 34.4915\n",
            "Epoch 42/50\n",
            "120/120 [==============================] - 129s 1s/step - loss: 3.5867e-04 - tf_psnr: 34.4594 - val_loss: 3.5019e-04 - val_tf_psnr: 34.5651\n",
            "Epoch 43/50\n",
            "120/120 [==============================] - 130s 1s/step - loss: 3.5669e-04 - tf_psnr: 34.4843 - val_loss: 3.4917e-04 - val_tf_psnr: 34.5779\n",
            "Epoch 44/50\n",
            "120/120 [==============================] - 130s 1s/step - loss: 3.5012e-04 - tf_psnr: 34.5656 - val_loss: 3.4670e-04 - val_tf_psnr: 34.6080\n",
            "Epoch 45/50\n",
            "120/120 [==============================] - 131s 1s/step - loss: 3.4730e-04 - tf_psnr: 34.5988 - val_loss: 3.3990e-04 - val_tf_psnr: 34.6941\n",
            "Epoch 46/50\n",
            "120/120 [==============================] - 131s 1s/step - loss: 3.4364e-04 - tf_psnr: 34.6446 - val_loss: 3.3924e-04 - val_tf_psnr: 34.7023\n",
            "Epoch 47/50\n",
            "120/120 [==============================] - 131s 1s/step - loss: 3.4080e-04 - tf_psnr: 34.6820 - val_loss: 3.3448e-04 - val_tf_psnr: 34.7642\n",
            "Epoch 48/50\n",
            "120/120 [==============================] - 131s 1s/step - loss: 3.3624e-04 - tf_psnr: 34.7388 - val_loss: 3.4274e-04 - val_tf_psnr: 34.6575\n",
            "Epoch 49/50\n",
            "120/120 [==============================] - 131s 1s/step - loss: 3.3788e-04 - tf_psnr: 34.7190 - val_loss: 3.3118e-04 - val_tf_psnr: 34.8071\n",
            "Epoch 50/50\n",
            "120/120 [==============================] - 131s 1s/step - loss: 3.3289e-04 - tf_psnr: 34.7839 - val_loss: 3.2697e-04 - val_tf_psnr: 34.8625\n"
          ],
          "name": "stdout"
        },
        {
          "output_type": "execute_result",
          "data": {
            "text/plain": [
              "<keras.callbacks.History at 0x7f73aeee0cc0>"
            ]
          },
          "metadata": {
            "tags": []
          },
          "execution_count": 45
        }
      ]
    },
    {
      "cell_type": "code",
      "metadata": {
        "id": "cyIukmR9SVmf",
        "colab_type": "code",
        "colab": {}
      },
      "source": [
        ""
      ],
      "execution_count": 0,
      "outputs": []
    },
    {
      "cell_type": "code",
      "metadata": {
        "id": "MuDh0Z_zJGyL",
        "colab_type": "code",
        "colab": {}
      },
      "source": [
        "import matplotlib.pyplot as plt\n",
        "acc = history.history['tf_psnr']\n",
        "val_acc = history.history['val_tf_psnr']\n",
        "loss = history.history['loss']\n",
        "val_loss = history.history['val_loss']\n",
        "\n",
        "epochs = range(len(acc))\n",
        "\n",
        "plt.plot(epochs, acc, 'r', label='Training accuracy')\n",
        "plt.plot(epochs, val_acc, 'b', label='Validation accuracy')\n",
        "plt.title('Training and validation accuracy')\n",
        "plt.legend(loc=0)\n",
        "plt.figure()\n",
        "\n",
        "\n",
        "plt.show()"
      ],
      "execution_count": 0,
      "outputs": []
    },
    {
      "cell_type": "code",
      "metadata": {
        "id": "VaKTJpN6b7MA",
        "colab_type": "code",
        "outputId": "b9ae1c39-ee50-490a-87b6-634968e68d7f",
        "colab": {
          "base_uri": "https://localhost:8080/",
          "height": 35
        }
      },
      "source": [
        "reconstructed = model.predict(sparseview_60_test)\n",
        "psnr = cal_psnr(ndct_test, reconstructed)\n",
        "print(\"psnr 10 epochs.....\",psnr)"
      ],
      "execution_count": 46,
      "outputs": [
        {
          "output_type": "stream",
          "text": [
            "psnr 10 epochs..... 34.10879508830743\n"
          ],
          "name": "stdout"
        }
      ]
    },
    {
      "cell_type": "code",
      "metadata": {
        "id": "9oDsIQ8JcFCR",
        "colab_type": "code",
        "colab": {}
      },
      "source": [
        "from PIL import Image\n",
        "\n",
        "a = reconstructed[0].reshape(512, 512)\n",
        "scalef = np.amax(a)\n",
        "a = np.clip(255 * a/scalef, 0, 255).astype('uint8')\n",
        "#result = Image.fromarray((a * 255).astype(np.uint8))                                                                                                \n",
        "result = Image.fromarray((a).astype(np.uint8))\n",
        "result.save('unet_0_300.png')\n",
        "result.save('/content/drive/My Drive/Colab Notebooks/dncnn_keras_colab_notebook/unet_colab6_0_50.png')\n",
        "\n",
        "a = reconstructed[12].reshape(512, 512)\n",
        "scalef = np.amax(a)\n",
        "a = np.clip(255 * a/scalef, 0, 255).astype('uint8')\n",
        "#result = Image.fromarray((a * 255).astype(np.uint8))                                                                                                \n",
        "result = Image.fromarray((a).astype(np.uint8))\n",
        "result.save('unet_12_300.png')\n",
        "result.save('/content/drive/My Drive/Colab Notebooks/dncnn_keras_colab_notebook/unet_colab6_12_50.png')"
      ],
      "execution_count": 0,
      "outputs": []
    },
    {
      "cell_type": "code",
      "metadata": {
        "id": "y4bvFINQctid",
        "colab_type": "code",
        "colab": {}
      },
      "source": [
        "model.save_weights(\"model.h5\")"
      ],
      "execution_count": 0,
      "outputs": []
    },
    {
      "cell_type": "code",
      "metadata": {
        "id": "nF6PStkneTDI",
        "colab_type": "code",
        "colab": {}
      },
      "source": [
        "# Plot training & validation accuracy values\n",
        "plt.plot(history.history['tf_psnr'])\n",
        "plt.plot(history.history['val_tf_psnr'])\n",
        "plt.title('Model accuracy')\n",
        "plt.ylabel('Accuracy')\n",
        "plt.xlabel('Epoch')\n",
        "plt.legend(['Train', 'Test'], loc='upper left')\n",
        "plt.show()\n",
        "\n",
        "# Plot training & validation loss values\n",
        "plt.plot(history.history['loss'])\n",
        "plt.plot(history.history['val_loss'])\n",
        "plt.title('Model loss')\n",
        "plt.ylabel('Loss')\n",
        "plt.xlabel('Epoch')\n",
        "plt.legend(['Train', 'Test'], loc='upper left')\n",
        "plt.show()"
      ],
      "execution_count": 0,
      "outputs": []
    }
  ]
}