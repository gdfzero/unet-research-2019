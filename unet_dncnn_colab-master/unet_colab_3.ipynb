{
  "nbformat": 4,
  "nbformat_minor": 0,
  "metadata": {
    "colab": {
      "name": "unet_colab_3.ipynb",
      "version": "0.3.2",
      "provenance": [],
      "collapsed_sections": [],
      "machine_shape": "hm"
    },
    "kernelspec": {
      "name": "python3",
      "display_name": "Python 3"
    },
    "accelerator": "GPU"
  },
  "cells": [
    {
      "cell_type": "code",
      "metadata": {
        "id": "rnIvzBt4eVg-",
        "colab_type": "code",
        "outputId": "fab8beac-4205-4cda-f253-ca464545efcf",
        "colab": {
          "base_uri": "https://localhost:8080/",
          "height": 124
        }
      },
      "source": [
        "\n",
        "from google.colab import drive\n",
        "drive.mount('/content/drive')"
      ],
      "execution_count": 1,
      "outputs": [
        {
          "output_type": "stream",
          "text": [
            "Go to this URL in a browser: https://accounts.google.com/o/oauth2/auth?client_id=947318989803-6bn6qk8qdgf4n4g3pfee6491hc0brc4i.apps.googleusercontent.com&redirect_uri=urn%3Aietf%3Awg%3Aoauth%3A2.0%3Aoob&scope=email%20https%3A%2F%2Fwww.googleapis.com%2Fauth%2Fdocs.test%20https%3A%2F%2Fwww.googleapis.com%2Fauth%2Fdrive%20https%3A%2F%2Fwww.googleapis.com%2Fauth%2Fdrive.photos.readonly%20https%3A%2F%2Fwww.googleapis.com%2Fauth%2Fpeopleapi.readonly&response_type=code\n",
            "\n",
            "Enter your authorization code:\n",
            "··········\n",
            "Mounted at /content/drive\n"
          ],
          "name": "stdout"
        }
      ]
    },
    {
      "cell_type": "markdown",
      "metadata": {
        "id": "h9X2TUMa3zfN",
        "colab_type": "text"
      },
      "source": [
        ""
      ]
    },
    {
      "cell_type": "code",
      "metadata": {
        "id": "m-MW8CAZfUBR",
        "colab_type": "code",
        "outputId": "acbd9f42-4c0a-44cd-e317-1201e9c96708",
        "colab": {
          "base_uri": "https://localhost:8080/",
          "height": 35
        }
      },
      "source": [
        "\n",
        "import os\n",
        "\n",
        "import zipfile\n",
        "import random\n",
        "import tensorflow as tf\n",
        "from tensorflow.keras.optimizers import RMSprop\n",
        "from tensorflow.keras.preprocessing.image import ImageDataGenerator\n",
        "from shutil import copyfile\n",
        "import numpy as np\n",
        "\n",
        "import matplotlib.pyplot as plt\n",
        "import matplotlib.image as mpimg\n",
        "from keras.layers import Concatenate\n",
        "from keras.models import Sequential\n",
        "import keras\n",
        "from keras.layers import Conv2D, MaxPooling2D, Input, Dense, BatchNormalization, Activation\n",
        "from keras.models import Model\n",
        "import matplotlib.image as mpimg\n",
        "from glob import glob\n",
        "from keras.layers.convolutional import Conv2DTranspose\n",
        "from keras.layers import concatenate\n",
        "import struct\n"
      ],
      "execution_count": 2,
      "outputs": [
        {
          "output_type": "stream",
          "text": [
            "Using TensorFlow backend.\n"
          ],
          "name": "stderr"
        }
      ]
    },
    {
      "cell_type": "code",
      "metadata": {
        "id": "v3XwCo5FflJ5",
        "colab_type": "code",
        "outputId": "2789c490-5c95-4ffc-dc06-cdb3da38481f",
        "colab": {
          "base_uri": "https://localhost:8080/",
          "height": 52
        }
      },
      "source": [
        "# print(len(os.listdir('/content/drive/My Drive/Colab Notebooks/CT_data/sparseview_60/train')))\n",
        "# print(len(os.listdir('/content/drive/My Drive/Colab Notebooks/CT_data/ndct/train')))\n",
        "# # 3600\n",
        "# # 3600"
      ],
      "execution_count": 0,
      "outputs": [
        {
          "output_type": "stream",
          "text": [
            "3600\n",
            "3600\n"
          ],
          "name": "stdout"
        }
      ]
    },
    {
      "cell_type": "code",
      "metadata": {
        "id": "3k7OOZb2fsF0",
        "colab_type": "code",
        "outputId": "760c3ea7-1c2d-4dab-d18e-90aa7e98f2c3",
        "colab": {
          "base_uri": "https://localhost:8080/",
          "height": 52
        }
      },
      "source": [
        "# print(len(os.listdir('/content/drive/My Drive/Colab Notebooks/CT_data/sparseview_60/test/')))\n",
        "# print(len(os.listdir('/content/drive/My Drive/Colab Notebooks/CT_data/ndct/test/')))\n",
        "# # 354\n",
        "# # 354"
      ],
      "execution_count": 0,
      "outputs": [
        {
          "output_type": "stream",
          "text": [
            "354\n",
            "354\n"
          ],
          "name": "stdout"
        }
      ]
    },
    {
      "cell_type": "code",
      "metadata": {
        "id": "Wp18zNh9ylg2",
        "colab_type": "code",
        "outputId": "6f35dde7-2460-44f8-b806-167db4114937",
        "colab": {
          "base_uri": "https://localhost:8080/",
          "height": 86
        }
      },
      "source": [
        "# ndct = sorted(glob('/content/drive/My Drive/Colab Notebooks/CT_data/ndct/train/*'))\n",
        "# ldct = sorted(glob('/content/drive/My Drive/Colab Notebooks/CT_data/sparseview_60/train/*'))\n",
        "\n",
        "# ndct_test = sorted(glob('/content/drive/My Drive/Colab Notebooks/CT_data/ndct/test/*'))\n",
        "# ldct_test = sorted(glob('/content/drive/My Drive/Colab Notebooks/CT_data/sparseview_60/test/*'))\n",
        "\n",
        "# print(len(ndct))\n",
        "# print(len(ldct))\n",
        "# print(len(ndct_test))\n",
        "# print(len(ldct_test))"
      ],
      "execution_count": 0,
      "outputs": [
        {
          "output_type": "stream",
          "text": [
            "3600\n",
            "3600\n",
            "354\n",
            "354\n"
          ],
          "name": "stdout"
        }
      ]
    },
    {
      "cell_type": "code",
      "metadata": {
        "id": "R3JzsEPJxjjX",
        "colab_type": "code",
        "colab": {}
      },
      "source": [
        "def cal_psnr(im1, im2):\n",
        "    # assert pixel value range is 0-255 and type is uint8\n",
        "    mse = ((im1.astype(np.float) - im2.astype(np.float)) ** 2).mean()\n",
        "    maxval = np.amax(im1)\n",
        "    psnr = 10 * np.log10(maxval ** 2 / mse)\n",
        "    return psnr\n",
        "\n",
        "def tf_psnr(im1, im2):\n",
        "    # assert pixel value range is 0-1\n",
        "    #mse = tf.losses.mean_squared_error(labels=im2 * 255.0, predictions=im1 * 255.0)\n",
        "    mse = tf.compat.v1.losses.mean_squared_error(labels=im2 * 255.0, predictions=im1 * 255.0)\n",
        "    return 10.0 * (tf.log(255.0 ** 2 / mse) / tf.log(10.0))"
      ],
      "execution_count": 0,
      "outputs": []
    },
    {
      "cell_type": "code",
      "metadata": {
        "id": "qoWtZ9Atydt6",
        "colab_type": "code",
        "colab": {}
      },
      "source": [
        ""
      ],
      "execution_count": 0,
      "outputs": []
    },
    {
      "cell_type": "code",
      "metadata": {
        "id": "cl-9hN83yRFM",
        "colab_type": "code",
        "outputId": "8ceb0b73-9e6a-47fb-b689-f0d8f6701f7f",
        "colab": {
          "base_uri": "https://localhost:8080/",
          "height": 35
        }
      },
      "source": [
        "# ndct_imgs_train = []\n",
        "# for i in range(0, len(ndct)):                                                                                                                                      \n",
        "# #for i in range(0, 1600):\n",
        "#     f = open(ndct[i],'rb')\n",
        "#     a = np.fromfile(f, np.float32)\n",
        "#     ndct_imgs_train.append(a)\n",
        "#     f.close()\n",
        "# print(\"len(ndct_imgs_train)....: \",len(ndct_imgs_train))\n",
        "                                                                                                                                                         "
      ],
      "execution_count": 0,
      "outputs": [
        {
          "output_type": "stream",
          "text": [
            "len(ndct_imgs_train)....:  3600\n"
          ],
          "name": "stdout"
        }
      ]
    },
    {
      "cell_type": "code",
      "metadata": {
        "id": "4bqck35HDWv7",
        "colab_type": "code",
        "outputId": "50b668a1-2545-42d8-8040-d3969528ddda",
        "colab": {
          "base_uri": "https://localhost:8080/",
          "height": 35
        }
      },
      "source": [
        "# ldct_imgs_train = []\n",
        "# for i in range(0, len(ldct)):\n",
        "# #for i in range(0, 1600):\n",
        "#     f = open(ldct[i],'rb')\n",
        "#     a = np.fromfile(f, np.float32)\n",
        "#     ldct_imgs_train.append(a)\n",
        "#     f.close()\n",
        "# print(\"len(ldct_imgs_train)....: \",len(ldct_imgs_train))"
      ],
      "execution_count": 0,
      "outputs": [
        {
          "output_type": "stream",
          "text": [
            "len(ldct_imgs_train)....:  3600\n"
          ],
          "name": "stdout"
        }
      ]
    },
    {
      "cell_type": "code",
      "metadata": {
        "id": "TFycVaUqDP6F",
        "colab_type": "code",
        "outputId": "0ee93c6f-e855-4e4b-b3fb-62deb4f0006f",
        "colab": {
          "base_uri": "https://localhost:8080/",
          "height": 35
        }
      },
      "source": [
        "# ndct_imgs_test = []\n",
        "# for i in range(0, len(ndct_test)):\n",
        "# #for i in range(0, 10):\n",
        "#     f = open(ndct_test[i],'rb')\n",
        "#     a = np.fromfile(f, np.float32)\n",
        "#     ndct_imgs_test.append(a)\n",
        "#     f.close()\n",
        "# print(\"len(ndct_imgs_test)....: \",len(ndct_imgs_test))\n"
      ],
      "execution_count": 0,
      "outputs": [
        {
          "output_type": "stream",
          "text": [
            "len(ndct_imgs_test)....:  354\n"
          ],
          "name": "stdout"
        }
      ]
    },
    {
      "cell_type": "code",
      "metadata": {
        "id": "6bhvYILZDZ8Z",
        "colab_type": "code",
        "outputId": "ce0e3e0e-ca94-438a-81f6-15a0afdf0ffd",
        "colab": {
          "base_uri": "https://localhost:8080/",
          "height": 35
        }
      },
      "source": [
        "# # load the image\n",
        "# ldct_imgs_test = []\n",
        "# for i in range(0, len(ldct_test)):\n",
        "# #for i in range(0, 10):\n",
        "#     f = open(ldct_test[i],'rb')\n",
        "#     a = np.fromfile(f, np.float32)\n",
        "#     ldct_imgs_test.append(a)\n",
        "#     f.close()\n",
        "# print(\"len(ldct_imgs_test)....: \",len(ldct_imgs_test))\n"
      ],
      "execution_count": 0,
      "outputs": [
        {
          "output_type": "stream",
          "text": [
            "len(ldct_imgs_test)....:  354\n"
          ],
          "name": "stdout"
        }
      ]
    },
    {
      "cell_type": "code",
      "metadata": {
        "id": "hvTUFGsCz_UF",
        "colab_type": "code",
        "outputId": "8dd45367-acd7-43a2-86f0-08e356108ab6",
        "colab": {
          "base_uri": "https://localhost:8080/",
          "height": 86
        }
      },
      "source": [
        "# ldct_train = np.asarray(ldct_imgs_train)\n",
        "# ndct_train = np.asarray(ndct_imgs_train)\n",
        "\n",
        "# ldct_train = ldct_train.reshape(3600,512,512,1)\n",
        "# ndct_train = ndct_train.reshape(3600,512,512,1)\n",
        "\n",
        "# ldct_test = np.asarray(ldct_imgs_test)\n",
        "# ndct_test = np.asarray(ndct_imgs_test)\n",
        "\n",
        "# ldct_test = ldct_test.reshape(len(ldct_imgs_test),512,512,1)\n",
        "# ndct_test = ndct_test.reshape(len(ldct_imgs_test),512,512,1)\n",
        "\n",
        "# print(ldct_train.shape)\n",
        "# print(ndct_train.shape)\n",
        "# print(ldct_test.shape)\n",
        "# print(ndct_test.shape)\n"
      ],
      "execution_count": 0,
      "outputs": [
        {
          "output_type": "stream",
          "text": [
            "(3600, 512, 512, 1)\n",
            "(3600, 512, 512, 1)\n",
            "(354, 512, 512, 1)\n",
            "(354, 512, 512, 1)\n"
          ],
          "name": "stdout"
        }
      ]
    },
    {
      "cell_type": "code",
      "metadata": {
        "id": "LOJhl1q0WWOJ",
        "colab_type": "code",
        "colab": {}
      },
      "source": [
        "# np.save('sparseview_60_train', ldct_train) # save the file as \"sparseview_60_train.npy\" \n",
        "# np.save('ndct_train', ndct_train) # save the file as \"ndct_train.npy\" \n",
        "\n",
        "# np.save('sparseview_60_test', ldct_test) # save the file as \"sparseview_60_test.npy\" \n",
        "# np.save('ndct_test', ndct_test) # save the file as \"ndct_test.npy\" \n"
      ],
      "execution_count": 0,
      "outputs": []
    },
    {
      "cell_type": "code",
      "metadata": {
        "id": "BvRfSaiGWfko",
        "colab_type": "code",
        "colab": {}
      },
      "source": [
        "sparseview_60_train = np.load('/content/drive/My Drive/Colab Notebooks/dncnn_keras_colab_notebook/sparseview_60_train.npy') # loads saved array into variable sparseview_60_train.\n",
        "ndct_train = np.load('/content/drive/My Drive/Colab Notebooks/dncnn_keras_colab_notebook/ndct_train.npy') # loads saved array into variable ndct_train.\n",
        "sparseview_60_test = np.load('/content/drive/My Drive/Colab Notebooks/dncnn_keras_colab_notebook/sparseview_60_test.npy') # loads saved array into variable sparseview_60_test.\n",
        "ndct_test = np.load('/content/drive/My Drive/Colab Notebooks/dncnn_keras_colab_notebook/ndct_test.npy') # loads saved array into variable ndct_test.\n",
        "\n",
        "# sparseview_60_train = np.load('sparseview_60_train.npy') # loads saved array into variable sparseview_60_train.\n",
        "# ndct_train = np.load('ndct_train.npy') # loads saved array into variable ndct_train.\n",
        "# sparseview_60_test = np.load('sparseview_60_test.npy') # loads saved array into variable sparseview_60_test.\n",
        "# ndct_test = np.load('ndct_test.npy') # loads saved array into variable ndct_test.\n"
      ],
      "execution_count": 0,
      "outputs": []
    },
    {
      "cell_type": "code",
      "metadata": {
        "id": "_KPySRIgHrLC",
        "colab_type": "code",
        "colab": {}
      },
      "source": [
        "# class LossHistory(keras.callbacks.Callback):\n",
        "#     def on_train_begin(self, logs={}):\n",
        "#         self.losses = []\n",
        "\n",
        "#     def on_batch_end(self, batch, logs={}):\n",
        "#         self.losses.append(logs.get('loss'))\n",
        "# history = LossHistory()"
      ],
      "execution_count": 0,
      "outputs": []
    },
    {
      "cell_type": "code",
      "metadata": {
        "id": "-DE5WJS0EDrp",
        "colab_type": "code",
        "colab": {}
      },
      "source": [
        "es = keras.callbacks.EarlyStopping(monitor='val_loss',\n",
        "                              min_delta=0,\n",
        "                              patience=4,\n",
        "                              verbose=0, mode='auto')"
      ],
      "execution_count": 0,
      "outputs": []
    },
    {
      "cell_type": "markdown",
      "metadata": {
        "id": "d9iAmlbV6c_0",
        "colab_type": "text"
      },
      "source": [
        "Basic UNet model"
      ]
    },
    {
      "cell_type": "code",
      "metadata": {
        "id": "S-i8tdUv6H7Q",
        "colab_type": "code",
        "colab": {}
      },
      "source": [
        "inputs = Input((None, None,1))\n",
        "\n",
        "c1 = Conv2D(8, (3, 3), activation='relu', padding='same') (inputs)\n",
        "c1 = Conv2D(8, (3, 3), activation='relu', padding='same') (c1)\n",
        "p1 = MaxPooling2D((2, 2)) (c1)\n",
        "\n",
        "c2 = Conv2D(16, (3, 3), activation='relu', padding='same') (p1)\n",
        "c2 = Conv2D(16, (3, 3), activation='relu', padding='same') (c2)\n",
        "p2 = MaxPooling2D((2, 2)) (c2)\n",
        "\n",
        "c3 = Conv2D(32, (3, 3), activation='relu', padding='same') (p2)\n",
        "c3 = Conv2D(32, (3, 3), activation='relu', padding='same') (c3)\n",
        "p3 = MaxPooling2D((2, 2)) (c3)\n",
        "\n",
        "\n",
        "c5 = Conv2D(64, (3, 3), activation='relu', padding='same') (p3)\n",
        "c5 = Conv2D(64, (3, 3), activation='relu', padding='same') (c5)\n",
        "p5 = MaxPooling2D(pool_size=(2, 2)) (c5)\n",
        "\n",
        "c55 = Conv2D(128, (3, 3), activation='relu', padding='same') (p5)\n",
        "c55 = Conv2D(128, (3, 3), activation='relu', padding='same') (c55)\n",
        "\n",
        "u6 = Conv2DTranspose(64, (2, 2), strides=(2, 2), padding='same') (c55)\n",
        "u6 = concatenate([u6, c5])\n",
        "c6 = Conv2D(64, (3, 3), activation='relu', padding='same') (u6)\n",
        "c6 = Conv2D(64, (3, 3), activation='relu', padding='same') (c6)\n",
        "\n",
        "\n",
        "u7 = Conv2DTranspose(32, (2, 2), strides=(2, 2), padding='same') (c6)\n",
        "u7 = concatenate([u7, c3])\n",
        "c7 = Conv2D(32, (3, 3), activation='relu', padding='same') (u7)\n",
        "c7 = Conv2D(32, (3, 3), activation='relu', padding='same') (c7)\n",
        "\n",
        "u8 = Conv2DTranspose(16, (2, 2), strides=(2, 2), padding='same') (c7)\n",
        "u8 = concatenate([u8, c2])\n",
        "c8 = Conv2D(16, (3, 3), activation='relu', padding='same') (u8)\n",
        "c8 = Conv2D(16, (3, 3), activation='relu', padding='same') (c8)\n",
        "\n",
        "u9 = Conv2DTranspose(8, (2, 2), strides=(2, 2), padding='same') (c8)\n",
        "u9 = concatenate([u9, c1])\n",
        "c9 = Conv2D(8, (3, 3), activation='relu', padding='same') (u9)\n",
        "c9 = Conv2D(8, (3, 3), activation='relu', padding='same') (c9)\n",
        "\n",
        "output_img = Conv2D(1, (1, 1)) (c9)\n",
        "subtracted = keras.layers.Subtract()([inputs, output_img])\n",
        "\n",
        "\n",
        "model = Model(inputs=[inputs], outputs=[subtracted])\n",
        "model.compile(optimizer='adam', loss='mse', metrics=[tf_psnr])\n",
        "\n"
      ],
      "execution_count": 0,
      "outputs": []
    },
    {
      "cell_type": "code",
      "metadata": {
        "id": "RjtnKKkg6Icv",
        "colab_type": "code",
        "outputId": "d9c338a7-7a8e-4cd9-f46a-818c022c3c9c",
        "colab": {
          "base_uri": "https://localhost:8080/",
          "height": 1000
        }
      },
      "source": [
        "history = model.fit(sparseview_60_train, ndct_train, validation_split=0.05, batch_size=30, epochs=50, callbacks =[es])\n"
      ],
      "execution_count": 11,
      "outputs": [
        {
          "output_type": "stream",
          "text": [
            "Train on 3420 samples, validate on 180 samples\n",
            "Epoch 1/50\n",
            "3420/3420 [==============================] - 131s 38ms/step - loss: 6.3313e-04 - tf_psnr: 32.0223 - val_loss: 3.9764e-04 - val_tf_psnr: 34.0120\n",
            "Epoch 2/50\n",
            "3420/3420 [==============================] - 130s 38ms/step - loss: 4.7142e-04 - tf_psnr: 33.2867 - val_loss: 3.2876e-04 - val_tf_psnr: 34.8441\n",
            "Epoch 3/50\n",
            "3420/3420 [==============================] - 130s 38ms/step - loss: 3.6361e-04 - tf_psnr: 34.4058 - val_loss: 2.7292e-04 - val_tf_psnr: 35.6679\n",
            "Epoch 4/50\n",
            "3420/3420 [==============================] - 131s 38ms/step - loss: 3.0385e-04 - tf_psnr: 35.1831 - val_loss: 2.4049e-04 - val_tf_psnr: 36.2419\n",
            "Epoch 5/50\n",
            "3420/3420 [==============================] - 131s 38ms/step - loss: 2.6557e-04 - tf_psnr: 35.7686 - val_loss: 2.2323e-04 - val_tf_psnr: 36.5568\n",
            "Epoch 6/50\n",
            "3420/3420 [==============================] - 131s 38ms/step - loss: 2.4573e-04 - tf_psnr: 36.1059 - val_loss: 2.0972e-04 - val_tf_psnr: 36.8239\n",
            "Epoch 7/50\n",
            "3420/3420 [==============================] - 130s 38ms/step - loss: 2.3193e-04 - tf_psnr: 36.3553 - val_loss: 2.1419e-04 - val_tf_psnr: 36.7454\n",
            "Epoch 8/50\n",
            "3420/3420 [==============================] - 130s 38ms/step - loss: 2.2140e-04 - tf_psnr: 36.5580 - val_loss: 1.9813e-04 - val_tf_psnr: 37.1006\n",
            "Epoch 9/50\n",
            "3420/3420 [==============================] - 131s 38ms/step - loss: 2.0885e-04 - tf_psnr: 36.8098 - val_loss: 2.0077e-04 - val_tf_psnr: 37.0316\n",
            "Epoch 10/50\n",
            "3420/3420 [==============================] - 130s 38ms/step - loss: 2.0242e-04 - tf_psnr: 36.9445 - val_loss: 1.8434e-04 - val_tf_psnr: 37.4098\n",
            "Epoch 11/50\n",
            "3420/3420 [==============================] - 130s 38ms/step - loss: 1.9581e-04 - tf_psnr: 37.0890 - val_loss: 1.8492e-04 - val_tf_psnr: 37.3922\n",
            "Epoch 12/50\n",
            "3420/3420 [==============================] - 131s 38ms/step - loss: 1.9263e-04 - tf_psnr: 37.1613 - val_loss: 1.7925e-04 - val_tf_psnr: 37.5304\n",
            "Epoch 13/50\n",
            "3420/3420 [==============================] - 131s 38ms/step - loss: 1.8782e-04 - tf_psnr: 37.2722 - val_loss: 1.7635e-04 - val_tf_psnr: 37.5923\n",
            "Epoch 14/50\n",
            "3420/3420 [==============================] - 131s 38ms/step - loss: 1.8192e-04 - tf_psnr: 37.4108 - val_loss: 1.7205e-04 - val_tf_psnr: 37.7053\n",
            "Epoch 15/50\n",
            "3420/3420 [==============================] - 131s 38ms/step - loss: 1.7690e-04 - tf_psnr: 37.5305 - val_loss: 1.7389e-04 - val_tf_psnr: 37.6443\n",
            "Epoch 16/50\n",
            "3420/3420 [==============================] - 130s 38ms/step - loss: 1.7347e-04 - tf_psnr: 37.6163 - val_loss: 1.6760e-04 - val_tf_psnr: 37.8029\n",
            "Epoch 17/50\n",
            "3420/3420 [==============================] - 131s 38ms/step - loss: 1.7152e-04 - tf_psnr: 37.6654 - val_loss: 1.8073e-04 - val_tf_psnr: 37.4835\n",
            "Epoch 18/50\n",
            "3420/3420 [==============================] - 131s 38ms/step - loss: 1.6789e-04 - tf_psnr: 37.7575 - val_loss: 1.6568e-04 - val_tf_psnr: 37.8742\n",
            "Epoch 19/50\n",
            "3420/3420 [==============================] - 130s 38ms/step - loss: 1.6821e-04 - tf_psnr: 37.7547 - val_loss: 1.6648e-04 - val_tf_psnr: 37.8497\n",
            "Epoch 20/50\n",
            "3420/3420 [==============================] - 131s 38ms/step - loss: 1.6283e-04 - tf_psnr: 37.8918 - val_loss: 1.6985e-04 - val_tf_psnr: 37.7589\n",
            "Epoch 21/50\n",
            "3420/3420 [==============================] - 130s 38ms/step - loss: 1.6095e-04 - tf_psnr: 37.9406 - val_loss: 1.6454e-04 - val_tf_psnr: 37.8823\n",
            "Epoch 22/50\n",
            "3420/3420 [==============================] - 130s 38ms/step - loss: 1.5929e-04 - tf_psnr: 37.9870 - val_loss: 1.6618e-04 - val_tf_psnr: 37.8373\n",
            "Epoch 23/50\n",
            "3420/3420 [==============================] - 130s 38ms/step - loss: 1.5781e-04 - tf_psnr: 38.0262 - val_loss: 1.5890e-04 - val_tf_psnr: 38.0381\n",
            "Epoch 24/50\n",
            "3420/3420 [==============================] - 131s 38ms/step - loss: 1.5589e-04 - tf_psnr: 38.0816 - val_loss: 1.6081e-04 - val_tf_psnr: 37.9988\n",
            "Epoch 25/50\n",
            "3420/3420 [==============================] - 131s 38ms/step - loss: 1.5314e-04 - tf_psnr: 38.1565 - val_loss: 1.5924e-04 - val_tf_psnr: 38.0352\n",
            "Epoch 26/50\n",
            "3420/3420 [==============================] - 131s 38ms/step - loss: 1.5125e-04 - tf_psnr: 38.2124 - val_loss: 1.5774e-04 - val_tf_psnr: 38.0638\n",
            "Epoch 27/50\n",
            "3420/3420 [==============================] - 130s 38ms/step - loss: 1.5045e-04 - tf_psnr: 38.2331 - val_loss: 1.5482e-04 - val_tf_psnr: 38.1561\n",
            "Epoch 28/50\n",
            "3420/3420 [==============================] - 131s 38ms/step - loss: 1.4759e-04 - tf_psnr: 38.3169 - val_loss: 1.5422e-04 - val_tf_psnr: 38.1622\n",
            "Epoch 29/50\n",
            "3420/3420 [==============================] - 130s 38ms/step - loss: 1.4840e-04 - tf_psnr: 38.2969 - val_loss: 1.6017e-04 - val_tf_psnr: 38.0041\n",
            "Epoch 30/50\n",
            "3420/3420 [==============================] - 131s 38ms/step - loss: 1.4585e-04 - tf_psnr: 38.3669 - val_loss: 1.5420e-04 - val_tf_psnr: 38.1761\n",
            "Epoch 31/50\n",
            "3420/3420 [==============================] - 131s 38ms/step - loss: 1.4760e-04 - tf_psnr: 38.3267 - val_loss: 1.5376e-04 - val_tf_psnr: 38.1837\n",
            "Epoch 32/50\n",
            "3420/3420 [==============================] - 130s 38ms/step - loss: 1.4163e-04 - tf_psnr: 38.4955 - val_loss: 1.5245e-04 - val_tf_psnr: 38.2194\n",
            "Epoch 33/50\n",
            "3420/3420 [==============================] - 131s 38ms/step - loss: 1.4146e-04 - tf_psnr: 38.5036 - val_loss: 1.4888e-04 - val_tf_psnr: 38.3240\n",
            "Epoch 34/50\n",
            "3420/3420 [==============================] - 130s 38ms/step - loss: 1.4498e-04 - tf_psnr: 38.4047 - val_loss: 1.5907e-04 - val_tf_psnr: 38.0397\n",
            "Epoch 35/50\n",
            "3420/3420 [==============================] - 131s 38ms/step - loss: 1.3938e-04 - tf_psnr: 38.5635 - val_loss: 1.5245e-04 - val_tf_psnr: 38.2296\n",
            "Epoch 36/50\n",
            "3420/3420 [==============================] - 130s 38ms/step - loss: 1.3859e-04 - tf_psnr: 38.5898 - val_loss: 1.4935e-04 - val_tf_psnr: 38.3140\n",
            "Epoch 37/50\n",
            "3420/3420 [==============================] - 131s 38ms/step - loss: 1.3734e-04 - tf_psnr: 38.6285 - val_loss: 1.4875e-04 - val_tf_psnr: 38.3355\n",
            "Epoch 38/50\n",
            "3420/3420 [==============================] - 130s 38ms/step - loss: 1.3720e-04 - tf_psnr: 38.6345 - val_loss: 1.4703e-04 - val_tf_psnr: 38.3910\n",
            "Epoch 39/50\n",
            "3420/3420 [==============================] - 132s 38ms/step - loss: 1.3999e-04 - tf_psnr: 38.5645 - val_loss: 1.6785e-04 - val_tf_psnr: 37.8154\n",
            "Epoch 40/50\n",
            "3420/3420 [==============================] - 132s 39ms/step - loss: 1.3557e-04 - tf_psnr: 38.6889 - val_loss: 1.4749e-04 - val_tf_psnr: 38.3651\n",
            "Epoch 41/50\n",
            "3420/3420 [==============================] - 132s 38ms/step - loss: 1.3372e-04 - tf_psnr: 38.7456 - val_loss: 1.5265e-04 - val_tf_psnr: 38.2065\n",
            "Epoch 42/50\n",
            "3420/3420 [==============================] - 132s 39ms/step - loss: 1.3338e-04 - tf_psnr: 38.7557 - val_loss: 1.4779e-04 - val_tf_psnr: 38.3541\n"
          ],
          "name": "stdout"
        }
      ]
    },
    {
      "cell_type": "code",
      "metadata": {
        "id": "MuDh0Z_zJGyL",
        "colab_type": "code",
        "colab": {
          "base_uri": "https://localhost:8080/",
          "height": 298
        },
        "outputId": "352d5e53-6300-4150-d550-d8b8a7bf50bc"
      },
      "source": [
        "import matplotlib.pyplot as plt\n",
        "acc = history.history['tf_psnr']\n",
        "val_acc = history.history['val_tf_psnr']\n",
        "loss = history.history['loss']\n",
        "val_loss = history.history['val_loss']\n",
        "\n",
        "epochs = range(len(acc))\n",
        "\n",
        "plt.plot(epochs, acc, 'r', label='Training accuracy')\n",
        "plt.plot(epochs, val_acc, 'b', label='Validation accuracy')\n",
        "plt.title('Training and validation accuracy')\n",
        "plt.legend(loc=0)\n",
        "plt.figure()\n",
        "\n",
        "\n",
        "plt.show()"
      ],
      "execution_count": 14,
      "outputs": [
        {
          "output_type": "display_data",
          "data": {
            "image/png": "[encoded data removed]",
            "text/plain": [
              "<Figure size 432x288 with 1 Axes>"
            ]
          },
          "metadata": {
            "tags": []
          }
        },
        {
          "output_type": "display_data",
          "data": {
            "text/plain": [
              "<Figure size 432x288 with 0 Axes>"
            ]
          },
          "metadata": {
            "tags": []
          }
        }
      ]
    },
    {
      "cell_type": "code",
      "metadata": {
        "id": "VaKTJpN6b7MA",
        "colab_type": "code",
        "colab": {
          "base_uri": "https://localhost:8080/",
          "height": 35
        },
        "outputId": "4f8e378e-e65f-4e43-8537-236bb1ea49f2"
      },
      "source": [
        "reconstructed = model.predict(sparseview_60_test)\n",
        "psnr = cal_psnr(ndct_test, reconstructed)\n",
        "print(\"psnr 10 epochs.....\",psnr)"
      ],
      "execution_count": 16,
      "outputs": [
        {
          "output_type": "stream",
          "text": [
            "psnr 10 epochs..... 37.74037465320515\n"
          ],
          "name": "stdout"
        }
      ]
    },
    {
      "cell_type": "code",
      "metadata": {
        "id": "9oDsIQ8JcFCR",
        "colab_type": "code",
        "colab": {}
      },
      "source": [
        "from PIL import Image\n",
        "\n",
        "a = reconstructed[0].reshape(512, 512)\n",
        "scalef = np.amax(a)\n",
        "a = np.clip(255 * a/scalef, 0, 255).astype('uint8')\n",
        "#result = Image.fromarray((a * 255).astype(np.uint8))                                                                                                \n",
        "result = Image.fromarray((a).astype(np.uint8))\n",
        "result.save('unet_0_300.png')\n",
        "result.save('/content/drive/My Drive/Colab Notebooks/dncnn_keras_colab_notebook/unet_0_50.png')\n",
        "\n",
        "a = reconstructed[12].reshape(512, 512)\n",
        "scalef = np.amax(a)\n",
        "a = np.clip(255 * a/scalef, 0, 255).astype('uint8')\n",
        "#result = Image.fromarray((a * 255).astype(np.uint8))                                                                                                \n",
        "result = Image.fromarray((a).astype(np.uint8))\n",
        "result.save('unet_12_300.png')\n",
        "result.save('/content/drive/My Drive/Colab Notebooks/dncnn_keras_colab_notebook/unet_12_50.png')"
      ],
      "execution_count": 0,
      "outputs": []
    },
    {
      "cell_type": "code",
      "metadata": {
        "id": "JxQcNJK1FPGt",
        "colab_type": "code",
        "colab": {
          "base_uri": "https://localhost:8080/",
          "height": 400
        },
        "outputId": "2a7d31bb-a1bd-4473-e7c1-d4da8f8841bf"
      },
      "source": [
        "history = model.fit(sparseview_60_train, ndct_train, validation_split=0.05, batch_size=30, epochs=50, callbacks =[es])\n"
      ],
      "execution_count": 19,
      "outputs": [
        {
          "output_type": "stream",
          "text": [
            "Train on 3420 samples, validate on 180 samples\n",
            "Epoch 1/50\n",
            "3420/3420 [==============================] - 131s 38ms/step - loss: 1.3219e-04 - tf_psnr: 38.7948 - val_loss: 1.4702e-04 - val_tf_psnr: 38.3846\n",
            "Epoch 2/50\n",
            "3420/3420 [==============================] - 130s 38ms/step - loss: 1.3233e-04 - tf_psnr: 38.7907 - val_loss: 1.4722e-04 - val_tf_psnr: 38.3813\n",
            "Epoch 3/50\n",
            "3420/3420 [==============================] - 130s 38ms/step - loss: 1.3014e-04 - tf_psnr: 38.8624 - val_loss: 1.4669e-04 - val_tf_psnr: 38.3842\n",
            "Epoch 4/50\n",
            "3420/3420 [==============================] - 130s 38ms/step - loss: 1.2996e-04 - tf_psnr: 38.8693 - val_loss: 1.4535e-04 - val_tf_psnr: 38.4276\n",
            "Epoch 5/50\n",
            "3420/3420 [==============================] - 131s 38ms/step - loss: 1.3042e-04 - tf_psnr: 38.8550 - val_loss: 1.4641e-04 - val_tf_psnr: 38.3960\n",
            "Epoch 6/50\n",
            "3420/3420 [==============================] - 131s 38ms/step - loss: 1.2848e-04 - tf_psnr: 38.9169 - val_loss: 1.4400e-04 - val_tf_psnr: 38.4712\n",
            "Epoch 7/50\n",
            "3420/3420 [==============================] - 130s 38ms/step - loss: 1.2845e-04 - tf_psnr: 38.9219 - val_loss: 1.4553e-04 - val_tf_psnr: 38.4273\n",
            "Epoch 8/50\n",
            "3420/3420 [==============================] - 130s 38ms/step - loss: 1.2830e-04 - tf_psnr: 38.9243 - val_loss: 1.4592e-04 - val_tf_psnr: 38.4078\n",
            "Epoch 9/50\n",
            "3420/3420 [==============================] - 130s 38ms/step - loss: 1.2766e-04 - tf_psnr: 38.9466 - val_loss: 1.4769e-04 - val_tf_psnr: 38.3472\n",
            "Epoch 10/50\n",
            "3420/3420 [==============================] - 131s 38ms/step - loss: 1.2636e-04 - tf_psnr: 38.9896 - val_loss: 1.6105e-04 - val_tf_psnr: 37.9707\n"
          ],
          "name": "stdout"
        }
      ]
    },
    {
      "cell_type": "code",
      "metadata": {
        "id": "JTWGLNWjbv5A",
        "colab_type": "code",
        "colab": {
          "base_uri": "https://localhost:8080/",
          "height": 35
        },
        "outputId": "fec5c702-3518-4e8c-8d48-53e86d2c350c"
      },
      "source": [
        "reconstructed = model.predict(sparseview_60_test)\n",
        "psnr = cal_psnr(ndct_test, reconstructed)\n",
        "print(\"psnr 10 epochs.....\",psnr)"
      ],
      "execution_count": 20,
      "outputs": [
        {
          "output_type": "stream",
          "text": [
            "psnr 10 epochs..... 37.38823476838129\n"
          ],
          "name": "stdout"
        }
      ]
    },
    {
      "cell_type": "code",
      "metadata": {
        "id": "y4bvFINQctid",
        "colab_type": "code",
        "colab": {}
      },
      "source": [
        "model.save_weights(\"model.h5\")"
      ],
      "execution_count": 0,
      "outputs": []
    },
    {
      "cell_type": "code",
      "metadata": {
        "id": "nF6PStkneTDI",
        "colab_type": "code",
        "colab": {
          "base_uri": "https://localhost:8080/",
          "height": 574
        },
        "outputId": "d326a867-1a81-4cee-c594-4773bf3bd486"
      },
      "source": [
        "# Plot training & validation accuracy values\n",
        "plt.plot(history.history['tf_psnr'])\n",
        "plt.plot(history.history['val_tf_psnr'])\n",
        "plt.title('Model accuracy')\n",
        "plt.ylabel('Accuracy')\n",
        "plt.xlabel('Epoch')\n",
        "plt.legend(['Train', 'Test'], loc='upper left')\n",
        "plt.show()\n",
        "\n",
        "# Plot training & validation loss values\n",
        "plt.plot(history.history['loss'])\n",
        "plt.plot(history.history['val_loss'])\n",
        "plt.title('Model loss')\n",
        "plt.ylabel('Loss')\n",
        "plt.xlabel('Epoch')\n",
        "plt.legend(['Train', 'Test'], loc='upper left')\n",
        "plt.show()"
      ],
      "execution_count": 25,
      "outputs": [
        {
          "output_type": "display_data",
          "data": {
            "image/png": "[encoded data removed]",
            "text/plain": [
              "<Figure size 432x288 with 1 Axes>"
            ]
          },
          "metadata": {
            "tags": []
          }
        },
        {
          "output_type": "display_data",
          "data": {
            "image/png": "[encoded data removed]",
            "text/plain": [
              "<Figure size 432x288 with 1 Axes>"
            ]
          },
          "metadata": {
            "tags": []
          }
        }
      ]
    },
    {
      "cell_type": "code",
      "metadata": {
        "id": "zwngD9UUJJ8B",
        "colab_type": "code",
        "colab": {
          "base_uri": "https://localhost:8080/",
          "height": 298
        },
        "outputId": "62c133c0-f386-492e-98dd-038ea469387e"
      },
      "source": [
        "import matplotlib.pyplot as plt\n",
        "acc = history.history['tf_psnr']\n",
        "val_acc = history.history['val_tf_psnr']\n",
        "loss = history.history['loss']\n",
        "val_loss = history.history['val_loss']\n",
        "\n",
        "epochs = range(len(acc))\n",
        "\n",
        "plt.plot(epochs, acc, 'r', label='Training accuracy')\n",
        "plt.plot(epochs, val_acc, 'b', label='Validation accuracy')\n",
        "plt.title('Training and validation accuracy')\n",
        "plt.legend(loc=0)\n",
        "plt.figure()\n",
        "\n",
        "\n",
        "plt.show()"
      ],
      "execution_count": 28,
      "outputs": [
        {
          "output_type": "display_data",
          "data": {
            "image/png": "[encoded data removed]",
            "text/plain": [
              "<Figure size 432x288 with 1 Axes>"
            ]
          },
          "metadata": {
            "tags": []
          }
        },
        {
          "output_type": "display_data",
          "data": {
            "text/plain": [
              "<Figure size 432x288 with 0 Axes>"
            ]
          },
          "metadata": {
            "tags": []
          }
        }
      ]
    },
    {
      "cell_type": "code",
      "metadata": {
        "id": "_BmuxnBu6IyX",
        "colab_type": "code",
        "outputId": "aeb52214-8d91-47ca-d283-710b56eeb71c",
        "colab": {
          "base_uri": "https://localhost:8080/",
          "height": 35
        }
      },
      "source": [
        "reconstructed = model.predict(sparseview_60_test)\n",
        "psnr = cal_psnr(ndct_test, reconstructed)\n",
        "print(\"psnr 10 epochs.....\",psnr)"
      ],
      "execution_count": 29,
      "outputs": [
        {
          "output_type": "stream",
          "text": [
            "psnr 10 epochs..... 37.38823476838129\n"
          ],
          "name": "stdout"
        }
      ]
    },
    {
      "cell_type": "code",
      "metadata": {
        "id": "QJkOza9DDvPy",
        "colab_type": "code",
        "colab": {}
      },
      "source": [
        ""
      ],
      "execution_count": 0,
      "outputs": []
    },
    {
      "cell_type": "code",
      "metadata": {
        "id": "ZqBhujCqErRq",
        "colab_type": "code",
        "colab": {}
      },
      "source": [
        "from PIL import Image\n",
        "\n",
        "a = reconstructed[0].reshape(512, 512)\n",
        "scalef = np.amax(a)\n",
        "a = np.clip(255 * a/scalef, 0, 255).astype('uint8')\n",
        "#result = Image.fromarray((a * 255).astype(np.uint8))                                                                                                \n",
        "result = Image.fromarray((a).astype(np.uint8))\n",
        "result.save('unet_0_300.png')\n",
        "result.save('/content/drive/My Drive/Colab Notebooks/dncnn_keras_colab_notebook/unet_0_37.38.png')\n",
        "\n",
        "a = reconstructed[12].reshape(512, 512)\n",
        "scalef = np.amax(a)\n",
        "a = np.clip(255 * a/scalef, 0, 255).astype('uint8')\n",
        "#result = Image.fromarray((a * 255).astype(np.uint8))                                                                                                \n",
        "result = Image.fromarray((a).astype(np.uint8))\n",
        "result.save('unet_12_300.png')\n",
        "result.save('/content/drive/My Drive/Colab Notebooks/dncnn_keras_colab_notebook/rec_orig_12_37.38.png')"
      ],
      "execution_count": 0,
      "outputs": []
    }
  ]
}