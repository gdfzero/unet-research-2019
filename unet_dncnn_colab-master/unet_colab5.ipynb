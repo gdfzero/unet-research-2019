{
  "nbformat": 4,
  "nbformat_minor": 0,
  "metadata": {
    "colab": {
      "name": "unet_colab5.ipynb",
      "version": "0.3.2",
      "provenance": [],
      "collapsed_sections": [],
      "machine_shape": "hm"
    },
    "kernelspec": {
      "name": "python3",
      "display_name": "Python 3"
    },
    "accelerator": "GPU"
  },
  "cells": [
    {
      "cell_type": "code",
      "metadata": {
        "id": "rnIvzBt4eVg-",
        "colab_type": "code",
        "outputId": "ef2c9770-a760-49a3-927d-a6ded65de447",
        "colab": {
          "base_uri": "https://localhost:8080/",
          "height": 124
        }
      },
      "source": [
        "\n",
        "from google.colab import drive\n",
        "drive.mount('/content/drive')"
      ],
      "execution_count": 1,
      "outputs": [
        {
          "output_type": "stream",
          "text": [
            "Go to this URL in a browser: https://accounts.google.com/o/oauth2/auth?client_id=947318989803-6bn6qk8qdgf4n4g3pfee6491hc0brc4i.apps.googleusercontent.com&redirect_uri=urn%3Aietf%3Awg%3Aoauth%3A2.0%3Aoob&scope=email%20https%3A%2F%2Fwww.googleapis.com%2Fauth%2Fdocs.test%20https%3A%2F%2Fwww.googleapis.com%2Fauth%2Fdrive%20https%3A%2F%2Fwww.googleapis.com%2Fauth%2Fdrive.photos.readonly%20https%3A%2F%2Fwww.googleapis.com%2Fauth%2Fpeopleapi.readonly&response_type=code\n",
            "\n",
            "Enter your authorization code:\n",
            "··········\n",
            "Mounted at /content/drive\n"
          ],
          "name": "stdout"
        }
      ]
    },
    {
      "cell_type": "markdown",
      "metadata": {
        "id": "h9X2TUMa3zfN",
        "colab_type": "text"
      },
      "source": [
        ""
      ]
    },
    {
      "cell_type": "code",
      "metadata": {
        "id": "m-MW8CAZfUBR",
        "colab_type": "code",
        "colab": {}
      },
      "source": [
        "\n",
        "import os\n",
        "import zipfile\n",
        "import random\n",
        "import keras\n",
        "import tensorflow as tf\n",
        "import numpy as np\n",
        "import matplotlib.pyplot as plt\n",
        "import matplotlib.image as mpimg\n",
        "from keras.layers import Concatenate\n",
        "from keras.models import Sequential\n",
        "from keras.layers import Conv2D, MaxPooling2D, Input, Dense\n",
        "from keras.layers import BatchNormalization, Activation, Dropout, Subtract\n",
        "from keras.models import Model\n",
        "from glob import glob\n",
        "from keras.layers.convolutional import Conv2DTranspose\n",
        "from keras.layers import concatenate\n",
        "from tensorflow.keras.optimizers import RMSprop\n",
        "from tensorflow.keras.preprocessing.image import ImageDataGenerator\n",
        "from shutil import copyfile\n"
      ],
      "execution_count": 0,
      "outputs": []
    },
    {
      "cell_type": "markdown",
      "metadata": {
        "id": "0_4hx6SWlrpx",
        "colab_type": "text"
      },
      "source": [
        "loaded_model.load_weights(\"model.h5\")\n"
      ]
    },
    {
      "cell_type": "code",
      "metadata": {
        "id": "v3XwCo5FflJ5",
        "colab_type": "code",
        "outputId": "2789c490-5c95-4ffc-dc06-cdb3da38481f",
        "colab": {
          "base_uri": "https://localhost:8080/",
          "height": 52
        }
      },
      "source": [
        "# print(len(os.listdir('/content/drive/My Drive/Colab Notebooks/CT_data/sparseview_60/train')))\n",
        "# print(len(os.listdir('/content/drive/My Drive/Colab Notebooks/CT_data/ndct/train')))\n",
        "# # 3600\n",
        "# # 3600"
      ],
      "execution_count": 0,
      "outputs": [
        {
          "output_type": "stream",
          "text": [
            "3600\n",
            "3600\n"
          ],
          "name": "stdout"
        }
      ]
    },
    {
      "cell_type": "code",
      "metadata": {
        "id": "3k7OOZb2fsF0",
        "colab_type": "code",
        "outputId": "760c3ea7-1c2d-4dab-d18e-90aa7e98f2c3",
        "colab": {
          "base_uri": "https://localhost:8080/",
          "height": 52
        }
      },
      "source": [
        "# print(len(os.listdir('/content/drive/My Drive/Colab Notebooks/CT_data/sparseview_60/test/')))\n",
        "# print(len(os.listdir('/content/drive/My Drive/Colab Notebooks/CT_data/ndct/test/')))\n",
        "# # 354\n",
        "# # 354"
      ],
      "execution_count": 0,
      "outputs": [
        {
          "output_type": "stream",
          "text": [
            "354\n",
            "354\n"
          ],
          "name": "stdout"
        }
      ]
    },
    {
      "cell_type": "code",
      "metadata": {
        "id": "Wp18zNh9ylg2",
        "colab_type": "code",
        "outputId": "6f35dde7-2460-44f8-b806-167db4114937",
        "colab": {
          "base_uri": "https://localhost:8080/",
          "height": 86
        }
      },
      "source": [
        "# ndct = sorted(glob('/content/drive/My Drive/Colab Notebooks/CT_data/ndct/train/*'))\n",
        "# ldct = sorted(glob('/content/drive/My Drive/Colab Notebooks/CT_data/sparseview_60/train/*'))\n",
        "\n",
        "# ndct_test = sorted(glob('/content/drive/My Drive/Colab Notebooks/CT_data/ndct/test/*'))\n",
        "# ldct_test = sorted(glob('/content/drive/My Drive/Colab Notebooks/CT_data/sparseview_60/test/*'))\n",
        "\n",
        "# print(len(ndct))\n",
        "# print(len(ldct))\n",
        "# print(len(ndct_test))\n",
        "# print(len(ldct_test))"
      ],
      "execution_count": 0,
      "outputs": [
        {
          "output_type": "stream",
          "text": [
            "3600\n",
            "3600\n",
            "354\n",
            "354\n"
          ],
          "name": "stdout"
        }
      ]
    },
    {
      "cell_type": "code",
      "metadata": {
        "id": "R3JzsEPJxjjX",
        "colab_type": "code",
        "colab": {}
      },
      "source": [
        "def cal_psnr(im1, im2):\n",
        "    # assert pixel value range is 0-255 and type is uint8\n",
        "    mse = ((im1.astype(np.float) - im2.astype(np.float)) ** 2).mean()\n",
        "    maxval = np.amax(im1)\n",
        "    psnr = 10 * np.log10(maxval ** 2 / mse)\n",
        "    return psnr\n",
        "\n",
        "def tf_psnr(im1, im2):\n",
        "    # assert pixel value range is 0-1\n",
        "    #mse = tf.losses.mean_squared_error(labels=im2 * 255.0, predictions=im1 * 255.0)\n",
        "    mse = tf.compat.v1.losses.mean_squared_error(labels=im2 * 255.0, predictions=im1 * 255.0)\n",
        "    return 10.0 * (tf.log(255.0 ** 2 / mse) / tf.log(10.0))"
      ],
      "execution_count": 0,
      "outputs": []
    },
    {
      "cell_type": "code",
      "metadata": {
        "id": "qoWtZ9Atydt6",
        "colab_type": "code",
        "colab": {}
      },
      "source": [
        ""
      ],
      "execution_count": 0,
      "outputs": []
    },
    {
      "cell_type": "code",
      "metadata": {
        "id": "cl-9hN83yRFM",
        "colab_type": "code",
        "outputId": "8ceb0b73-9e6a-47fb-b689-f0d8f6701f7f",
        "colab": {
          "base_uri": "https://localhost:8080/",
          "height": 35
        }
      },
      "source": [
        "# ndct_imgs_train = []\n",
        "# for i in range(0, len(ndct)):                                                                                                                                      \n",
        "# #for i in range(0, 1600):\n",
        "#     f = open(ndct[i],'rb')\n",
        "#     a = np.fromfile(f, np.float32)\n",
        "#     ndct_imgs_train.append(a)\n",
        "#     f.close()\n",
        "# print(\"len(ndct_imgs_train)....: \",len(ndct_imgs_train))\n",
        "                                                                                                                                                         "
      ],
      "execution_count": 0,
      "outputs": [
        {
          "output_type": "stream",
          "text": [
            "len(ndct_imgs_train)....:  3600\n"
          ],
          "name": "stdout"
        }
      ]
    },
    {
      "cell_type": "code",
      "metadata": {
        "id": "4bqck35HDWv7",
        "colab_type": "code",
        "outputId": "50b668a1-2545-42d8-8040-d3969528ddda",
        "colab": {
          "base_uri": "https://localhost:8080/",
          "height": 35
        }
      },
      "source": [
        "# ldct_imgs_train = []\n",
        "# for i in range(0, len(ldct)):\n",
        "# #for i in range(0, 1600):\n",
        "#     f = open(ldct[i],'rb')\n",
        "#     a = np.fromfile(f, np.float32)\n",
        "#     ldct_imgs_train.append(a)\n",
        "#     f.close()\n",
        "# print(\"len(ldct_imgs_train)....: \",len(ldct_imgs_train))"
      ],
      "execution_count": 0,
      "outputs": [
        {
          "output_type": "stream",
          "text": [
            "len(ldct_imgs_train)....:  3600\n"
          ],
          "name": "stdout"
        }
      ]
    },
    {
      "cell_type": "code",
      "metadata": {
        "id": "TFycVaUqDP6F",
        "colab_type": "code",
        "outputId": "0ee93c6f-e855-4e4b-b3fb-62deb4f0006f",
        "colab": {
          "base_uri": "https://localhost:8080/",
          "height": 35
        }
      },
      "source": [
        "# ndct_imgs_test = []\n",
        "# for i in range(0, len(ndct_test)):\n",
        "# #for i in range(0, 10):\n",
        "#     f = open(ndct_test[i],'rb')\n",
        "#     a = np.fromfile(f, np.float32)\n",
        "#     ndct_imgs_test.append(a)\n",
        "#     f.close()\n",
        "# print(\"len(ndct_imgs_test)....: \",len(ndct_imgs_test))\n"
      ],
      "execution_count": 0,
      "outputs": [
        {
          "output_type": "stream",
          "text": [
            "len(ndct_imgs_test)....:  354\n"
          ],
          "name": "stdout"
        }
      ]
    },
    {
      "cell_type": "code",
      "metadata": {
        "id": "6bhvYILZDZ8Z",
        "colab_type": "code",
        "outputId": "ce0e3e0e-ca94-438a-81f6-15a0afdf0ffd",
        "colab": {
          "base_uri": "https://localhost:8080/",
          "height": 35
        }
      },
      "source": [
        "# # load the image\n",
        "# ldct_imgs_test = []\n",
        "# for i in range(0, len(ldct_test)):\n",
        "# #for i in range(0, 10):\n",
        "#     f = open(ldct_test[i],'rb')\n",
        "#     a = np.fromfile(f, np.float32)\n",
        "#     ldct_imgs_test.append(a)\n",
        "#     f.close()\n",
        "# print(\"len(ldct_imgs_test)....: \",len(ldct_imgs_test))\n"
      ],
      "execution_count": 0,
      "outputs": [
        {
          "output_type": "stream",
          "text": [
            "len(ldct_imgs_test)....:  354\n"
          ],
          "name": "stdout"
        }
      ]
    },
    {
      "cell_type": "code",
      "metadata": {
        "id": "hvTUFGsCz_UF",
        "colab_type": "code",
        "outputId": "8dd45367-acd7-43a2-86f0-08e356108ab6",
        "colab": {
          "base_uri": "https://localhost:8080/",
          "height": 86
        }
      },
      "source": [
        "# ldct_train = np.asarray(ldct_imgs_train)\n",
        "# ndct_train = np.asarray(ndct_imgs_train)\n",
        "\n",
        "# ldct_train = ldct_train.reshape(3600,512,512,1)\n",
        "# ndct_train = ndct_train.reshape(3600,512,512,1)\n",
        "\n",
        "# ldct_test = np.asarray(ldct_imgs_test)\n",
        "# ndct_test = np.asarray(ndct_imgs_test)\n",
        "\n",
        "# ldct_test = ldct_test.reshape(len(ldct_imgs_test),512,512,1)\n",
        "# ndct_test = ndct_test.reshape(len(ldct_imgs_test),512,512,1)\n",
        "\n",
        "# print(ldct_train.shape)\n",
        "# print(ndct_train.shape)\n",
        "# print(ldct_test.shape)\n",
        "# print(ndct_test.shape)\n"
      ],
      "execution_count": 0,
      "outputs": [
        {
          "output_type": "stream",
          "text": [
            "(3600, 512, 512, 1)\n",
            "(3600, 512, 512, 1)\n",
            "(354, 512, 512, 1)\n",
            "(354, 512, 512, 1)\n"
          ],
          "name": "stdout"
        }
      ]
    },
    {
      "cell_type": "code",
      "metadata": {
        "id": "LOJhl1q0WWOJ",
        "colab_type": "code",
        "colab": {}
      },
      "source": [
        "# np.save('sparseview_60_train', ldct_train) # save the file as \"sparseview_60_train.npy\" \n",
        "# np.save('ndct_train', ndct_train) # save the file as \"ndct_train.npy\" \n",
        "\n",
        "# np.save('sparseview_60_test', ldct_test) # save the file as \"sparseview_60_test.npy\" \n",
        "# np.save('ndct_test', ndct_test) # save the file as \"ndct_test.npy\" \n"
      ],
      "execution_count": 0,
      "outputs": []
    },
    {
      "cell_type": "code",
      "metadata": {
        "id": "BvRfSaiGWfko",
        "colab_type": "code",
        "colab": {}
      },
      "source": [
        "sparseview_60_train = np.load('/content/drive/My Drive/Colab Notebooks/dncnn_keras_colab_notebook/sparseview_60_train.npy') # loads saved array into variable sparseview_60_train.\n",
        "ndct_train = np.load('/content/drive/My Drive/Colab Notebooks/dncnn_keras_colab_notebook/ndct_train.npy') # loads saved array into variable ndct_train.\n",
        "sparseview_60_test = np.load('/content/drive/My Drive/Colab Notebooks/dncnn_keras_colab_notebook/sparseview_60_test.npy') # loads saved array into variable sparseview_60_test.\n",
        "ndct_test = np.load('/content/drive/My Drive/Colab Notebooks/dncnn_keras_colab_notebook/ndct_test.npy') # loads saved array into variable ndct_test.\n",
        "\n",
        "# sparseview_60_train = np.load('sparseview_60_train.npy') # loads saved array into variable sparseview_60_train.\n",
        "# ndct_train = np.load('ndct_train.npy') # loads saved array into variable ndct_train.\n",
        "# sparseview_60_test = np.load('sparseview_60_test.npy') # loads saved array into variable sparseview_60_test.\n",
        "# ndct_test = np.load('ndct_test.npy') # loads saved array into variable ndct_test.\n"
      ],
      "execution_count": 0,
      "outputs": []
    },
    {
      "cell_type": "code",
      "metadata": {
        "id": "_KPySRIgHrLC",
        "colab_type": "code",
        "colab": {}
      },
      "source": [
        "# class LossHistory(keras.callbacks.Callback):\n",
        "#     def on_train_begin(self, logs={}):\n",
        "#         self.losses = []\n",
        "\n",
        "#     def on_batch_end(self, batch, logs={}):\n",
        "#         self.losses.append(logs.get('loss'))\n",
        "# history = LossHistory()"
      ],
      "execution_count": 0,
      "outputs": []
    },
    {
      "cell_type": "code",
      "metadata": {
        "id": "-DE5WJS0EDrp",
        "colab_type": "code",
        "colab": {}
      },
      "source": [
        "es = keras.callbacks.EarlyStopping(monitor='val_loss',\n",
        "                              min_delta=0,\n",
        "                              patience=4,\n",
        "                              verbose=0, mode='auto')"
      ],
      "execution_count": 0,
      "outputs": []
    },
    {
      "cell_type": "markdown",
      "metadata": {
        "id": "d9iAmlbV6c_0",
        "colab_type": "text"
      },
      "source": [
        "Basic UNet model"
      ]
    },
    {
      "cell_type": "code",
      "metadata": {
        "id": "S-i8tdUv6H7Q",
        "colab_type": "code",
        "colab": {}
      },
      "source": [
        "inputs = Input((None, None,1))\n",
        "\n",
        "c1 = Conv2D(8, (3, 3), activation='relu', padding='same') (inputs)\n",
        "c1 = Conv2D(8, (3, 3), activation='relu', padding='same') (c1)\n",
        "p1 = MaxPooling2D((2, 2)) (c1)\n",
        "\n",
        "c2 = Conv2D(16, (3, 3), activation='relu', padding='same') (p1)\n",
        "c2 = Conv2D(16, (3, 3), activation='relu', padding='same') (c2)\n",
        "p2 = MaxPooling2D((2, 2)) (c2)\n",
        "\n",
        "c3 = Conv2D(32, (3, 3), activation='relu', padding='same') (p2)\n",
        "c3 = Conv2D(32, (3, 3), activation='relu', padding='same') (c3)\n",
        "p3 = MaxPooling2D((2, 2)) (c3)\n",
        "\n",
        "\n",
        "c4 = Conv2D(64, (3, 3), activation='relu', padding='same') (p3)\n",
        "c4 = Conv2D(64, (3, 3), activation='relu', padding='same') (c4)\n",
        "p4 = MaxPooling2D(pool_size=(2, 2)) (c4)\n",
        "\n",
        "c5 = Conv2D(128, (3, 3), activation='relu', padding='same') (p4)\n",
        "c5 = Conv2D(128, (3, 3), activation='relu', padding='same') (c5)\n",
        "\n",
        "u6 = Conv2DTranspose(64, (2, 2), strides=(2, 2), padding='same') (c5)\n",
        "u6 = concatenate([u6, c4])\n",
        "c6 = Conv2D(64, (3, 3), activation='relu', padding='same') (u6)\n",
        "c6 = Conv2D(64, (3, 3), activation='relu', padding='same') (c6)\n",
        "\n",
        "\n",
        "u7 = Conv2DTranspose(32, (2, 2), strides=(2, 2), padding='same') (c6)\n",
        "u7 = concatenate([u7, c3])\n",
        "c7 = Conv2D(32, (3, 3), activation='relu', padding='same') (u7)\n",
        "c7 = Conv2D(32, (3, 3), activation='relu', padding='same') (c7)\n",
        "\n",
        "u8 = Conv2DTranspose(16, (2, 2), strides=(2, 2), padding='same') (c7)\n",
        "u8 = concatenate([u8, c2])\n",
        "c8 = Conv2D(16, (3, 3), activation='relu', padding='same') (u8)\n",
        "c8 = Conv2D(16, (3, 3), activation='relu', padding='same') (c8)\n",
        "\n",
        "u9 = Conv2DTranspose(8, (2, 2), strides=(2, 2), padding='same') (c8)\n",
        "u9 = concatenate([u9, c1])\n",
        "c9 = Conv2D(8, (3, 3), activation='relu', padding='same') (u9)\n",
        "c9 = Conv2D(8, (3, 3), activation='relu', padding='same') (c9)\n",
        "\n",
        "output_img = Conv2D(1, (1, 1)) (c9)\n",
        "subtracted = Subtract()([inputs, output_img])\n",
        "\n",
        "\n",
        "model = Model(inputs=[inputs], outputs=[subtracted])\n",
        "model.compile(optimizer='adam', loss='mse', metrics=[tf_psnr])\n",
        "\n"
      ],
      "execution_count": 0,
      "outputs": []
    },
    {
      "cell_type": "code",
      "metadata": {
        "id": "RjtnKKkg6Icv",
        "colab_type": "code",
        "outputId": "e16f487e-4646-470d-cd32-ad2509b99efe",
        "colab": {
          "base_uri": "https://localhost:8080/",
          "height": 1000
        }
      },
      "source": [
        "history = model.fit(sparseview_60_train, ndct_train, validation_split=0.05, batch_size=30, epochs=50, callbacks =[es])\n"
      ],
      "execution_count": 19,
      "outputs": [
        {
          "output_type": "stream",
          "text": [
            "Train on 3420 samples, validate on 180 samples\n",
            "Epoch 1/50\n",
            "3420/3420 [==============================] - 133s 39ms/step - loss: 0.0010 - tf_psnr: 30.3111 - val_loss: 4.4214e-04 - val_tf_psnr: 33.5523\n",
            "Epoch 2/50\n",
            "3420/3420 [==============================] - 131s 38ms/step - loss: 4.9239e-04 - tf_psnr: 33.0992 - val_loss: 3.9941e-04 - val_tf_psnr: 34.0015\n",
            "Epoch 3/50\n",
            "3420/3420 [==============================] - 131s 38ms/step - loss: 3.9034e-04 - tf_psnr: 34.1093 - val_loss: 3.1102e-04 - val_tf_psnr: 35.0795\n",
            "Epoch 4/50\n",
            "3420/3420 [==============================] - 131s 38ms/step - loss: 3.2238e-04 - tf_psnr: 34.9334 - val_loss: 2.7237e-04 - val_tf_psnr: 35.6908\n",
            "Epoch 5/50\n",
            "3420/3420 [==============================] - 131s 38ms/step - loss: 2.8094e-04 - tf_psnr: 35.5256 - val_loss: 2.2881e-04 - val_tf_psnr: 36.4600\n",
            "Epoch 6/50\n",
            "3420/3420 [==============================] - 131s 38ms/step - loss: 2.5522e-04 - tf_psnr: 35.9393 - val_loss: 2.2274e-04 - val_tf_psnr: 36.5812\n",
            "Epoch 7/50\n",
            "3420/3420 [==============================] - 131s 38ms/step - loss: 2.4013e-04 - tf_psnr: 36.2077 - val_loss: 2.0995e-04 - val_tf_psnr: 36.8491\n",
            "Epoch 8/50\n",
            "3420/3420 [==============================] - 131s 38ms/step - loss: 2.2615e-04 - tf_psnr: 36.4647 - val_loss: 2.0346e-04 - val_tf_psnr: 36.9678\n",
            "Epoch 9/50\n",
            "3420/3420 [==============================] - 131s 38ms/step - loss: 2.1644e-04 - tf_psnr: 36.6551 - val_loss: 1.9218e-04 - val_tf_psnr: 37.2274\n",
            "Epoch 10/50\n",
            "3420/3420 [==============================] - 131s 38ms/step - loss: 2.0662e-04 - tf_psnr: 36.8571 - val_loss: 1.8799e-04 - val_tf_psnr: 37.3198\n",
            "Epoch 11/50\n",
            "3420/3420 [==============================] - 131s 38ms/step - loss: 1.9953e-04 - tf_psnr: 37.0079 - val_loss: 1.8165e-04 - val_tf_psnr: 37.4733\n",
            "Epoch 12/50\n",
            "3420/3420 [==============================] - 131s 38ms/step - loss: 1.9350e-04 - tf_psnr: 37.1428 - val_loss: 1.8281e-04 - val_tf_psnr: 37.4353\n",
            "Epoch 13/50\n",
            "3420/3420 [==============================] - 131s 38ms/step - loss: 1.8839e-04 - tf_psnr: 37.2583 - val_loss: 1.7704e-04 - val_tf_psnr: 37.5783\n",
            "Epoch 14/50\n",
            "3420/3420 [==============================] - 131s 38ms/step - loss: 1.8500e-04 - tf_psnr: 37.3395 - val_loss: 1.7780e-04 - val_tf_psnr: 37.5545\n",
            "Epoch 15/50\n",
            "3420/3420 [==============================] - 131s 38ms/step - loss: 1.8090e-04 - tf_psnr: 37.4364 - val_loss: 1.7386e-04 - val_tf_psnr: 37.6533\n",
            "Epoch 16/50\n",
            "3420/3420 [==============================] - 131s 38ms/step - loss: 1.7769e-04 - tf_psnr: 37.5148 - val_loss: 1.6980e-04 - val_tf_psnr: 37.7570\n",
            "Epoch 17/50\n",
            "3420/3420 [==============================] - 131s 38ms/step - loss: 1.7444e-04 - tf_psnr: 37.5957 - val_loss: 1.6818e-04 - val_tf_psnr: 37.7962\n",
            "Epoch 18/50\n",
            "3420/3420 [==============================] - 131s 38ms/step - loss: 1.6955e-04 - tf_psnr: 37.7144 - val_loss: 1.6574e-04 - val_tf_psnr: 37.8703\n",
            "Epoch 19/50\n",
            "3420/3420 [==============================] - 131s 38ms/step - loss: 1.6787e-04 - tf_psnr: 37.7594 - val_loss: 1.6410e-04 - val_tf_psnr: 37.9063\n",
            "Epoch 20/50\n",
            "3420/3420 [==============================] - 131s 38ms/step - loss: 1.6688e-04 - tf_psnr: 37.7870 - val_loss: 1.6817e-04 - val_tf_psnr: 37.8004\n",
            "Epoch 21/50\n",
            "3420/3420 [==============================] - 131s 38ms/step - loss: 1.6261e-04 - tf_psnr: 37.8969 - val_loss: 1.6639e-04 - val_tf_psnr: 37.8438\n",
            "Epoch 22/50\n",
            "3420/3420 [==============================] - 131s 38ms/step - loss: 1.6157e-04 - tf_psnr: 37.9238 - val_loss: 1.5992e-04 - val_tf_psnr: 38.0216\n",
            "Epoch 23/50\n",
            "3420/3420 [==============================] - 131s 38ms/step - loss: 1.5963e-04 - tf_psnr: 37.9794 - val_loss: 1.5967e-04 - val_tf_psnr: 38.0326\n",
            "Epoch 24/50\n",
            "3420/3420 [==============================] - 131s 38ms/step - loss: 1.5796e-04 - tf_psnr: 38.0233 - val_loss: 1.6018e-04 - val_tf_psnr: 38.0173\n",
            "Epoch 25/50\n",
            "3420/3420 [==============================] - 131s 38ms/step - loss: 1.5382e-04 - tf_psnr: 38.1364 - val_loss: 1.5730e-04 - val_tf_psnr: 38.0842\n",
            "Epoch 26/50\n",
            "3420/3420 [==============================] - 131s 38ms/step - loss: 1.5450e-04 - tf_psnr: 38.1184 - val_loss: 1.5806e-04 - val_tf_psnr: 38.0603\n",
            "Epoch 27/50\n",
            "3420/3420 [==============================] - 131s 38ms/step - loss: 1.5210e-04 - tf_psnr: 38.1877 - val_loss: 1.5700e-04 - val_tf_psnr: 38.1031\n",
            "Epoch 28/50\n",
            "3420/3420 [==============================] - 131s 38ms/step - loss: 1.4960e-04 - tf_psnr: 38.2594 - val_loss: 1.6223e-04 - val_tf_psnr: 37.9456\n",
            "Epoch 29/50\n",
            "3420/3420 [==============================] - 131s 38ms/step - loss: 1.4863e-04 - tf_psnr: 38.2882 - val_loss: 1.5781e-04 - val_tf_psnr: 38.0777\n",
            "Epoch 30/50\n",
            "3420/3420 [==============================] - 131s 38ms/step - loss: 1.4758e-04 - tf_psnr: 38.3176 - val_loss: 1.5675e-04 - val_tf_psnr: 38.1038\n",
            "Epoch 31/50\n",
            "3420/3420 [==============================] - 131s 38ms/step - loss: 1.4569e-04 - tf_psnr: 38.3738 - val_loss: 1.6475e-04 - val_tf_psnr: 37.8854\n",
            "Epoch 32/50\n",
            "3420/3420 [==============================] - 131s 38ms/step - loss: 1.4395e-04 - tf_psnr: 38.4238 - val_loss: 1.5295e-04 - val_tf_psnr: 38.2192\n",
            "Epoch 33/50\n",
            "3420/3420 [==============================] - 131s 38ms/step - loss: 1.4464e-04 - tf_psnr: 38.4056 - val_loss: 1.5471e-04 - val_tf_psnr: 38.1525\n",
            "Epoch 34/50\n",
            "3420/3420 [==============================] - 131s 38ms/step - loss: 1.4410e-04 - tf_psnr: 38.4227 - val_loss: 1.5212e-04 - val_tf_psnr: 38.2314\n",
            "Epoch 35/50\n",
            "3420/3420 [==============================] - 131s 38ms/step - loss: 1.3995e-04 - tf_psnr: 38.5490 - val_loss: 1.5689e-04 - val_tf_psnr: 38.1034\n",
            "Epoch 36/50\n",
            "3420/3420 [==============================] - 131s 38ms/step - loss: 1.4055e-04 - tf_psnr: 38.5291 - val_loss: 1.4932e-04 - val_tf_psnr: 38.3086\n",
            "Epoch 37/50\n",
            "3420/3420 [==============================] - 131s 38ms/step - loss: 1.4046e-04 - tf_psnr: 38.5383 - val_loss: 1.6212e-04 - val_tf_psnr: 37.9476\n",
            "Epoch 38/50\n",
            "3420/3420 [==============================] - 131s 38ms/step - loss: 1.3932e-04 - tf_psnr: 38.5685 - val_loss: 1.4940e-04 - val_tf_psnr: 38.3082\n",
            "Epoch 39/50\n",
            "3420/3420 [==============================] - 131s 38ms/step - loss: 1.3713e-04 - tf_psnr: 38.6368 - val_loss: 1.5491e-04 - val_tf_psnr: 38.1420\n",
            "Epoch 40/50\n",
            "3420/3420 [==============================] - 131s 38ms/step - loss: 1.3617e-04 - tf_psnr: 38.6681 - val_loss: 1.4662e-04 - val_tf_psnr: 38.3856\n",
            "Epoch 41/50\n",
            "3420/3420 [==============================] - 131s 38ms/step - loss: 1.3469e-04 - tf_psnr: 38.7126 - val_loss: 1.5063e-04 - val_tf_psnr: 38.2620\n",
            "Epoch 42/50\n",
            "3420/3420 [==============================] - 131s 38ms/step - loss: 1.3447e-04 - tf_psnr: 38.7197 - val_loss: 1.4742e-04 - val_tf_psnr: 38.3648\n",
            "Epoch 43/50\n",
            "3420/3420 [==============================] - 131s 38ms/step - loss: 1.3420e-04 - tf_psnr: 38.7300 - val_loss: 1.4711e-04 - val_tf_psnr: 38.3783\n",
            "Epoch 44/50\n",
            "3420/3420 [==============================] - 131s 38ms/step - loss: 1.3316e-04 - tf_psnr: 38.7634 - val_loss: 1.5670e-04 - val_tf_psnr: 38.0955\n"
          ],
          "name": "stdout"
        }
      ]
    },
    {
      "cell_type": "code",
      "metadata": {
        "id": "MuDh0Z_zJGyL",
        "colab_type": "code",
        "outputId": "e6a2fff9-2130-42a5-ec6b-41ab41a6e837",
        "colab": {
          "base_uri": "https://localhost:8080/",
          "height": 298
        }
      },
      "source": [
        "import matplotlib.pyplot as plt\n",
        "acc = history.history['tf_psnr']\n",
        "val_acc = history.history['val_tf_psnr']\n",
        "loss = history.history['loss']\n",
        "val_loss = history.history['val_loss']\n",
        "\n",
        "epochs = range(len(acc))\n",
        "\n",
        "plt.plot(epochs, acc, 'r', label='Training accuracy')\n",
        "plt.plot(epochs, val_acc, 'b', label='Validation accuracy')\n",
        "plt.title('Training and validation accuracy')\n",
        "plt.legend(loc=0)\n",
        "plt.figure()\n",
        "\n",
        "\n",
        "plt.show()"
      ],
      "execution_count": 20,
      "outputs": [
        {
          "output_type": "display_data",
          "data": {
            "image/png": "[encoded data removed]",
            "text/plain": [
              "<Figure size 432x288 with 1 Axes>"
            ]
          },
          "metadata": {
            "tags": []
          }
        },
        {
          "output_type": "display_data",
          "data": {
            "text/plain": [
              "<Figure size 432x288 with 0 Axes>"
            ]
          },
          "metadata": {
            "tags": []
          }
        }
      ]
    },
    {
      "cell_type": "code",
      "metadata": {
        "id": "VaKTJpN6b7MA",
        "colab_type": "code",
        "outputId": "49f23473-e7a5-44fd-9ab5-e8a023102c44",
        "colab": {
          "base_uri": "https://localhost:8080/",
          "height": 35
        }
      },
      "source": [
        "reconstructed = model.predict(sparseview_60_test)\n",
        "psnr = cal_psnr(ndct_test, reconstructed)\n",
        "print(\"psnr 10 epochs.....\",psnr)"
      ],
      "execution_count": 21,
      "outputs": [
        {
          "output_type": "stream",
          "text": [
            "psnr 10 epochs..... 37.49435077487602\n"
          ],
          "name": "stdout"
        }
      ]
    },
    {
      "cell_type": "code",
      "metadata": {
        "id": "9oDsIQ8JcFCR",
        "colab_type": "code",
        "colab": {}
      },
      "source": [
        "from PIL import Image\n",
        "\n",
        "a = reconstructed[0].reshape(512, 512)\n",
        "scalef = np.amax(a)\n",
        "a = np.clip(255 * a/scalef, 0, 255).astype('uint8')\n",
        "#result = Image.fromarray((a * 255).astype(np.uint8))                                                                                                \n",
        "result = Image.fromarray((a).astype(np.uint8))\n",
        "result.save('unet_0_300.png')\n",
        "result.save('/content/drive/My Drive/Colab Notebooks/dncnn_keras_colab_notebook/unet_colab5_0_50.png')\n",
        "\n",
        "a = reconstructed[12].reshape(512, 512)\n",
        "scalef = np.amax(a)\n",
        "a = np.clip(255 * a/scalef, 0, 255).astype('uint8')\n",
        "#result = Image.fromarray((a * 255).astype(np.uint8))                                                                                                \n",
        "result = Image.fromarray((a).astype(np.uint8))\n",
        "result.save('unet_12_300.png')\n",
        "result.save('/content/drive/My Drive/Colab Notebooks/dncnn_keras_colab_notebook/unet_colab5_12_50.png')"
      ],
      "execution_count": 0,
      "outputs": []
    },
    {
      "cell_type": "code",
      "metadata": {
        "id": "y4bvFINQctid",
        "colab_type": "code",
        "colab": {}
      },
      "source": [
        "model.save_weights(\"model.h5\")"
      ],
      "execution_count": 0,
      "outputs": []
    },
    {
      "cell_type": "code",
      "metadata": {
        "id": "nF6PStkneTDI",
        "colab_type": "code",
        "colab": {
          "base_uri": "https://localhost:8080/",
          "height": 574
        },
        "outputId": "4cee64d8-f752-4332-d030-940450594bd4"
      },
      "source": [
        "# Plot training & validation accuracy values\n",
        "plt.plot(history.history['tf_psnr'])\n",
        "plt.plot(history.history['val_tf_psnr'])\n",
        "plt.title('Model accuracy')\n",
        "plt.ylabel('Accuracy')\n",
        "plt.xlabel('Epoch')\n",
        "plt.legend(['Train', 'Test'], loc='upper left')\n",
        "plt.show()\n",
        "\n",
        "# Plot training & validation loss values\n",
        "plt.plot(history.history['loss'])\n",
        "plt.plot(history.history['val_loss'])\n",
        "plt.title('Model loss')\n",
        "plt.ylabel('Loss')\n",
        "plt.xlabel('Epoch')\n",
        "plt.legend(['Train', 'Test'], loc='upper left')\n",
        "plt.show()"
      ],
      "execution_count": 24,
      "outputs": [
        {
          "output_type": "display_data",
          "data": {
            "image/png": "[encoded data removed]",
            "text/plain": [
              "<Figure size 432x288 with 1 Axes>"
            ]
          },
          "metadata": {
            "tags": []
          }
        },
        {
          "output_type": "display_data",
          "data": {
            "image/png": "[encoded data removed]",
            "text/plain": [
              "<Figure size 432x288 with 1 Axes>"
            ]
          },
          "metadata": {
            "tags": []
          }
        }
      ]
    }
  ]
}