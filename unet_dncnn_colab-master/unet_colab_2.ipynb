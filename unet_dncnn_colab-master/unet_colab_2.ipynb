{
  "nbformat": 4,
  "nbformat_minor": 0,
  "metadata": {
    "colab": {
      "name": " unet_colab_2.ipynb",
      "version": "0.3.2",
      "provenance": [],
      "collapsed_sections": [],
      "machine_shape": "hm"
    },
    "kernelspec": {
      "name": "python3",
      "display_name": "Python 3"
    },
    "accelerator": "GPU"
  },
  "cells": [
    {
      "cell_type": "code",
      "metadata": {
        "id": "rnIvzBt4eVg-",
        "colab_type": "code",
        "outputId": "6e052979-caff-40fe-a5ec-2f93bdc42f28",
        "colab": {
          "base_uri": "https://localhost:8080/",
          "height": 124
        }
      },
      "source": [
        "\n",
        "from google.colab import drive\n",
        "drive.mount('/content/drive')"
      ],
      "execution_count": 1,
      "outputs": [
        {
          "output_type": "stream",
          "text": [
            "Go to this URL in a browser: https://accounts.google.com/o/oauth2/auth?client_id=947318989803-6bn6qk8qdgf4n4g3pfee6491hc0brc4i.apps.googleusercontent.com&redirect_uri=urn%3Aietf%3Awg%3Aoauth%3A2.0%3Aoob&scope=email%20https%3A%2F%2Fwww.googleapis.com%2Fauth%2Fdocs.test%20https%3A%2F%2Fwww.googleapis.com%2Fauth%2Fdrive%20https%3A%2F%2Fwww.googleapis.com%2Fauth%2Fdrive.photos.readonly%20https%3A%2F%2Fwww.googleapis.com%2Fauth%2Fpeopleapi.readonly&response_type=code\n",
            "\n",
            "Enter your authorization code:\n",
            "··········\n",
            "Mounted at /content/drive\n"
          ],
          "name": "stdout"
        }
      ]
    },
    {
      "cell_type": "markdown",
      "metadata": {
        "id": "h9X2TUMa3zfN",
        "colab_type": "text"
      },
      "source": [
        ""
      ]
    },
    {
      "cell_type": "code",
      "metadata": {
        "id": "m-MW8CAZfUBR",
        "colab_type": "code",
        "outputId": "bbdee4f1-ffd8-476a-97fc-c8b913133fc1",
        "colab": {
          "base_uri": "https://localhost:8080/",
          "height": 35
        }
      },
      "source": [
        "\n",
        "import os\n",
        "\n",
        "import zipfile\n",
        "import random\n",
        "import tensorflow as tf\n",
        "from tensorflow.keras.optimizers import RMSprop\n",
        "from tensorflow.keras.preprocessing.image import ImageDataGenerator\n",
        "from shutil import copyfile\n",
        "import numpy as np\n",
        "\n",
        "import matplotlib.pyplot as plt\n",
        "import matplotlib.image as mpimg\n",
        "from keras.layers import Concatenate\n",
        "from keras.models import Sequential\n",
        "import keras\n",
        "from keras.layers import Conv2D, MaxPooling2D, Input, Dense, BatchNormalization, Activation\n",
        "from keras.models import Model\n",
        "import matplotlib.image as mpimg\n",
        "from glob import glob\n",
        "from keras.layers.convolutional import Conv2DTranspose\n",
        "from keras.layers import concatenate\n",
        "import struct\n"
      ],
      "execution_count": 2,
      "outputs": [
        {
          "output_type": "stream",
          "text": [
            "Using TensorFlow backend.\n"
          ],
          "name": "stderr"
        }
      ]
    },
    {
      "cell_type": "code",
      "metadata": {
        "id": "v3XwCo5FflJ5",
        "colab_type": "code",
        "outputId": "2789c490-5c95-4ffc-dc06-cdb3da38481f",
        "colab": {
          "base_uri": "https://localhost:8080/",
          "height": 52
        }
      },
      "source": [
        "# print(len(os.listdir('/content/drive/My Drive/Colab Notebooks/CT_data/sparseview_60/train')))\n",
        "# print(len(os.listdir('/content/drive/My Drive/Colab Notebooks/CT_data/ndct/train')))\n",
        "# # 3600\n",
        "# # 3600"
      ],
      "execution_count": 0,
      "outputs": [
        {
          "output_type": "stream",
          "text": [
            "3600\n",
            "3600\n"
          ],
          "name": "stdout"
        }
      ]
    },
    {
      "cell_type": "code",
      "metadata": {
        "id": "3k7OOZb2fsF0",
        "colab_type": "code",
        "outputId": "760c3ea7-1c2d-4dab-d18e-90aa7e98f2c3",
        "colab": {
          "base_uri": "https://localhost:8080/",
          "height": 52
        }
      },
      "source": [
        "# print(len(os.listdir('/content/drive/My Drive/Colab Notebooks/CT_data/sparseview_60/test/')))\n",
        "# print(len(os.listdir('/content/drive/My Drive/Colab Notebooks/CT_data/ndct/test/')))\n",
        "# # 354\n",
        "# # 354"
      ],
      "execution_count": 0,
      "outputs": [
        {
          "output_type": "stream",
          "text": [
            "354\n",
            "354\n"
          ],
          "name": "stdout"
        }
      ]
    },
    {
      "cell_type": "code",
      "metadata": {
        "id": "Wp18zNh9ylg2",
        "colab_type": "code",
        "outputId": "6f35dde7-2460-44f8-b806-167db4114937",
        "colab": {
          "base_uri": "https://localhost:8080/",
          "height": 86
        }
      },
      "source": [
        "# ndct = sorted(glob('/content/drive/My Drive/Colab Notebooks/CT_data/ndct/train/*'))\n",
        "# ldct = sorted(glob('/content/drive/My Drive/Colab Notebooks/CT_data/sparseview_60/train/*'))\n",
        "\n",
        "# ndct_test = sorted(glob('/content/drive/My Drive/Colab Notebooks/CT_data/ndct/test/*'))\n",
        "# ldct_test = sorted(glob('/content/drive/My Drive/Colab Notebooks/CT_data/sparseview_60/test/*'))\n",
        "\n",
        "# print(len(ndct))\n",
        "# print(len(ldct))\n",
        "# print(len(ndct_test))\n",
        "# print(len(ldct_test))"
      ],
      "execution_count": 0,
      "outputs": [
        {
          "output_type": "stream",
          "text": [
            "3600\n",
            "3600\n",
            "354\n",
            "354\n"
          ],
          "name": "stdout"
        }
      ]
    },
    {
      "cell_type": "code",
      "metadata": {
        "id": "R3JzsEPJxjjX",
        "colab_type": "code",
        "colab": {}
      },
      "source": [
        "def cal_psnr(im1, im2):\n",
        "    # assert pixel value range is 0-255 and type is uint8\n",
        "    mse = ((im1.astype(np.float) - im2.astype(np.float)) ** 2).mean()\n",
        "    maxval = np.amax(im1)\n",
        "    psnr = 10 * np.log10(maxval ** 2 / mse)\n",
        "    return psnr\n",
        "\n",
        "def tf_psnr(im1, im2):\n",
        "    # assert pixel value range is 0-1\n",
        "    #mse = tf.losses.mean_squared_error(labels=im2 * 255.0, predictions=im1 * 255.0)\n",
        "    mse = tf.compat.v1.losses.mean_squared_error(labels=im2 * 255.0, predictions=im1 * 255.0)\n",
        "    return 10.0 * (tf.log(255.0 ** 2 / mse) / tf.log(10.0))"
      ],
      "execution_count": 0,
      "outputs": []
    },
    {
      "cell_type": "code",
      "metadata": {
        "id": "qoWtZ9Atydt6",
        "colab_type": "code",
        "colab": {}
      },
      "source": [
        ""
      ],
      "execution_count": 0,
      "outputs": []
    },
    {
      "cell_type": "code",
      "metadata": {
        "id": "cl-9hN83yRFM",
        "colab_type": "code",
        "outputId": "8ceb0b73-9e6a-47fb-b689-f0d8f6701f7f",
        "colab": {
          "base_uri": "https://localhost:8080/",
          "height": 35
        }
      },
      "source": [
        "# ndct_imgs_train = []\n",
        "# for i in range(0, len(ndct)):                                                                                                                                      \n",
        "# #for i in range(0, 1600):\n",
        "#     f = open(ndct[i],'rb')\n",
        "#     a = np.fromfile(f, np.float32)\n",
        "#     ndct_imgs_train.append(a)\n",
        "#     f.close()\n",
        "# print(\"len(ndct_imgs_train)....: \",len(ndct_imgs_train))\n",
        "                                                                                                                                                         "
      ],
      "execution_count": 0,
      "outputs": [
        {
          "output_type": "stream",
          "text": [
            "len(ndct_imgs_train)....:  3600\n"
          ],
          "name": "stdout"
        }
      ]
    },
    {
      "cell_type": "code",
      "metadata": {
        "id": "4bqck35HDWv7",
        "colab_type": "code",
        "outputId": "50b668a1-2545-42d8-8040-d3969528ddda",
        "colab": {
          "base_uri": "https://localhost:8080/",
          "height": 35
        }
      },
      "source": [
        "# ldct_imgs_train = []\n",
        "# for i in range(0, len(ldct)):\n",
        "# #for i in range(0, 1600):\n",
        "#     f = open(ldct[i],'rb')\n",
        "#     a = np.fromfile(f, np.float32)\n",
        "#     ldct_imgs_train.append(a)\n",
        "#     f.close()\n",
        "# print(\"len(ldct_imgs_train)....: \",len(ldct_imgs_train))"
      ],
      "execution_count": 0,
      "outputs": [
        {
          "output_type": "stream",
          "text": [
            "len(ldct_imgs_train)....:  3600\n"
          ],
          "name": "stdout"
        }
      ]
    },
    {
      "cell_type": "code",
      "metadata": {
        "id": "TFycVaUqDP6F",
        "colab_type": "code",
        "outputId": "0ee93c6f-e855-4e4b-b3fb-62deb4f0006f",
        "colab": {
          "base_uri": "https://localhost:8080/",
          "height": 35
        }
      },
      "source": [
        "# ndct_imgs_test = []\n",
        "# for i in range(0, len(ndct_test)):\n",
        "# #for i in range(0, 10):\n",
        "#     f = open(ndct_test[i],'rb')\n",
        "#     a = np.fromfile(f, np.float32)\n",
        "#     ndct_imgs_test.append(a)\n",
        "#     f.close()\n",
        "# print(\"len(ndct_imgs_test)....: \",len(ndct_imgs_test))\n"
      ],
      "execution_count": 0,
      "outputs": [
        {
          "output_type": "stream",
          "text": [
            "len(ndct_imgs_test)....:  354\n"
          ],
          "name": "stdout"
        }
      ]
    },
    {
      "cell_type": "code",
      "metadata": {
        "id": "6bhvYILZDZ8Z",
        "colab_type": "code",
        "outputId": "ce0e3e0e-ca94-438a-81f6-15a0afdf0ffd",
        "colab": {
          "base_uri": "https://localhost:8080/",
          "height": 35
        }
      },
      "source": [
        "# # load the image\n",
        "# ldct_imgs_test = []\n",
        "# for i in range(0, len(ldct_test)):\n",
        "# #for i in range(0, 10):\n",
        "#     f = open(ldct_test[i],'rb')\n",
        "#     a = np.fromfile(f, np.float32)\n",
        "#     ldct_imgs_test.append(a)\n",
        "#     f.close()\n",
        "# print(\"len(ldct_imgs_test)....: \",len(ldct_imgs_test))\n"
      ],
      "execution_count": 0,
      "outputs": [
        {
          "output_type": "stream",
          "text": [
            "len(ldct_imgs_test)....:  354\n"
          ],
          "name": "stdout"
        }
      ]
    },
    {
      "cell_type": "code",
      "metadata": {
        "id": "hvTUFGsCz_UF",
        "colab_type": "code",
        "outputId": "8dd45367-acd7-43a2-86f0-08e356108ab6",
        "colab": {
          "base_uri": "https://localhost:8080/",
          "height": 86
        }
      },
      "source": [
        "# ldct_train = np.asarray(ldct_imgs_train)\n",
        "# ndct_train = np.asarray(ndct_imgs_train)\n",
        "\n",
        "# ldct_train = ldct_train.reshape(3600,512,512,1)\n",
        "# ndct_train = ndct_train.reshape(3600,512,512,1)\n",
        "\n",
        "# ldct_test = np.asarray(ldct_imgs_test)\n",
        "# ndct_test = np.asarray(ndct_imgs_test)\n",
        "\n",
        "# ldct_test = ldct_test.reshape(len(ldct_imgs_test),512,512,1)\n",
        "# ndct_test = ndct_test.reshape(len(ldct_imgs_test),512,512,1)\n",
        "\n",
        "# print(ldct_train.shape)\n",
        "# print(ndct_train.shape)\n",
        "# print(ldct_test.shape)\n",
        "# print(ndct_test.shape)\n"
      ],
      "execution_count": 0,
      "outputs": [
        {
          "output_type": "stream",
          "text": [
            "(3600, 512, 512, 1)\n",
            "(3600, 512, 512, 1)\n",
            "(354, 512, 512, 1)\n",
            "(354, 512, 512, 1)\n"
          ],
          "name": "stdout"
        }
      ]
    },
    {
      "cell_type": "code",
      "metadata": {
        "id": "LOJhl1q0WWOJ",
        "colab_type": "code",
        "colab": {}
      },
      "source": [
        "# np.save('sparseview_60_train', ldct_train) # save the file as \"sparseview_60_train.npy\" \n",
        "# np.save('ndct_train', ndct_train) # save the file as \"ndct_train.npy\" \n",
        "\n",
        "# np.save('sparseview_60_test', ldct_test) # save the file as \"sparseview_60_test.npy\" \n",
        "# np.save('ndct_test', ndct_test) # save the file as \"ndct_test.npy\" \n"
      ],
      "execution_count": 0,
      "outputs": []
    },
    {
      "cell_type": "code",
      "metadata": {
        "id": "BvRfSaiGWfko",
        "colab_type": "code",
        "colab": {}
      },
      "source": [
        "sparseview_60_train = np.load('/content/drive/My Drive/Colab Notebooks/dncnn_keras_colab_notebook/sparseview_60_train.npy') # loads saved array into variable sparseview_60_train.\n",
        "ndct_train = np.load('/content/drive/My Drive/Colab Notebooks/dncnn_keras_colab_notebook/ndct_train.npy') # loads saved array into variable ndct_train.\n",
        "sparseview_60_test = np.load('/content/drive/My Drive/Colab Notebooks/dncnn_keras_colab_notebook/sparseview_60_test.npy') # loads saved array into variable sparseview_60_test.\n",
        "ndct_test = np.load('/content/drive/My Drive/Colab Notebooks/dncnn_keras_colab_notebook/ndct_test.npy') # loads saved array into variable ndct_test.\n",
        "\n",
        "# sparseview_60_train = np.load('sparseview_60_train.npy') # loads saved array into variable sparseview_60_train.\n",
        "# ndct_train = np.load('ndct_train.npy') # loads saved array into variable ndct_train.\n",
        "# sparseview_60_test = np.load('sparseview_60_test.npy') # loads saved array into variable sparseview_60_test.\n",
        "# ndct_test = np.load('ndct_test.npy') # loads saved array into variable ndct_test.\n"
      ],
      "execution_count": 0,
      "outputs": []
    },
    {
      "cell_type": "code",
      "metadata": {
        "id": "_KPySRIgHrLC",
        "colab_type": "code",
        "colab": {}
      },
      "source": [
        "# class LossHistory(keras.callbacks.Callback):\n",
        "#     def on_train_begin(self, logs={}):\n",
        "#         self.losses = []\n",
        "\n",
        "#     def on_batch_end(self, batch, logs={}):\n",
        "#         self.losses.append(logs.get('loss'))\n",
        "# history = LossHistory()"
      ],
      "execution_count": 0,
      "outputs": []
    },
    {
      "cell_type": "markdown",
      "metadata": {
        "id": "d9iAmlbV6c_0",
        "colab_type": "text"
      },
      "source": [
        "Basic UNet model"
      ]
    },
    {
      "cell_type": "code",
      "metadata": {
        "id": "S-i8tdUv6H7Q",
        "colab_type": "code",
        "colab": {
          "base_uri": "https://localhost:8080/",
          "height": 279
        },
        "outputId": "a4a8c670-077a-4e6a-b31d-7fe0553205db"
      },
      "source": [
        "inputs = Input((None, None,1))\n",
        "\n",
        "c1 = Conv2D(8, (3, 3), activation='relu', padding='same') (inputs)\n",
        "c1 = Conv2D(8, (3, 3), activation='relu', padding='same') (c1)\n",
        "p1 = MaxPooling2D((2, 2)) (c1)\n",
        "\n",
        "c2 = Conv2D(16, (3, 3), activation='relu', padding='same') (p1)\n",
        "c2 = Conv2D(16, (3, 3), activation='relu', padding='same') (c2)\n",
        "p2 = MaxPooling2D((2, 2)) (c2)\n",
        "\n",
        "c3 = Conv2D(32, (3, 3), activation='relu', padding='same') (p2)\n",
        "c3 = Conv2D(32, (3, 3), activation='relu', padding='same') (c3)\n",
        "p3 = MaxPooling2D((2, 2)) (c3)\n",
        "\n",
        "\n",
        "c5 = Conv2D(64, (3, 3), activation='relu', padding='same') (p3)\n",
        "c5 = Conv2D(64, (3, 3), activation='relu', padding='same') (c5)\n",
        "p5 = MaxPooling2D(pool_size=(2, 2)) (c5)\n",
        "\n",
        "c55 = Conv2D(128, (3, 3), activation='relu', padding='same') (p5)\n",
        "c55 = Conv2D(128, (3, 3), activation='relu', padding='same') (c55)\n",
        "\n",
        "u6 = Conv2DTranspose(64, (2, 2), strides=(2, 2), padding='same') (c55)\n",
        "u6 = concatenate([u6, c5])\n",
        "c6 = Conv2D(64, (3, 3), activation='relu', padding='same') (u6)\n",
        "c6 = Conv2D(64, (3, 3), activation='relu', padding='same') (c6)\n",
        "\n",
        "\n",
        "u7 = Conv2DTranspose(32, (2, 2), strides=(2, 2), padding='same') (c6)\n",
        "u7 = concatenate([u7, c3])\n",
        "c7 = Conv2D(32, (3, 3), activation='relu', padding='same') (u7)\n",
        "c7 = Conv2D(32, (3, 3), activation='relu', padding='same') (c7)\n",
        "\n",
        "u8 = Conv2DTranspose(16, (2, 2), strides=(2, 2), padding='same') (c7)\n",
        "u8 = concatenate([u8, c2])\n",
        "c8 = Conv2D(16, (3, 3), activation='relu', padding='same') (u8)\n",
        "c8 = Conv2D(16, (3, 3), activation='relu', padding='same') (c8)\n",
        "\n",
        "u9 = Conv2DTranspose(8, (2, 2), strides=(2, 2), padding='same') (c8)\n",
        "u9 = concatenate([u9, c1], axis=3)\n",
        "c9 = Conv2D(8, (3, 3), activation='relu', padding='same') (u9)\n",
        "c9 = Conv2D(8, (3, 3), activation='relu', padding='same') (c9)\n",
        "\n",
        "output_img = Conv2D(1, (1, 1)) (c9)\n",
        "subtracted = keras.layers.Subtract()([inputs, output_img])\n",
        "\n",
        "\n",
        "model = Model(inputs=[inputs], outputs=[subtracted])\n",
        "model.compile(optimizer='adam', loss='mse', metrics=[tf_psnr])\n",
        "\n"
      ],
      "execution_count": 5,
      "outputs": [
        {
          "output_type": "stream",
          "text": [
            "WARNING: Logging before flag parsing goes to stderr.\n",
            "W0829 23:39:03.938853 140281081354112 deprecation_wrapper.py:119] From /usr/local/lib/python3.6/dist-packages/keras/backend/tensorflow_backend.py:66: The name tf.get_default_graph is deprecated. Please use tf.compat.v1.get_default_graph instead.\n",
            "\n",
            "W0829 23:39:04.030213 140281081354112 deprecation_wrapper.py:119] From /usr/local/lib/python3.6/dist-packages/keras/backend/tensorflow_backend.py:541: The name tf.placeholder is deprecated. Please use tf.compat.v1.placeholder instead.\n",
            "\n",
            "W0829 23:39:04.050284 140281081354112 deprecation_wrapper.py:119] From /usr/local/lib/python3.6/dist-packages/keras/backend/tensorflow_backend.py:4432: The name tf.random_uniform is deprecated. Please use tf.random.uniform instead.\n",
            "\n",
            "W0829 23:39:04.109670 140281081354112 deprecation_wrapper.py:119] From /usr/local/lib/python3.6/dist-packages/keras/backend/tensorflow_backend.py:4267: The name tf.nn.max_pool is deprecated. Please use tf.nn.max_pool2d instead.\n",
            "\n",
            "W0829 23:39:04.533426 140281081354112 deprecation_wrapper.py:119] From /usr/local/lib/python3.6/dist-packages/keras/optimizers.py:793: The name tf.train.Optimizer is deprecated. Please use tf.compat.v1.train.Optimizer instead.\n",
            "\n",
            "W0829 23:39:04.584631 140281081354112 deprecation.py:323] From /usr/local/lib/python3.6/dist-packages/tensorflow/python/ops/losses/losses_impl.py:121: add_dispatch_support.<locals>.wrapper (from tensorflow.python.ops.array_ops) is deprecated and will be removed in a future version.\n",
            "Instructions for updating:\n",
            "Use tf.where in 2.0, which has the same broadcast rule as np.where\n"
          ],
          "name": "stderr"
        }
      ]
    },
    {
      "cell_type": "code",
      "metadata": {
        "id": "RjtnKKkg6Icv",
        "colab_type": "code",
        "outputId": "caab899e-a276-43d7-f45e-dc41261a15a9",
        "colab": {
          "base_uri": "https://localhost:8080/",
          "height": 469
        }
      },
      "source": [
        "history = model.fit(sparseview_60_train, ndct_train, validation_split=0.05, batch_size=30, epochs=10)\n"
      ],
      "execution_count": 6,
      "outputs": [
        {
          "output_type": "stream",
          "text": [
            "W0829 23:39:10.005443 140281081354112 deprecation_wrapper.py:119] From /usr/local/lib/python3.6/dist-packages/keras/backend/tensorflow_backend.py:1033: The name tf.assign_add is deprecated. Please use tf.compat.v1.assign_add instead.\n",
            "\n",
            "W0829 23:39:10.607029 140281081354112 deprecation_wrapper.py:119] From /usr/local/lib/python3.6/dist-packages/keras/backend/tensorflow_backend.py:1020: The name tf.assign is deprecated. Please use tf.compat.v1.assign instead.\n",
            "\n"
          ],
          "name": "stderr"
        },
        {
          "output_type": "stream",
          "text": [
            "Train on 3420 samples, validate on 180 samples\n",
            "Epoch 1/10\n",
            "3420/3420 [==============================] - 136s 40ms/step - loss: 8.1377e-04 - tf_psnr: 31.1055 - val_loss: 4.5158e-04 - val_tf_psnr: 33.4559\n",
            "Epoch 2/10\n",
            "3420/3420 [==============================] - 124s 36ms/step - loss: 4.6816e-04 - tf_psnr: 33.3194 - val_loss: 3.3213e-04 - val_tf_psnr: 34.8100\n",
            "Epoch 3/10\n",
            "3420/3420 [==============================] - 124s 36ms/step - loss: 3.5722e-04 - tf_psnr: 34.4833 - val_loss: 2.7752e-04 - val_tf_psnr: 35.6039\n",
            "Epoch 4/10\n",
            "3420/3420 [==============================] - 124s 36ms/step - loss: 2.9628e-04 - tf_psnr: 35.2917 - val_loss: 2.3712e-04 - val_tf_psnr: 36.3026\n",
            "Epoch 5/10\n",
            "3420/3420 [==============================] - 124s 36ms/step - loss: 2.6356e-04 - tf_psnr: 35.7986 - val_loss: 2.2138e-04 - val_tf_psnr: 36.6039\n",
            "Epoch 6/10\n",
            "3420/3420 [==============================] - 124s 36ms/step - loss: 2.4247e-04 - tf_psnr: 36.1602 - val_loss: 2.1180e-04 - val_tf_psnr: 36.7958\n",
            "Epoch 7/10\n",
            "3420/3420 [==============================] - 124s 36ms/step - loss: 2.2882e-04 - tf_psnr: 36.4152 - val_loss: 1.9986e-04 - val_tf_psnr: 37.0584\n",
            "Epoch 8/10\n",
            "3420/3420 [==============================] - 124s 36ms/step - loss: 2.1630e-04 - tf_psnr: 36.6564 - val_loss: 1.9020e-04 - val_tf_psnr: 37.2749\n",
            "Epoch 9/10\n",
            "3420/3420 [==============================] - 124s 36ms/step - loss: 2.0840e-04 - tf_psnr: 36.8182 - val_loss: 1.9478e-04 - val_tf_psnr: 37.1907\n",
            "Epoch 10/10\n",
            "3420/3420 [==============================] - 124s 36ms/step - loss: 1.9933e-04 - tf_psnr: 37.0117 - val_loss: 1.8460e-04 - val_tf_psnr: 37.4014\n"
          ],
          "name": "stdout"
        }
      ]
    },
    {
      "cell_type": "code",
      "metadata": {
        "id": "_BmuxnBu6IyX",
        "colab_type": "code",
        "colab": {
          "base_uri": "https://localhost:8080/",
          "height": 35
        },
        "outputId": "5e2e6a4e-1548-4ead-df1c-83d4d1d8bc62"
      },
      "source": [
        "reconstructed = model.predict(sparseview_60_test)\n",
        "psnr = cal_psnr(ndct_test, reconstructed)\n",
        "print(\"psnr 10 epochs.....\",psnr)"
      ],
      "execution_count": 7,
      "outputs": [
        {
          "output_type": "stream",
          "text": [
            "psnr 10 epochs..... 36.27659038874948\n"
          ],
          "name": "stdout"
        }
      ]
    },
    {
      "cell_type": "markdown",
      "metadata": {
        "id": "jI2428GF9eUE",
        "colab_type": "text"
      },
      "source": [
        "\n",
        "\n",
        "```\n",
        "psnr 10 epochs..... 36.27659038874948\n",
        "```\n",
        "\n"
      ]
    },
    {
      "cell_type": "code",
      "metadata": {
        "id": "bjzmdYAG8wMU",
        "colab_type": "code",
        "colab": {}
      },
      "source": [
        "# import matplotlib.pyplot as plt\n",
        "# acc = history.history['tf_psnr']\n",
        "# val_acc = history.history['tf_psnr']\n",
        "# loss = history.history['loss']\n",
        "# val_loss = history.history['val_loss']\n",
        "\n",
        "# epochs = range(len(acc))\n",
        "\n",
        "# plt.plot(epochs, acc, 'r', label='Training accuracy')\n",
        "# plt.plot(epochs, val_acc, 'b', label='Validation accuracy')\n",
        "# plt.title('Training and validation accuracy')\n",
        "# plt.legend(loc=0)\n",
        "# plt.figure()\n",
        "\n",
        "\n",
        "# plt.show()"
      ],
      "execution_count": 0,
      "outputs": []
    },
    {
      "cell_type": "markdown",
      "metadata": {
        "id": "Oll3dw3_7yF9",
        "colab_type": "text"
      },
      "source": [
        "removed u9 = concatenate([u9, c1], axis=3) axis=3 from above code"
      ]
    },
    {
      "cell_type": "code",
      "metadata": {
        "id": "T-ytvBWbx_Qg",
        "colab_type": "code",
        "colab": {}
      },
      "source": [
        "inputs = Input((None, None,1))\n",
        "\n",
        "c1 = Conv2D(8, (3, 3), activation='relu', padding='same') (inputs)\n",
        "c1 = Conv2D(8, (3, 3), activation='relu', padding='same') (c1)\n",
        "p1 = MaxPooling2D((2, 2)) (c1)\n",
        "\n",
        "c2 = Conv2D(16, (3, 3), activation='relu', padding='same') (p1)\n",
        "c2 = Conv2D(16, (3, 3), activation='relu', padding='same') (c2)\n",
        "p2 = MaxPooling2D((2, 2)) (c2)\n",
        "\n",
        "c3 = Conv2D(32, (3, 3), activation='relu', padding='same') (p2)\n",
        "c3 = Conv2D(32, (3, 3), activation='relu', padding='same') (c3)\n",
        "p3 = MaxPooling2D((2, 2)) (c3)\n",
        "\n",
        "\n",
        "c5 = Conv2D(64, (3, 3), activation='relu', padding='same') (p3)\n",
        "c5 = Conv2D(64, (3, 3), activation='relu', padding='same') (c5)\n",
        "p5 = MaxPooling2D(pool_size=(2, 2)) (c5)\n",
        "\n",
        "c55 = Conv2D(128, (3, 3), activation='relu', padding='same') (p5)\n",
        "c55 = Conv2D(128, (3, 3), activation='relu', padding='same') (c55)\n",
        "\n",
        "u6 = Conv2DTranspose(64, (2, 2), strides=(2, 2), padding='same') (c55)\n",
        "u6 = concatenate([u6, c5])\n",
        "c6 = Conv2D(64, (3, 3), activation='relu', padding='same') (u6)\n",
        "c6 = Conv2D(64, (3, 3), activation='relu', padding='same') (c6)\n",
        "\n",
        "\n",
        "u7 = Conv2DTranspose(32, (2, 2), strides=(2, 2), padding='same') (c6)\n",
        "u7 = concatenate([u7, c3])\n",
        "c7 = Conv2D(32, (3, 3), activation='relu', padding='same') (u7)\n",
        "c7 = Conv2D(32, (3, 3), activation='relu', padding='same') (c7)\n",
        "\n",
        "u8 = Conv2DTranspose(16, (2, 2), strides=(2, 2), padding='same') (c7)\n",
        "u8 = concatenate([u8, c2])\n",
        "c8 = Conv2D(16, (3, 3), activation='relu', padding='same') (u8)\n",
        "c8 = Conv2D(16, (3, 3), activation='relu', padding='same') (c8)\n",
        "\n",
        "u9 = Conv2DTranspose(8, (2, 2), strides=(2, 2), padding='same') (c8)\n",
        "u9 = concatenate([u9, c1])\n",
        "c9 = Conv2D(8, (3, 3), activation='relu', padding='same') (u9)\n",
        "c9 = Conv2D(8, (3, 3), activation='relu', padding='same') (c9)\n",
        "\n",
        "output_img = Conv2D(1, (1, 1)) (c9)\n",
        "subtracted = keras.layers.Subtract()([inputs, output_img])\n",
        "\n",
        "\n",
        "model = Model(inputs=[inputs], outputs=[subtracted])\n",
        "model.compile(optimizer='adam', loss='mse', metrics=[tf_psnr])\n",
        "\n"
      ],
      "execution_count": 0,
      "outputs": []
    },
    {
      "cell_type": "code",
      "metadata": {
        "id": "k1WQkw8Bxzln",
        "colab_type": "code",
        "colab": {}
      },
      "source": [
        "es = keras.callbacks.EarlyStopping(monitor='val_loss',\n",
        "                              min_delta=0,\n",
        "                              patience=4,\n",
        "                              verbose=0, mode='auto')"
      ],
      "execution_count": 0,
      "outputs": []
    },
    {
      "cell_type": "code",
      "metadata": {
        "id": "3FanljRHyGZo",
        "colab_type": "code",
        "colab": {
          "base_uri": "https://localhost:8080/",
          "height": 400
        },
        "outputId": "c3cc4617-dc4c-44c3-c33c-eb69ecbad9df"
      },
      "source": [
        "history = model.fit(sparseview_60_train, ndct_train, validation_split=0.05, batch_size=30, epochs=10, callbacks =[es])"
      ],
      "execution_count": 20,
      "outputs": [
        {
          "output_type": "stream",
          "text": [
            "Train on 3420 samples, validate on 180 samples\n",
            "Epoch 1/10\n",
            "3420/3420 [==============================] - 125s 36ms/step - loss: 9.9512e-04 - tf_psnr: 30.2931 - val_loss: 4.6596e-04 - val_tf_psnr: 33.3267\n",
            "Epoch 2/10\n",
            "3420/3420 [==============================] - 124s 36ms/step - loss: 5.3171e-04 - tf_psnr: 32.7659 - val_loss: 3.6081e-04 - val_tf_psnr: 34.4359\n",
            "Epoch 3/10\n",
            "3420/3420 [==============================] - 124s 36ms/step - loss: 3.9935e-04 - tf_psnr: 34.0164 - val_loss: 2.9098e-04 - val_tf_psnr: 35.3849\n",
            "Epoch 4/10\n",
            "3420/3420 [==============================] - 124s 36ms/step - loss: 3.1959e-04 - tf_psnr: 34.9649 - val_loss: 2.6096e-04 - val_tf_psnr: 35.8915\n",
            "Epoch 5/10\n",
            "3420/3420 [==============================] - 124s 36ms/step - loss: 2.8149e-04 - tf_psnr: 35.5132 - val_loss: 2.3423e-04 - val_tf_psnr: 36.3664\n",
            "Epoch 6/10\n",
            "3420/3420 [==============================] - 124s 36ms/step - loss: 2.5900e-04 - tf_psnr: 35.8787 - val_loss: 2.3239e-04 - val_tf_psnr: 36.3950\n",
            "Epoch 7/10\n",
            "3420/3420 [==============================] - 125s 36ms/step - loss: 2.4298e-04 - tf_psnr: 36.1535 - val_loss: 2.0895e-04 - val_tf_psnr: 36.8571\n",
            "Epoch 8/10\n",
            "3420/3420 [==============================] - 124s 36ms/step - loss: 2.2816e-04 - tf_psnr: 36.4258 - val_loss: 2.0449e-04 - val_tf_psnr: 36.9485\n",
            "Epoch 9/10\n",
            "3420/3420 [==============================] - 124s 36ms/step - loss: 2.2059e-04 - tf_psnr: 36.5788 - val_loss: 2.1040e-04 - val_tf_psnr: 36.8259\n",
            "Epoch 10/10\n",
            "3420/3420 [==============================] - 124s 36ms/step - loss: 2.1269e-04 - tf_psnr: 36.7351 - val_loss: 1.9381e-04 - val_tf_psnr: 37.1951\n"
          ],
          "name": "stdout"
        }
      ]
    },
    {
      "cell_type": "code",
      "metadata": {
        "id": "RfRmalUIx-IZ",
        "colab_type": "code",
        "colab": {
          "base_uri": "https://localhost:8080/",
          "height": 35
        },
        "outputId": "b735c574-f023-4164-b5ca-fd81de98f8bd"
      },
      "source": [
        "reconstructed = model.predict(sparseview_60_test)\n",
        "psnr = cal_psnr(ndct_test, reconstructed)\n",
        "print(\"psnr 10 epochs.....\",psnr)"
      ],
      "execution_count": 21,
      "outputs": [
        {
          "output_type": "stream",
          "text": [
            "psnr 10 epochs..... 35.96423489084623\n"
          ],
          "name": "stdout"
        }
      ]
    },
    {
      "cell_type": "markdown",
      "metadata": {
        "id": "hOhjo90o6rWM",
        "colab_type": "text"
      },
      "source": [
        "psnr 10 epochs..... 35.96423489084623"
      ]
    },
    {
      "cell_type": "code",
      "metadata": {
        "id": "wHOWlQLy64io",
        "colab_type": "code",
        "colab": {
          "base_uri": "https://localhost:8080/",
          "height": 708
        },
        "outputId": "bf5a9f46-774d-4216-bf10-fe525ec95884"
      },
      "source": [
        "history.history"
      ],
      "execution_count": 23,
      "outputs": [
        {
          "output_type": "execute_result",
          "data": {
            "text/plain": [
              "{'loss': [0.0009951202547087807,\n",
              "  0.0005317077565562437,\n",
              "  0.0003993523380159515,\n",
              "  0.0003195898137627202,\n",
              "  0.00028148848459271615,\n",
              "  0.00025900416936533395,\n",
              "  0.00024297617423335875,\n",
              "  0.00022816290137390687,\n",
              "  0.000220588600904305,\n",
              "  0.00021269110648222922],\n",
              " 'tf_psnr': [30.29309051915219,\n",
              "  32.76588577136659,\n",
              "  34.016386801736395,\n",
              "  34.964937712016855,\n",
              "  35.51316247906601,\n",
              "  35.878699821338316,\n",
              "  36.15347979361551,\n",
              "  36.425833551507246,\n",
              "  36.578770654243336,\n",
              "  36.73507412692957],\n",
              " 'val_loss': [0.00046595764191200334,\n",
              "  0.0003608126911179473,\n",
              "  0.0002909755955139796,\n",
              "  0.0002609632598857085,\n",
              "  0.000234233244555071,\n",
              "  0.00023238711582962424,\n",
              "  0.000208947460729784,\n",
              "  0.00020448672876227647,\n",
              "  0.00021040125526875877,\n",
              "  0.00019381168870798623],\n",
              " 'val_tf_psnr': [33.326686223347984,\n",
              "  34.435900370279946,\n",
              "  35.38490676879883,\n",
              "  35.89150619506836,\n",
              "  36.36641883850098,\n",
              "  36.39499282836914,\n",
              "  36.85707155863444,\n",
              "  36.9484806060791,\n",
              "  36.82589149475098,\n",
              "  37.19511604309082]}"
            ]
          },
          "metadata": {
            "tags": []
          },
          "execution_count": 23
        }
      ]
    },
    {
      "cell_type": "code",
      "metadata": {
        "id": "UUbeczOg6PK8",
        "colab_type": "code",
        "colab": {
          "base_uri": "https://localhost:8080/",
          "height": 574
        },
        "outputId": "37195c46-2d0b-4b6a-ce7f-59043587a13b"
      },
      "source": [
        "# Plot training & validation accuracy values\n",
        "plt.plot(history.history['tf_psnr'])\n",
        "plt.plot(history.history['val_tf_psnr'])\n",
        "plt.title('Model accuracy')\n",
        "plt.ylabel('Accuracy')\n",
        "plt.xlabel('Epoch')\n",
        "plt.legend(['Train', 'Test'], loc='upper left')\n",
        "plt.show()\n",
        "\n",
        "# Plot training & validation loss values\n",
        "plt.plot(history.history['loss'])\n",
        "plt.plot(history.history['val_loss'])\n",
        "plt.title('Model loss')\n",
        "plt.ylabel('Loss')\n",
        "plt.xlabel('Epoch')\n",
        "plt.legend(['Train', 'Test'], loc='upper left')\n",
        "plt.show()"
      ],
      "execution_count": 25,
      "outputs": [
        {
          "output_type": "display_data",
          "data": {
            "image/png": "[encoded data removed]",
            "text/plain": [
              "<Figure size 432x288 with 1 Axes>"
            ]
          },
          "metadata": {
            "tags": []
          }
        },
        {
          "output_type": "display_data",
          "data": {
            "image/png": "[encoded data removed]",
            "text/plain": [
              "<Figure size 432x288 with 1 Axes>"
            ]
          },
          "metadata": {
            "tags": []
          }
        }
      ]
    },
    {
      "cell_type": "markdown",
      "metadata": {
        "id": "vPsC3_4Mm1WR",
        "colab_type": "text"
      },
      "source": [
        "UNet model with batch normalization. Trying to understand why batch normalization degrading the performance.\n",
        "\n",
        "\n",
        "\n"
      ]
    },
    {
      "cell_type": "code",
      "metadata": {
        "id": "i4BOUprimzui",
        "colab_type": "code",
        "colab": {}
      },
      "source": [
        "inputs = Input((None, None,1))\n",
        "c1 = Conv2D(8, (3, 3), padding='same') (inputs)\n",
        "c1 = BatchNormalization()(c1)\n",
        "c1 = Activation('relu')(c1)\n",
        "\n",
        "c1 = Conv2D(8, (3, 3), padding='same') (c1)\n",
        "c1 = BatchNormalization()(c1)\n",
        "c1 = Activation('relu')(c1)\n",
        "\n",
        "p1 = MaxPooling2D((2, 2)) (c1)\n",
        "\n",
        "c2 = Conv2D(16, (3, 3), padding='same') (p1)\n",
        "c2 = BatchNormalization()(c2)\n",
        "c2 = Activation('relu')(c2)\n",
        "\n",
        "c2 = Conv2D(16, (3, 3), padding='same') (c2)\n",
        "c2 = BatchNormalization()(c2)\n",
        "c2 = Activation('relu')(c2)\n",
        "\n",
        "p2 = MaxPooling2D((2, 2)) (c2)\n",
        "\n",
        "c3 = Conv2D(32, (3, 3), padding='same') (p2)\n",
        "c3 = BatchNormalization()(c3)\n",
        "c3 = Activation('relu')(c3)\n",
        "\n",
        "c3 = Conv2D(32, (3, 3), padding='same') (c3)\n",
        "c3 = BatchNormalization()(c3)\n",
        "c3 = Activation('relu')(c3)\n",
        "\n",
        "p3 = MaxPooling2D((2, 2)) (c3)\n",
        "\n",
        "c5 = Conv2D(64, (3, 3), padding='same') (p3)\n",
        "c5 = BatchNormalization()(c5)\n",
        "c5 = Activation('relu')(c5)\n",
        "\n",
        "c5 = Conv2D(64, (3, 3), padding='same') (c5)\n",
        "c5 = BatchNormalization()(c5)\n",
        "c5 = Activation('relu')(c5)\n",
        "\n",
        "p5 = MaxPooling2D(pool_size=(2, 2)) (c5)\n",
        "\n",
        "c55 = Conv2D(128, (3, 3), padding='same') (p5)\n",
        "c55 = BatchNormalization()(c55)\n",
        "c55 = Activation('relu')(c55)\n",
        "\n",
        "c55 = Conv2D(128, (3, 3), padding='same') (c55)\n",
        "c55 = BatchNormalization()(c55)\n",
        "c55 = Activation('relu')(c55)\n",
        "\n",
        "u6 = Conv2DTranspose(64, (2, 2), strides=(2, 2), padding='same') (c55)\n",
        "u6 = concatenate([u6, c5])\n",
        "\n",
        "c6 = Conv2D(64, (3, 3), padding='same') (u6)\n",
        "c6 = BatchNormalization()(c6)\n",
        "c6 = Activation('relu')(c6)\n",
        "\n",
        "c6 = Conv2D(64, (3, 3), padding='same') (c6)\n",
        "c6 = BatchNormalization()(c6)\n",
        "c6 = Activation('relu')(c6)\n",
        "\n",
        "u7 = Conv2DTranspose(32, (2, 2), strides=(2, 2), padding='same') (c6)\n",
        "u7 = concatenate([u7, c3])\n",
        "\n",
        "c7 = Conv2D(32, (3, 3), padding='same') (u7)\n",
        "c7 = BatchNormalization()(c7)\n",
        "c7 = Activation('relu')(c7)\n",
        "\n",
        "c7 = Conv2D(32, (3, 3), padding='same') (c7)\n",
        "c7 = BatchNormalization()(c7)\n",
        "c7 = Activation('relu')(c7)\n",
        "\n",
        "u8 = Conv2DTranspose(16, (2, 2), strides=(2, 2), padding='same') (c7)\n",
        "u8 = concatenate([u8, c2])\n",
        "\n",
        "c8 = Conv2D(16, (3, 3), padding='same') (u8)\n",
        "c8 = BatchNormalization()(c8)\n",
        "c8 = Activation('relu')(c8)\n",
        "\n",
        "c8 = Conv2D(16, (3, 3), padding='same') (c8)\n",
        "c8 = BatchNormalization()(c8)\n",
        "c8 = Activation('relu')(c8)\n",
        "\n",
        "u9 = Conv2DTranspose(8, (2, 2), strides=(2, 2), padding='same') (c8)\n",
        "u9 = concatenate([u9, c1])\n",
        "\n",
        "c9 = Conv2D(8, (3, 3), padding='same') (u9)\n",
        "c9 = BatchNormalization()(c9)\n",
        "c9 = Activation('relu')(c9)\n",
        "\n",
        "c9 = Conv2D(8, (3, 3), padding='same') (c9)\n",
        "c9 = BatchNormalization()(c9)\n",
        "c9 = Activation('relu')(c9)\n",
        "\n",
        "output_img = Conv2D(1, (1, 1)) (c9)\n",
        "subtracted = keras.layers.Subtract()([inputs, output_img])\n",
        "\n",
        "\n",
        "unet_bn_model = Model(inputs=[inputs], outputs=[subtracted])\n",
        "unet_bn_model.compile(optimizer='adam', loss='mse', metrics=[tf_psnr])\n"
      ],
      "execution_count": 0,
      "outputs": []
    },
    {
      "cell_type": "code",
      "metadata": {
        "id": "WN7Lj9uJm60J",
        "colab_type": "code",
        "outputId": "7fb73c49-354f-4705-cbbf-449189175e94",
        "colab": {
          "base_uri": "https://localhost:8080/",
          "height": 417
        }
      },
      "source": [
        "unet_bn_model.fit(sparseview_60_train, ndct_train, validation_split=0.05, batch_size=30, epochs=10)\n",
        "\n"
      ],
      "execution_count": 0,
      "outputs": [
        {
          "output_type": "stream",
          "text": [
            "Train on 3420 samples, validate on 180 samples\n",
            "Epoch 1/10\n",
            "3420/3420 [==============================] - 111s 33ms/step - loss: 0.0325 - tf_psnr: 20.9350 - val_loss: 0.0036 - val_tf_psnr: 24.4704\n",
            "Epoch 2/10\n",
            "3420/3420 [==============================] - 95s 28ms/step - loss: 0.0023 - tf_psnr: 26.4167 - val_loss: 0.0063 - val_tf_psnr: 23.8599\n",
            "Epoch 3/10\n",
            "3420/3420 [==============================] - 95s 28ms/step - loss: 0.0017 - tf_psnr: 27.6828 - val_loss: 0.0013 - val_tf_psnr: 28.8096\n",
            "Epoch 4/10\n",
            "3420/3420 [==============================] - 95s 28ms/step - loss: 0.0014 - tf_psnr: 28.5267 - val_loss: 0.0011 - val_tf_psnr: 29.7070\n",
            "Epoch 5/10\n",
            "3420/3420 [==============================] - 94s 28ms/step - loss: 0.0012 - tf_psnr: 29.0620 - val_loss: 9.8188e-04 - val_tf_psnr: 30.1065\n",
            "Epoch 6/10\n",
            "3420/3420 [==============================] - 95s 28ms/step - loss: 0.0011 - tf_psnr: 29.5059 - val_loss: 9.4077e-04 - val_tf_psnr: 30.2829\n",
            "Epoch 7/10\n",
            "3420/3420 [==============================] - 95s 28ms/step - loss: 0.0010 - tf_psnr: 29.8081 - val_loss: 9.7144e-04 - val_tf_psnr: 30.3182\n",
            "Epoch 8/10\n",
            "3420/3420 [==============================] - 95s 28ms/step - loss: 9.6282e-04 - tf_psnr: 30.1717 - val_loss: 8.4140e-04 - val_tf_psnr: 30.7777\n",
            "Epoch 9/10\n",
            "3420/3420 [==============================] - 95s 28ms/step - loss: 9.1091e-04 - tf_psnr: 30.4139 - val_loss: 7.6547e-04 - val_tf_psnr: 31.2021\n",
            "Epoch 10/10\n",
            "3420/3420 [==============================] - 95s 28ms/step - loss: 8.3407e-04 - tf_psnr: 30.7947 - val_loss: 6.9627e-04 - val_tf_psnr: 31.5843\n"
          ],
          "name": "stdout"
        },
        {
          "output_type": "execute_result",
          "data": {
            "text/plain": [
              "<keras.callbacks.History at 0x7fd48926fd30>"
            ]
          },
          "metadata": {
            "tags": []
          },
          "execution_count": 15
        }
      ]
    },
    {
      "cell_type": "code",
      "metadata": {
        "id": "WohYhRwzuDOL",
        "colab_type": "code",
        "outputId": "e0d472e5-8a3b-4bff-b4a2-65e71713976f",
        "colab": {
          "base_uri": "https://localhost:8080/",
          "height": 35
        }
      },
      "source": [
        "reconstructed = unet_bn_model.predict(sparseview_60_test)\n",
        "psnr = cal_psnr(ndct_test, reconstructed)\n",
        "print(\"psnr 10 epochs.....\",psnr)\n"
      ],
      "execution_count": 0,
      "outputs": [
        {
          "output_type": "stream",
          "text": [
            "psnr 10 epochs..... 29.920829251312444\n"
          ],
          "name": "stdout"
        }
      ]
    },
    {
      "cell_type": "markdown",
      "metadata": {
        "id": "hVF3xzsH1OpL",
        "colab_type": "text"
      },
      "source": [
        "psnr 10 epochs..... 29.920829251312444"
      ]
    },
    {
      "cell_type": "code",
      "metadata": {
        "id": "TXUP0L-l4AWY",
        "colab_type": "code",
        "colab": {}
      },
      "source": [
        ""
      ],
      "execution_count": 0,
      "outputs": []
    },
    {
      "cell_type": "code",
      "metadata": {
        "id": "rB7kPinH4FcD",
        "colab_type": "code",
        "colab": {
          "base_uri": "https://localhost:8080/",
          "height": 72
        },
        "outputId": "71e8060c-f20d-44ff-edc8-2f2108510699"
      },
      "source": [
        "inputs = Input((None, None,1))\n",
        "c1 = Conv2D(8, (3, 3), padding='same') (inputs)\n",
        "c1 = BatchNormalization(axis= -1)(c1)\n",
        "c1 = Activation('relu')(c1)\n",
        "\n",
        "c1 = Conv2D(8, (3, 3), padding='same') (c1)\n",
        "c1 = BatchNormalization(axis=-1)(c1)\n",
        "c1 = Activation('relu')(c1)\n",
        "\n",
        "p1 = MaxPooling2D((2, 2)) (c1)\n",
        "\n",
        "c2 = Conv2D(16, (3, 3), padding='same') (p1)\n",
        "c2 = BatchNormalization(axis=-1)(c2)\n",
        "c2 = Activation('relu')(c2)\n",
        "\n",
        "c2 = Conv2D(16, (3, 3), padding='same') (c2)\n",
        "c2 = BatchNormalization(axis=-1)(c2)\n",
        "c2 = Activation('relu')(c2)\n",
        "\n",
        "p2 = MaxPooling2D((2, 2)) (c2)\n",
        "\n",
        "c3 = Conv2D(32, (3, 3), padding='same') (p2)\n",
        "c3 = BatchNormalization(axis=-1)(c3)\n",
        "c3 = Activation('relu')(c3)\n",
        "\n",
        "c3 = Conv2D(32, (3, 3), padding='same') (c3)\n",
        "c3 = BatchNormalization(axis=-1)(c3)\n",
        "c3 = Activation('relu')(c3)\n",
        "\n",
        "p3 = MaxPooling2D((2, 2)) (c3)\n",
        "\n",
        "c5 = Conv2D(64, (3, 3), padding='same') (p3)\n",
        "c5 = BatchNormalization(axis=-1)(c5)\n",
        "c5 = Activation('relu')(c5)\n",
        "\n",
        "c5 = Conv2D(64, (3, 3), padding='same') (c5)\n",
        "c5 = BatchNormalization(axis=-1)(c5)\n",
        "c5 = Activation('relu')(c5)\n",
        "\n",
        "p5 = MaxPooling2D(pool_size=(2, 2)) (c5)\n",
        "\n",
        "c55 = Conv2D(128, (3, 3), padding='same') (p5)\n",
        "c55 = BatchNormalization(axis=-1)(c55)\n",
        "c55 = Activation('relu')(c55)\n",
        "\n",
        "c55 = Conv2D(128, (3, 3), padding='same') (c55)\n",
        "c55 = BatchNormalization(axis=-1)(c55)\n",
        "c55 = Activation('relu')(c55)\n",
        "\n",
        "u6 = Conv2DTranspose(64, (2, 2), strides=(2, 2), padding='same') (c55)\n",
        "u6 = concatenate([u6, c5])\n",
        "\n",
        "c6 = Conv2D(64, (3, 3), padding='same') (u6)\n",
        "c6 = BatchNormalization(axis=-1)(c6)\n",
        "c6 = Activation('relu')(c6)\n",
        "\n",
        "c6 = Conv2D(64, (3, 3), padding='same') (c6)\n",
        "c6 = BatchNormalization(axis=-1)(c6)\n",
        "c6 = Activation('relu')(c6)\n",
        "\n",
        "u7 = Conv2DTranspose(32, (2, 2), strides=(2, 2), padding='same') (c6)\n",
        "u7 = concatenate([u7, c3])\n",
        "\n",
        "c7 = Conv2D(32, (3, 3), padding='same') (u7)\n",
        "c7 = BatchNormalization(axis=-1)(c7)\n",
        "c7 = Activation('relu')(c7)\n",
        "\n",
        "c7 = Conv2D(32, (3, 3), padding='same') (c7)\n",
        "c7 = BatchNormalization(axis=-1)(c7)\n",
        "c7 = Activation('relu')(c7)\n",
        "\n",
        "u8 = Conv2DTranspose(16, (2, 2), strides=(2, 2), padding='same') (c7)\n",
        "u8 = concatenate([u8, c2])\n",
        "\n",
        "c8 = Conv2D(16, (3, 3), padding='same') (u8)\n",
        "c8 = BatchNormalization(axis=-1)(c8)\n",
        "c8 = Activation('relu')(c8)\n",
        "\n",
        "c8 = Conv2D(16, (3, 3), padding='same') (c8)\n",
        "c8 = BatchNormalization(axis=-1)(c8)\n",
        "c8 = Activation('relu')(c8)\n",
        "\n",
        "u9 = Conv2DTranspose(8, (2, 2), strides=(2, 2), padding='same') (c8)\n",
        "u9 = concatenate([u9, c1])\n",
        "\n",
        "c9 = Conv2D(8, (3, 3), padding='same') (u9)\n",
        "c9 = BatchNormalization(axis=-1)(c9)\n",
        "c9 = Activation('relu')(c9)\n",
        "\n",
        "c9 = Conv2D(8, (3, 3), padding='same') (c9)\n",
        "c9 = BatchNormalization(axis=-1)(c9)\n",
        "c9 = Activation('relu')(c9)\n",
        "\n",
        "output_img = Conv2D(1, (1, 1)) (c9)\n",
        "subtracted = keras.layers.Subtract()([inputs, output_img])\n",
        "\n",
        "\n",
        "unet_bn_model = Model(inputs=[inputs], outputs=[subtracted])\n",
        "unet_bn_model.compile(optimizer='adam', loss='mse', metrics=[tf_psnr])\n"
      ],
      "execution_count": 26,
      "outputs": [
        {
          "output_type": "stream",
          "text": [
            "W0830 00:32:36.586039 140281081354112 deprecation_wrapper.py:119] From /usr/local/lib/python3.6/dist-packages/keras/backend/tensorflow_backend.py:2041: The name tf.nn.fused_batch_norm is deprecated. Please use tf.compat.v1.nn.fused_batch_norm instead.\n",
            "\n"
          ],
          "name": "stderr"
        }
      ]
    },
    {
      "cell_type": "code",
      "metadata": {
        "id": "fkBgLH244JT_",
        "colab_type": "code",
        "colab": {
          "base_uri": "https://localhost:8080/",
          "height": 400
        },
        "outputId": "92a968b2-19c2-43f7-fc52-e795e5ecb9f6"
      },
      "source": [
        "history = unet_bn_model.fit(sparseview_60_train, ndct_train, validation_split=0.05, batch_size=30, epochs=10, callbacks =[es])\n"
      ],
      "execution_count": 28,
      "outputs": [
        {
          "output_type": "stream",
          "text": [
            "Train on 3420 samples, validate on 180 samples\n",
            "Epoch 1/10\n",
            "3420/3420 [==============================] - 160s 47ms/step - loss: 0.0280 - tf_psnr: 19.2145 - val_loss: 0.0053 - val_tf_psnr: 22.7428\n",
            "Epoch 2/10\n",
            "3420/3420 [==============================] - 160s 47ms/step - loss: 0.0023 - tf_psnr: 26.4400 - val_loss: 0.0025 - val_tf_psnr: 26.0422\n",
            "Epoch 3/10\n",
            "3420/3420 [==============================] - 159s 47ms/step - loss: 0.0015 - tf_psnr: 28.2326 - val_loss: 0.0015 - val_tf_psnr: 28.3014\n",
            "Epoch 4/10\n",
            "3420/3420 [==============================] - 159s 46ms/step - loss: 0.0012 - tf_psnr: 29.1655 - val_loss: 0.0011 - val_tf_psnr: 29.6414\n",
            "Epoch 5/10\n",
            "3420/3420 [==============================] - 159s 47ms/step - loss: 0.0011 - tf_psnr: 29.6090 - val_loss: 8.7837e-04 - val_tf_psnr: 30.5844\n",
            "Epoch 6/10\n",
            "3420/3420 [==============================] - 159s 46ms/step - loss: 9.8978e-04 - tf_psnr: 30.0504 - val_loss: 8.3561e-04 - val_tf_psnr: 30.8102\n",
            "Epoch 7/10\n",
            "3420/3420 [==============================] - 159s 46ms/step - loss: 9.0624e-04 - tf_psnr: 30.4344 - val_loss: 7.5705e-04 - val_tf_psnr: 31.2407\n",
            "Epoch 8/10\n",
            "3420/3420 [==============================] - 160s 47ms/step - loss: 8.4444e-04 - tf_psnr: 30.7394 - val_loss: 7.1015e-04 - val_tf_psnr: 31.5143\n",
            "Epoch 9/10\n",
            "3420/3420 [==============================] - 159s 47ms/step - loss: 8.3994e-04 - tf_psnr: 30.7773 - val_loss: 6.8687e-04 - val_tf_psnr: 31.6496\n",
            "Epoch 10/10\n",
            "3420/3420 [==============================] - 159s 47ms/step - loss: 7.6028e-04 - tf_psnr: 31.1961 - val_loss: 7.1528e-04 - val_tf_psnr: 31.5708\n"
          ],
          "name": "stdout"
        }
      ]
    },
    {
      "cell_type": "code",
      "metadata": {
        "id": "ln-TnuIj4KUW",
        "colab_type": "code",
        "colab": {
          "base_uri": "https://localhost:8080/",
          "height": 35
        },
        "outputId": "c3b79a12-0baf-478a-a5c9-5a58b91b5c5b"
      },
      "source": [
        "reconstructed = unet_bn_model.predict(sparseview_60_test)\n",
        "psnr = cal_psnr(ndct_test, reconstructed)\n",
        "print(\"psnr 10 epochs.....\",psnr)"
      ],
      "execution_count": 29,
      "outputs": [
        {
          "output_type": "stream",
          "text": [
            "psnr 10 epochs..... 29.02017432591879\n"
          ],
          "name": "stdout"
        }
      ]
    },
    {
      "cell_type": "code",
      "metadata": {
        "id": "ikovhhrQ7rjd",
        "colab_type": "code",
        "colab": {
          "base_uri": "https://localhost:8080/",
          "height": 574
        },
        "outputId": "52112294-85f2-4488-f283-fed33ad197ed"
      },
      "source": [
        "# Plot training & validation accuracy values\n",
        "plt.plot(history.history['tf_psnr'])\n",
        "plt.plot(history.history['val_tf_psnr'])\n",
        "plt.title('Model accuracy')\n",
        "plt.ylabel('Accuracy')\n",
        "plt.xlabel('Epoch')\n",
        "plt.legend(['Train', 'Test'], loc='upper left')\n",
        "plt.show()\n",
        "\n",
        "# Plot training & validation loss values\n",
        "plt.plot(history.history['loss'])\n",
        "plt.plot(history.history['val_loss'])\n",
        "plt.title('Model loss')\n",
        "plt.ylabel('Loss')\n",
        "plt.xlabel('Epoch')\n",
        "plt.legend(['Train', 'Test'], loc='upper left')\n",
        "plt.show()"
      ],
      "execution_count": 30,
      "outputs": [
        {
          "output_type": "display_data",
          "data": {
            "image/png": "[encoded data removed]",
            "text/plain": [
              "<Figure size 432x288 with 1 Axes>"
            ]
          },
          "metadata": {
            "tags": []
          }
        },
        {
          "output_type": "display_data",
          "data": {
            "image/png": "[encoded data removed]",
            "text/plain": [
              "<Figure size 432x288 with 1 Axes>"
            ]
          },
          "metadata": {
            "tags": []
          }
        }
      ]
    }
  ]
}