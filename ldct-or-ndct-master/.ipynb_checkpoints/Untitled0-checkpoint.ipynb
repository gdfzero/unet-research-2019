{
 "cells": [
  {
   "cell_type": "code",
   "execution_count": 0,
   "metadata": {
    "colab": {},
    "colab_type": "code",
    "id": "XA_fe0OegUSA"
   },
   "outputs": [],
   "source": [
    "import os\n",
    "train_ldct_dir = os.path.join(\"CT_data_png/ldct_1e5/train\")\n",
    "print(train_ldct_dir)\n",
    "train_ndct_dir = os.path.join(\"CT_data_png/ldct_1e5/train\")\n",
    "print(train_ndct_dir)\n",
    "\n",
    "train_ldct_names = os.listdir(train_ldct_dir)\n",
    "print(train_ldct_names[:10])\n",
    "\n",
    "train_ndct_names = os.listdir(train_ndct_dir)\n",
    "print(train_ndct_names[:10])"
   ]
  }
 ],
 "metadata": {
  "colab": {
   "name": "Untitled0.ipynb",
   "provenance": [],
   "version": "0.3.2"
  },
  "kernelspec": {
   "display_name": "Python 3",
   "language": "python",
   "name": "python3"
  },
  "language_info": {
   "codemirror_mode": {
    "name": "ipython",
    "version": 3
   },
   "file_extension": ".py",
   "mimetype": "text/x-python",
   "name": "python",
   "nbconvert_exporter": "python",
   "pygments_lexer": "ipython3",
   "version": "3.7.1"
  }
 },
 "nbformat": 4,
 "nbformat_minor": 1
}
